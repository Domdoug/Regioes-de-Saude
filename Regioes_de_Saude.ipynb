{
  "nbformat": 4,
  "nbformat_minor": 0,
  "metadata": {
    "colab": {
      "name": "Welcome To Colaboratory",
      "provenance": [],
      "collapsed_sections": [],
      "toc_visible": true,
      "include_colab_link": true
    },
    "kernelspec": {
      "display_name": "Python 3",
      "name": "python3"
    }
  },
  "cells": [
    {
      "cell_type": "markdown",
      "metadata": {
        "id": "view-in-github",
        "colab_type": "text"
      },
      "source": [
        "<a href=\"https://colab.research.google.com/github/Domdoug/Regioes-de-Saude/blob/master/Regioes_de_Saude.ipynb\" target=\"_parent\"><img src=\"https://colab.research.google.com/assets/colab-badge.svg\" alt=\"Open In Colab\"/></a>"
      ]
    },
    {
      "cell_type": "code",
      "metadata": {
        "id": "IzVSYPYIYryq",
        "colab_type": "code",
        "colab": {}
      },
      "source": [
        "import pandas as pd\n",
        "import numpy as np"
      ],
      "execution_count": 0,
      "outputs": []
    },
    {
      "cell_type": "code",
      "metadata": {
        "id": "P8MEu0WWYsCI",
        "colab_type": "code",
        "colab": {}
      },
      "source": [
        "nome_colunas = ['CD_MUNICIPIO', 'SG_UF', 'NM_REGIAO_SAUDE_ATUAL', 'NM_MUNICIPIO',\n",
        "       'NM_REGIAO_SAUDE_ANTERIOR', 'NM_MUNICIPIOS_IN_37', 'ESTADO', 'REGIAO_PAIS']"
      ],
      "execution_count": 0,
      "outputs": []
    },
    {
      "cell_type": "code",
      "metadata": {
        "id": "ZUbUHeG8YsPG",
        "colab_type": "code",
        "colab": {}
      },
      "source": [
        "df_regioes = pd.read_excel('BI_Regionais de saude.xlsx', sheet_name='Dados', skiprows=1, usecols=\"A:H\", names=nome_colunas)"
      ],
      "execution_count": 0,
      "outputs": []
    },
    {
      "cell_type": "code",
      "metadata": {
        "id": "w7C968sZYsa7",
        "colab_type": "code",
        "colab": {}
      },
      "source": [
        "df_regioes.head()"
      ],
      "execution_count": 0,
      "outputs": []
    },
    {
      "cell_type": "code",
      "metadata": {
        "id": "SmNT09UPdFn4",
        "colab_type": "code",
        "colab": {}
      },
      "source": [
        "df_regioes.shape"
      ],
      "execution_count": 0,
      "outputs": []
    },
    {
      "cell_type": "code",
      "metadata": {
        "id": "00FOB6yWRCgW",
        "colab_type": "code",
        "colab": {}
      },
      "source": [
        "# INICIO DO PROCESSAMENTO"
      ],
      "execution_count": 0,
      "outputs": []
    },
    {
      "cell_type": "code",
      "metadata": {
        "id": "kTm9sfpCDLCQ",
        "colab_type": "code",
        "colab": {}
      },
      "source": [
        "# Esta linha e para agilizar o groupby. Talvez desnecessaria. Lógica do do SAS\n",
        "df_regioes.sort_values(by=['NM_REGIAO_SAUDE_ATUAL', 'SG_UF'], inplace=True)"
      ],
      "execution_count": 0,
      "outputs": []
    },
    {
      "cell_type": "code",
      "metadata": {
        "id": "AGWkKqZbYs-o",
        "colab_type": "code",
        "colab": {}
      },
      "source": [
        "# Aplicar na coluna CD_MUNICIPIO uma funcao para colocar os codigos do municipios em formato de conjunto para comparar,\n",
        "# agrupados por regiao atual e UF, com o agrupamento dos municipios correspondentes da regiao anterior\n",
        "\n",
        "lista1 = df_regioes.groupby(['NM_REGIAO_SAUDE_ATUAL', 'SG_UF'])['CD_MUNICIPIO'].apply(lambda x:list(set(x)))"
      ],
      "execution_count": 0,
      "outputs": []
    },
    {
      "cell_type": "code",
      "metadata": {
        "id": "pmd94zVHjk_3",
        "colab_type": "code",
        "colab": {}
      },
      "source": [
        "# Agora a lista para a Região de Saúde anterior\n",
        "df_regioes.sort_values(by=['NM_REGIAO_SAUDE_ANTERIOR', 'SG_UF'], inplace=True)"
      ],
      "execution_count": 0,
      "outputs": []
    },
    {
      "cell_type": "code",
      "metadata": {
        "id": "CPkmisiWjtCx",
        "colab_type": "code",
        "colab": {}
      },
      "source": [
        "# Agora o código para a lista2: Regiao de Saude Anterior\n",
        "lista2 = df_regioes.groupby(['NM_REGIAO_SAUDE_ANTERIOR', 'SG_UF'])['CD_MUNICIPIO'].apply(lambda x:list(set(x)))"
      ],
      "execution_count": 0,
      "outputs": []
    },
    {
      "cell_type": "code",
      "metadata": {
        "id": "dUgaC528j4og",
        "colab_type": "code",
        "colab": {}
      },
      "source": [
        "# Para transformar o formato agrupado em DataFrame\n",
        "lista1 = lista1.reset_index()\n",
        "lista2 = lista2.reset_index()"
      ],
      "execution_count": 0,
      "outputs": []
    },
    {
      "cell_type": "code",
      "metadata": {
        "id": "hZ7p5u9WnnXZ",
        "colab_type": "code",
        "colab": {}
      },
      "source": [
        "lista1.head()"
      ],
      "execution_count": 0,
      "outputs": []
    },
    {
      "cell_type": "code",
      "metadata": {
        "id": "2drCi18QkCa5",
        "colab_type": "code",
        "colab": {}
      },
      "source": [
        "lista2.head()"
      ],
      "execution_count": 0,
      "outputs": []
    },
    {
      "cell_type": "code",
      "metadata": {
        "id": "xjXI0N-QkDea",
        "colab_type": "code",
        "colab": {}
      },
      "source": [
        "lista1.shape"
      ],
      "execution_count": 0,
      "outputs": []
    },
    {
      "cell_type": "code",
      "metadata": {
        "id": "XklYKUBokLpU",
        "colab_type": "code",
        "colab": {}
      },
      "source": [
        "lista2.shape"
      ],
      "execution_count": 0,
      "outputs": []
    },
    {
      "cell_type": "code",
      "metadata": {
        "id": "4gIKEMBd5Mgq",
        "colab_type": "code",
        "colab": {}
      },
      "source": [
        "# ================ TESTES========================="
      ],
      "execution_count": 0,
      "outputs": []
    },
    {
      "cell_type": "code",
      "metadata": {
        "id": "fswsNkU0k1DQ",
        "colab_type": "code",
        "colab": {}
      },
      "source": [
        "# verificar se tem regiões que abrangem mais de uma UF:\n",
        "# df_regioes.groupby(['NM_REGIAO_SAUDE_ATUAL', 'SG_UF']).size()\n",
        "df_unicos = df_regioes.drop_duplicates(subset=['NM_REGIAO_SAUDE_ATUAL', 'SG_UF'])"
      ],
      "execution_count": 0,
      "outputs": []
    },
    {
      "cell_type": "code",
      "metadata": {
        "id": "V5zTuT4zk3JG",
        "colab_type": "code",
        "colab": {}
      },
      "source": [
        "df_unicos.shape  #438, 8"
      ],
      "execution_count": 0,
      "outputs": []
    },
    {
      "cell_type": "code",
      "metadata": {
        "id": "fLKVMCzilFQg",
        "colab_type": "code",
        "colab": {}
      },
      "source": [
        "# Agrupa para selecionar Região de Saúde no DataFrame. Depois aplica o o metodo duplicated, para selecionar os efetivamente repetidos\n",
        "linhas_duplicadas = df_regioes.groupby(['NM_REGIAO_SAUDE_ATUAL', 'SG_UF'], as_index=False).count()"
      ],
      "execution_count": 0,
      "outputs": []
    },
    {
      "cell_type": "code",
      "metadata": {
        "id": "4PsksOvalO_X",
        "colab_type": "code",
        "colab": {}
      },
      "source": [
        "linhas_duplicadas.shape"
      ],
      "execution_count": 0,
      "outputs": []
    },
    {
      "cell_type": "code",
      "metadata": {
        "id": "3H7Vx_W2layd",
        "colab_type": "code",
        "colab": {}
      },
      "source": [
        "# Seleciona todas as linhas duplicadas baseadas em uma lista de colunas. O parametro keep é para exibir todos os repetidos e não o último ou primeiro\n",
        "linhas_duplicadas = linhas_duplicadas[linhas_duplicadas.duplicated(subset=['NM_REGIAO_SAUDE_ATUAL'], keep=False)]\n",
        "linhas_duplicadas.shape  #(17, 8)\n",
        "linhas_duplicadas.head()\n",
        "# Análise: Observando o campo NM_REGIAO_SAUDE_ATUAL e SG_UF, observa-se que: As regiões repetidas e que são de UF's contíguas São: Baixo Amazonas (AM e PA).\n",
        "# O restante não são contíguas. Destaque para a Região de Saúde nomeada de \"NORTE\". Observando-se RJ e ES, que são contíguos, porém as respectivas Regiões situam-se no Norte de cada Estado.\n"
      ],
      "execution_count": 0,
      "outputs": []
    },
    {
      "cell_type": "code",
      "metadata": {
        "id": "62wGINjdlblY",
        "colab_type": "code",
        "colab": {}
      },
      "source": [
        ""
      ],
      "execution_count": 0,
      "outputs": []
    },
    {
      "cell_type": "code",
      "metadata": {
        "id": "tUjiTw5DYtLf",
        "colab_type": "code",
        "colab": {}
      },
      "source": [
        "# Até aqui, para a região Norte, não tem Problemas\n",
        "teste = lista1[lista1['NM_REGIAO_SAUDE_ATUAL']=='Norte']\n",
        "# Para o caso da Região Baixo Amazonas que abrange 2 UF's, deve-se colocar a condição de agregar, para este caso, as duas UF's \n",
        "# teste = lista1[lista1['NM_REGIAO_SAUDE_ATUAL']=='Baixo Amazonas']"
      ],
      "execution_count": 0,
      "outputs": []
    },
    {
      "cell_type": "code",
      "metadata": {
        "id": "qHvxcl7gMlJa",
        "colab_type": "code",
        "colab": {}
      },
      "source": [
        "# teste.to_excel('teste2.xlsx')\n",
        "lista1.to_excel('lista1.xlsx')"
      ],
      "execution_count": 0,
      "outputs": []
    },
    {
      "cell_type": "code",
      "metadata": {
        "id": "kJ6-QZKPnPT4",
        "colab_type": "code",
        "colab": {}
      },
      "source": [
        "teste.shape"
      ],
      "execution_count": 0,
      "outputs": []
    },
    {
      "cell_type": "code",
      "metadata": {
        "id": "5JSMJudnoUFT",
        "colab_type": "code",
        "colab": {}
      },
      "source": [
        "teste.head()"
      ],
      "execution_count": 0,
      "outputs": []
    },
    {
      "cell_type": "code",
      "metadata": {
        "id": "0xVNTErtmUHa",
        "colab_type": "code",
        "colab": {}
      },
      "source": [
        "teste['CD_MUNICIPIO'].str.len()"
      ],
      "execution_count": 0,
      "outputs": []
    },
    {
      "cell_type": "code",
      "metadata": {
        "id": "Q9TrRaIu4eev",
        "colab_type": "code",
        "colab": {}
      },
      "source": [
        "teste = lista1[lista1['NM_REGIAO_SAUDE_ATUAL']=='Baixo Amazonas']"
      ],
      "execution_count": 0,
      "outputs": []
    },
    {
      "cell_type": "code",
      "metadata": {
        "id": "fIxLGNPO4qMt",
        "colab_type": "code",
        "colab": {}
      },
      "source": [
        "teste['CD_MUNICIPIO'].str.len()"
      ],
      "execution_count": 0,
      "outputs": []
    },
    {
      "cell_type": "code",
      "metadata": {
        "id": "ZfzL5cUNdqdt",
        "colab_type": "code",
        "colab": {}
      },
      "source": [
        "# verificar se tem regiões (ANTERIOR que abrangem mais de uma UF:\n",
        "# df_regioes.groupby(['NM_REGIAO_SAUDE_ANTERIOR', 'SG_UF']).size()\n",
        "df_unicos = df_regioes.drop_duplicates(subset=['NM_REGIAO_SAUDE_ANTERIOR', 'SG_UF'])\n"
      ],
      "execution_count": 0,
      "outputs": []
    },
    {
      "cell_type": "code",
      "metadata": {
        "id": "I5MEG6budrHS",
        "colab_type": "code",
        "colab": {}
      },
      "source": [
        "df_unicos.shape  #362, 8"
      ],
      "execution_count": 0,
      "outputs": []
    },
    {
      "cell_type": "code",
      "metadata": {
        "id": "C8k_4xvzd5Zr",
        "colab_type": "code",
        "colab": {}
      },
      "source": [
        "# Agrupa para selecionar Região de Saúde no DataFrame. Depois aplica o o metodo duplicated, para selecionar os efetivamente repetidos\n",
        "linhas_duplicadas = df_regioes.groupby(['NM_REGIAO_SAUDE_ANTERIOR', 'SG_UF'], as_index=False).count()\n",
        "linhas_duplicadas.shape # 358, 8"
      ],
      "execution_count": 0,
      "outputs": []
    },
    {
      "cell_type": "code",
      "metadata": {
        "id": "-Kru85rkd59F",
        "colab_type": "code",
        "colab": {}
      },
      "source": [
        "# Seleciona todas as linhas duplicadas baseadas em uma lista de colunas. O parametro keep é para exibir todos os repetidos e não o último ou primeiro\n",
        "linhas_duplicadas = linhas_duplicadas[linhas_duplicadas.duplicated(subset=['NM_REGIAO_SAUDE_ANTERIOR'], keep=False)]\n",
        "linhas_duplicadas.shape  #(17, 8)\n",
        "linhas_duplicadas\n",
        "# Análise: Observando o campo NM_REGIAO_SAUDE_ANTERIOR e SG_UF, observa-se que: As regiões repetidas e que são de UF's contíguas São: Baixo Amazonas (AM e PA).\n",
        "# O restante não são contíguas.\n"
      ],
      "execution_count": 0,
      "outputs": []
    },
    {
      "cell_type": "code",
      "metadata": {
        "id": "1OEi_TnJdriP",
        "colab_type": "code",
        "colab": {}
      },
      "source": [
        "# ================ Fim dos Testes ====================="
      ],
      "execution_count": 0,
      "outputs": []
    },
    {
      "cell_type": "code",
      "metadata": {
        "id": "KQ57dfeffku-",
        "colab_type": "code",
        "colab": {}
      },
      "source": [
        "# =========================================\n",
        "# OPERAÇÕES DE CONCATENAÇÃO DAS LISTAS DE MUNICIPIOS COM O DATAFRAME ORIGINAL"
      ],
      "execution_count": 0,
      "outputs": []
    },
    {
      "cell_type": "code",
      "metadata": {
        "id": "wBT5-uSOp_lg",
        "colab_type": "code",
        "colab": {}
      },
      "source": [
        "df_regioes_concat1 = pd.merge(df_regioes, lista1, how = 'left', left_on=['NM_REGIAO_SAUDE_ATUAL','SG_UF'], right_on=['NM_REGIAO_SAUDE_ATUAL','SG_UF'])"
      ],
      "execution_count": 0,
      "outputs": []
    },
    {
      "cell_type": "code",
      "metadata": {
        "id": "u6YrTyzh5Jpg",
        "colab_type": "code",
        "colab": {}
      },
      "source": [
        "df_regioes_concat1.shape"
      ],
      "execution_count": 0,
      "outputs": []
    },
    {
      "cell_type": "code",
      "metadata": {
        "id": "m-XYZuo36iZL",
        "colab_type": "code",
        "colab": {}
      },
      "source": [
        "# Renomear coluna que foi gerada na juncao do passo anterior"
      ],
      "execution_count": 0,
      "outputs": []
    },
    {
      "cell_type": "code",
      "metadata": {
        "id": "0dLFVbUlqdIc",
        "colab_type": "code",
        "colab": {}
      },
      "source": [
        "# Renomear coluna que foi gerada na juncao do passo anterior\n",
        "df_regioes_concat1.rename(columns={'CD_MUNICIPIO_y':'lista_regiao_atual'}, inplace=True)"
      ],
      "execution_count": 0,
      "outputs": []
    },
    {
      "cell_type": "code",
      "metadata": {
        "id": "sylkJ4IXIRhO",
        "colab_type": "code",
        "colab": {}
      },
      "source": [
        "df_regioes_concat1.shape"
      ],
      "execution_count": 0,
      "outputs": []
    },
    {
      "cell_type": "code",
      "metadata": {
        "id": "MD6wLtsmEHvR",
        "colab_type": "code",
        "colab": {}
      },
      "source": [
        "lista1.head()"
      ],
      "execution_count": 0,
      "outputs": []
    },
    {
      "cell_type": "code",
      "metadata": {
        "id": "G7jJCCAw91Op",
        "colab_type": "code",
        "colab": {}
      },
      "source": [
        "# Rotina para agregar a regiao 'Baixo Amazonas' das UF's: AM e PA, por tratar-se de região interestadual. Caso único.\n",
        "lista_aux1 = lista1[lista1['NM_REGIAO_SAUDE_ATUAL']=='Baixo Amazonas']\n",
        "lista_aux2 = lista2[lista2['NM_REGIAO_SAUDE_ANTERIOR']=='Baixo Amazonas']\n",
        "\n"
      ],
      "execution_count": 0,
      "outputs": []
    },
    {
      "cell_type": "code",
      "metadata": {
        "id": "_FaQiudZGICC",
        "colab_type": "code",
        "colab": {}
      },
      "source": [
        "lista_aux1.head()"
      ],
      "execution_count": 0,
      "outputs": []
    },
    {
      "cell_type": "code",
      "metadata": {
        "id": "m2I7Ttz4h4-L",
        "colab_type": "code",
        "colab": {}
      },
      "source": [
        "lista_aux2.head()"
      ],
      "execution_count": 0,
      "outputs": []
    },
    {
      "cell_type": "code",
      "metadata": {
        "id": "FMNdfTepEek4",
        "colab_type": "code",
        "colab": {}
      },
      "source": [
        "# uso do drop para SG_UF  para facilitar o gropuby por NM_REGIAO_SAUDE_ATUAL\n",
        "lista_aux1_new = lista_aux1.drop('SG_UF', axis=1)\n",
        "lista_aux2_new = lista_aux2.drop('SG_UF', axis=1)"
      ],
      "execution_count": 0,
      "outputs": []
    },
    {
      "cell_type": "code",
      "metadata": {
        "id": "T8-YQyjoYdK3",
        "colab_type": "code",
        "colab": {}
      },
      "source": [
        "lista_aux1_fim = lista_aux1_new.groupby('NM_REGIAO_SAUDE_ATUAL')['CD_MUNICIPIO'].sum().reset_index()\n",
        "lista_aux2_fim = lista_aux2_new.groupby('NM_REGIAO_SAUDE_ANTERIOR')['CD_MUNICIPIO'].sum().reset_index()"
      ],
      "execution_count": 0,
      "outputs": []
    },
    {
      "cell_type": "code",
      "metadata": {
        "id": "_K4iDZkaGVqI",
        "colab_type": "code",
        "colab": {}
      },
      "source": [
        "lista_aux1_fim.head()"
      ],
      "execution_count": 0,
      "outputs": []
    },
    {
      "cell_type": "code",
      "metadata": {
        "id": "_RhfWAzyie0h",
        "colab_type": "code",
        "colab": {}
      },
      "source": [
        "lista_aux2_fim.head()"
      ],
      "execution_count": 0,
      "outputs": []
    },
    {
      "cell_type": "code",
      "metadata": {
        "id": "5xcMbq-u-sf8",
        "colab_type": "code",
        "colab": {}
      },
      "source": [
        "# Concatenação com a Regiao anterior, na otica da lista 2"
      ],
      "execution_count": 0,
      "outputs": []
    },
    {
      "cell_type": "code",
      "metadata": {
        "id": "KSyQ8tV6qhlR",
        "colab_type": "code",
        "colab": {}
      },
      "source": [
        "df_regioes_concat2 = pd.merge(df_regioes, lista2, how = 'left', left_on=['NM_REGIAO_SAUDE_ANTERIOR','SG_UF'], right_on=['NM_REGIAO_SAUDE_ANTERIOR','SG_UF'])"
      ],
      "execution_count": 0,
      "outputs": []
    },
    {
      "cell_type": "code",
      "metadata": {
        "id": "DQYidE2vBJrm",
        "colab_type": "code",
        "colab": {}
      },
      "source": [
        "df_regioes_concat2.head()"
      ],
      "execution_count": 0,
      "outputs": []
    },
    {
      "cell_type": "code",
      "metadata": {
        "id": "kkbAfyCVqiy_",
        "colab_type": "code",
        "colab": {}
      },
      "source": [
        "df_regioes_concat2.rename(columns={'CD_MUNICIPIO_y':'lista_regiao_anterior'}, inplace=True)"
      ],
      "execution_count": 0,
      "outputs": []
    },
    {
      "cell_type": "code",
      "metadata": {
        "id": "f3h6V5rRquFL",
        "colab_type": "code",
        "colab": {}
      },
      "source": [
        "# como são dois dataframes muito identicos em colunas, usei esta técnica para selecionar as do segundo dataframe que sejam diferentes\n",
        "colunas_mantidas = df_regioes_concat2.columns.difference(df_regioes_concat1.columns)"
      ],
      "execution_count": 0,
      "outputs": []
    },
    {
      "cell_type": "code",
      "metadata": {
        "id": "ln6AdoyABz09",
        "colab_type": "code",
        "colab": {}
      },
      "source": [
        "colunas_mantidas"
      ],
      "execution_count": 0,
      "outputs": []
    },
    {
      "cell_type": "code",
      "metadata": {
        "id": "N77_bAfnqvQq",
        "colab_type": "code",
        "colab": {}
      },
      "source": [
        "df_regioes_concat = pd.merge(df_regioes_concat1, df_regioes_concat2[colunas_mantidas], left_index=True, right_index=True, how='outer')"
      ],
      "execution_count": 0,
      "outputs": []
    },
    {
      "cell_type": "code",
      "metadata": {
        "id": "K7jc-xskCRIQ",
        "colab_type": "code",
        "colab": {}
      },
      "source": [
        "df_regioes_concat.head()"
      ],
      "execution_count": 0,
      "outputs": []
    },
    {
      "cell_type": "code",
      "metadata": {
        "id": "TacCWjoaq1Z7",
        "colab_type": "code",
        "colab": {}
      },
      "source": [
        "df_regioes_concat.rename(columns={'CD_MUNICIPIO_x':'CD_MUNICIPIO'}, inplace=True)"
      ],
      "execution_count": 0,
      "outputs": []
    },
    {
      "cell_type": "code",
      "metadata": {
        "id": "GfKUQuUeq3Dz",
        "colab_type": "code",
        "colab": {}
      },
      "source": [
        "df_regioes_concat['flag_atual'] = np.where(df_regioes_concat['lista_regiao_atual'] == df_regioes_concat['lista_regiao_anterior'], 0, 1)"
      ],
      "execution_count": 0,
      "outputs": []
    },
    {
      "cell_type": "code",
      "metadata": {
        "id": "XutQdqBIq8m3",
        "colab_type": "code",
        "colab": {}
      },
      "source": [
        "df_municipios = pd.read_excel('AR_BR_RG_UF_MES_MIC_MUN_2018.xls')"
      ],
      "execution_count": 0,
      "outputs": []
    },
    {
      "cell_type": "code",
      "metadata": {
        "id": "3rKceEo0rBKq",
        "colab_type": "code",
        "colab": {}
      },
      "source": [
        "df_municipios.head()"
      ],
      "execution_count": 0,
      "outputs": []
    },
    {
      "cell_type": "code",
      "metadata": {
        "id": "Eb8jguGKrEgj",
        "colab_type": "code",
        "colab": {}
      },
      "source": [
        "df_municipios.dropna(axis=0, how='any', subset=['CD_GCMUN'], inplace=True)"
      ],
      "execution_count": 0,
      "outputs": []
    },
    {
      "cell_type": "code",
      "metadata": {
        "id": "-0SvMH0qrIiy",
        "colab_type": "code",
        "colab": {}
      },
      "source": [
        "df_municipios['CD_MUNICIPIO_NDV'] = df_municipios['CD_GCMUN'].astype(str).str[:6]"
      ],
      "execution_count": 0,
      "outputs": []
    },
    {
      "cell_type": "code",
      "metadata": {
        "id": "yLUpXFd3rgzm",
        "colab_type": "code",
        "colab": {}
      },
      "source": [
        "type(df_municipios['CD_MUNICIPIO_NDV'][0])"
      ],
      "execution_count": 0,
      "outputs": []
    },
    {
      "cell_type": "code",
      "metadata": {
        "id": "VWf-5EZRrnNJ",
        "colab_type": "code",
        "colab": {}
      },
      "source": [
        "df_regioes_concat['CD_MUNICIPIO'] = df_regioes_concat['CD_MUNICIPIO'].astype(str)"
      ],
      "execution_count": 0,
      "outputs": []
    },
    {
      "cell_type": "code",
      "metadata": {
        "id": "3JwW3qMNrsqG",
        "colab_type": "code",
        "colab": {}
      },
      "source": [
        "df_diferenca = pd.merge(df_regioes_concat, df_municipios, how = 'outer', left_on='CD_MUNICIPIO', right_on='CD_MUNICIPIO_NDV')"
      ],
      "execution_count": 0,
      "outputs": []
    },
    {
      "cell_type": "code",
      "metadata": {
        "id": "QGoMQYQTrwj6",
        "colab_type": "code",
        "colab": {}
      },
      "source": [
        "df_diferenca_qgis = df_diferenca[df_diferenca['flag_atual']==1]"
      ],
      "execution_count": 0,
      "outputs": []
    },
    {
      "cell_type": "code",
      "metadata": {
        "id": "lWUSKv-3sLYq",
        "colab_type": "code",
        "colab": {}
      },
      "source": [
        "df_regioes_concat.rename(columns={'SG_UF_x':'SG_UF'}, inplace=True)"
      ],
      "execution_count": 0,
      "outputs": []
    },
    {
      "cell_type": "code",
      "metadata": {
        "id": "-AZAVeW7Ds6N",
        "colab_type": "code",
        "colab": {}
      },
      "source": [
        "df_regioes_concat.to_excel('teste.xlsx')"
      ],
      "execution_count": 0,
      "outputs": []
    },
    {
      "cell_type": "code",
      "metadata": {
        "id": "fymVhojRsxci",
        "colab_type": "code",
        "colab": {}
      },
      "source": [
        "df_regioes_concat.head()"
      ],
      "execution_count": 0,
      "outputs": []
    },
    {
      "cell_type": "code",
      "metadata": {
        "id": "k1dLIAksr0JM",
        "colab_type": "code",
        "colab": {}
      },
      "source": [
        "resumo1 = df_regioes_concat[['SG_UF', 'NM_MUNICIPIO', 'NM_REGIAO_SAUDE_ATUAL']]"
      ],
      "execution_count": 0,
      "outputs": []
    },
    {
      "cell_type": "code",
      "metadata": {
        "id": "uYo9Gm5CtFR2",
        "colab_type": "code",
        "colab": {}
      },
      "source": [
        "df_reg_mesmos_municipios = df_regioes_concat[df_regioes_concat['flag_atual']==0]"
      ],
      "execution_count": 0,
      "outputs": []
    },
    {
      "cell_type": "code",
      "metadata": {
        "id": "Yp4gJBBotO3E",
        "colab_type": "code",
        "colab": {}
      },
      "source": [
        "df_reg_mesmos_municipios.shape"
      ],
      "execution_count": 0,
      "outputs": []
    },
    {
      "cell_type": "code",
      "metadata": {
        "id": "_7W8aY4ItifR",
        "colab_type": "code",
        "colab": {}
      },
      "source": [
        "municipios_sem_mudar_regiao = df_reg_mesmos_municipios.shape[0]"
      ],
      "execution_count": 0,
      "outputs": []
    },
    {
      "cell_type": "code",
      "metadata": {
        "id": "qDu6tKnMtnkb",
        "colab_type": "code",
        "colab": {}
      },
      "source": [
        "municipios_sem_mudar_regiao"
      ],
      "execution_count": 0,
      "outputs": []
    },
    {
      "cell_type": "code",
      "metadata": {
        "id": "1IfEY2Eet5Ms",
        "colab_type": "code",
        "colab": {}
      },
      "source": [
        "df_reg_mesmos_municipios.groupby('NM_REGIAO_SAUDE_ATUAL').count()"
      ],
      "execution_count": 0,
      "outputs": []
    },
    {
      "cell_type": "code",
      "metadata": {
        "id": "ybFgivCLuShD",
        "colab_type": "code",
        "colab": {}
      },
      "source": [
        "df_reg_mesmos_municipios.groupby('NM_REGIAO_SAUDE_ANTERIOR').count()"
      ],
      "execution_count": 0,
      "outputs": []
    },
    {
      "cell_type": "code",
      "metadata": {
        "id": "Wz4wpl3iumT0",
        "colab_type": "code",
        "colab": {}
      },
      "source": [
        "resumo2 = df_reg_mesmos_municipios.groupby(['NM_REGIAO_SAUDE_ATUAL','NM_REGIAO_SAUDE_ANTERIOR', 'SG_UF']).count()['CD_MUNICIPIO'].reset_index()"
      ],
      "execution_count": 0,
      "outputs": []
    },
    {
      "cell_type": "code",
      "metadata": {
        "id": "eX9acrCRusbP",
        "colab_type": "code",
        "colab": {}
      },
      "source": [
        "resumo2.sort_values('CD_MUNICIPIO', ascending=False, inplace=True)"
      ],
      "execution_count": 0,
      "outputs": []
    },
    {
      "cell_type": "code",
      "metadata": {
        "id": "2OfWVDxDuvrg",
        "colab_type": "code",
        "colab": {}
      },
      "source": [
        "resumo2"
      ],
      "execution_count": 0,
      "outputs": []
    },
    {
      "cell_type": "code",
      "metadata": {
        "id": "nj1cCx8bu29p",
        "colab_type": "code",
        "colab": {}
      },
      "source": [
        "df_regioes_concat.sort_values('SG_UF', ascending=True, inplace=True)"
      ],
      "execution_count": 0,
      "outputs": []
    },
    {
      "cell_type": "code",
      "metadata": {
        "id": "AhnsKSsIu6_U",
        "colab_type": "code",
        "colab": {}
      },
      "source": [
        "for row in df_regioes_concat.loc[df_regioes_concat['lista_regiao_anterior'].isnull(), 'lista_regiao_anterior'].index:\n",
        "    df_regioes_concat.at[row, 'lista_regiao_anterior'] = []"
      ],
      "execution_count": 0,
      "outputs": []
    },
    {
      "cell_type": "code",
      "metadata": {
        "id": "p2_06bvCvHDZ",
        "colab_type": "code",
        "colab": {}
      },
      "source": [
        "df_regioes_concat[df_regioes_concat['lista_regiao_anterior'].isnull()]"
      ],
      "execution_count": 0,
      "outputs": []
    },
    {
      "cell_type": "code",
      "metadata": {
        "id": "85zABSOavL8c",
        "colab_type": "code",
        "colab": {}
      },
      "source": [
        "df_regioes_concat['flag_municipio_entrou'] = df_regioes_concat['lista_regiao_atual'].map(set) - df_regioes_concat['lista_regiao_anterior'].map(set)"
      ],
      "execution_count": 0,
      "outputs": []
    },
    {
      "cell_type": "code",
      "metadata": {
        "id": "v74r5vaIvPur",
        "colab_type": "code",
        "colab": {}
      },
      "source": [
        "df_regioes_concat['flag_municipio_saiu'] = df_regioes_concat['lista_regiao_anterior'].map(set) - df_regioes_concat['lista_regiao_atual'].map(set)"
      ],
      "execution_count": 0,
      "outputs": []
    },
    {
      "cell_type": "code",
      "metadata": {
        "id": "p-xaZJusvTUa",
        "colab_type": "code",
        "colab": {}
      },
      "source": [
        "df_regioes_concat[df_regioes_concat['NM_REGIAO_SAUDE_ATUAL']=='Baixo Acre e Purus']"
      ],
      "execution_count": 0,
      "outputs": []
    },
    {
      "cell_type": "code",
      "metadata": {
        "id": "fMRmx0-X0aSi",
        "colab_type": "code",
        "colab": {}
      },
      "source": [
        "df_regioes_concat[df_regioes_concat['NM_REGIAO_SAUDE_ATUAL']=='Norte']"
      ],
      "execution_count": 0,
      "outputs": []
    },
    {
      "cell_type": "code",
      "metadata": {
        "id": "8PqtVIw1wP1P",
        "colab_type": "code",
        "colab": {}
      },
      "source": [
        "df_regioes_concat['cont_municipio_entrou'] = [len(x) for x in df_regioes_concat['flag_municipio_entrou']]"
      ],
      "execution_count": 0,
      "outputs": []
    },
    {
      "cell_type": "code",
      "metadata": {
        "id": "gMhQO_Wz0Yv0",
        "colab_type": "code",
        "colab": {}
      },
      "source": [
        ""
      ],
      "execution_count": 0,
      "outputs": []
    },
    {
      "cell_type": "code",
      "metadata": {
        "id": "W-XtGyvjwVTa",
        "colab_type": "code",
        "colab": {}
      },
      "source": [
        "df_regioes_concat['cont_municipio_saiu'] = [len(x) for x in df_regioes_concat['flag_municipio_saiu']]"
      ],
      "execution_count": 0,
      "outputs": []
    },
    {
      "cell_type": "code",
      "metadata": {
        "id": "AbNrvAorwYYQ",
        "colab_type": "code",
        "colab": {}
      },
      "source": [
        "df_regioes_concat[(df_regioes_concat['flag_atual']==0)&(df_regioes_concat['cont_municipio_entrou']>1)]"
      ],
      "execution_count": 0,
      "outputs": []
    },
    {
      "cell_type": "code",
      "metadata": {
        "id": "roDqllx4wg8W",
        "colab_type": "code",
        "colab": {}
      },
      "source": [
        "df_regioes_concat[(df_regioes_concat['flag_atual']==0)&(df_regioes_concat['cont_municipio_saiu']>1)]"
      ],
      "execution_count": 0,
      "outputs": []
    },
    {
      "cell_type": "code",
      "metadata": {
        "id": "L9xVdIUPwujD",
        "colab_type": "code",
        "colab": {}
      },
      "source": [
        "df_estatistica_entrada = df_regioes_concat[(df_regioes_concat['flag_atual']==1)&(df_regioes_concat['cont_municipio_entrou']!=0)]"
      ],
      "execution_count": 0,
      "outputs": []
    },
    {
      "cell_type": "code",
      "metadata": {
        "id": "S9wKcdExw7TT",
        "colab_type": "code",
        "colab": {}
      },
      "source": [
        "df_estatistica_entrada.shape"
      ],
      "execution_count": 0,
      "outputs": []
    },
    {
      "cell_type": "code",
      "metadata": {
        "id": "vFPZ80UBxRCL",
        "colab_type": "code",
        "colab": {}
      },
      "source": [
        "df_result_atual = df_estatistica_entrada.groupby(['SG_UF','NM_REGIAO_SAUDE_ATUAL'])['cont_municipio_entrou', 'cont_municipio_saiu'].agg(['count','min','max','mean']).reset_index()"
      ],
      "execution_count": 0,
      "outputs": []
    },
    {
      "cell_type": "code",
      "metadata": {
        "id": "wTTV9viYxTEz",
        "colab_type": "code",
        "colab": {}
      },
      "source": [
        "df_result_atual"
      ],
      "execution_count": 0,
      "outputs": []
    },
    {
      "cell_type": "code",
      "metadata": {
        "id": "Sc8u-54LxfBM",
        "colab_type": "code",
        "colab": {}
      },
      "source": [
        "df_result_anterior = df_estatistica_entrada.groupby(['SG_UF','NM_REGIAO_SAUDE_ANTERIOR'])['cont_municipio_entrou', 'cont_municipio_saiu'].agg(['count','min','max','mean']).reset_index()"
      ],
      "execution_count": 0,
      "outputs": []
    },
    {
      "cell_type": "code",
      "metadata": {
        "id": "RolKARk6xfZ7",
        "colab_type": "code",
        "colab": {}
      },
      "source": [
        "df_result_anterior.head()"
      ],
      "execution_count": 0,
      "outputs": []
    },
    {
      "cell_type": "code",
      "metadata": {
        "id": "5JFpv55ixlsd",
        "colab_type": "code",
        "colab": {}
      },
      "source": [
        "df_result_atual.to_excel('resultado_atual.xlsx')"
      ],
      "execution_count": 0,
      "outputs": []
    },
    {
      "cell_type": "code",
      "metadata": {
        "id": "8MPuZ4GXxlY4",
        "colab_type": "code",
        "colab": {}
      },
      "source": [
        "df_result_anterior.to_excel('resultado_anterior.xlsx')"
      ],
      "execution_count": 0,
      "outputs": []
    },
    {
      "cell_type": "code",
      "metadata": {
        "id": "O39-_gtzxlFk",
        "colab_type": "code",
        "colab": {}
      },
      "source": [
        "df_estatistica_entrada.to_excel('resumo_geral_movimentacao.xlsx')"
      ],
      "execution_count": 0,
      "outputs": []
    },
    {
      "cell_type": "code",
      "metadata": {
        "id": "hlJjMPOKUUaT",
        "colab_type": "code",
        "colab": {}
      },
      "source": [
        "# Sum list of values within a pandas df\n",
        "# df = [sum(a) for a in zip(*df['Val'])]"
      ],
      "execution_count": 0,
      "outputs": []
    }
  ]
}