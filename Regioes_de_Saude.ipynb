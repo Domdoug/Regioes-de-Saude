{
  "cells": [
    {
      "attachments": {},
      "cell_type": "markdown",
      "metadata": {
        "colab_type": "text",
        "id": "view-in-github"
      },
      "source": [
        "<a href=\"https://colab.research.google.com/github/Domdoug/Regioes-de-Saude/blob/master/Regioes_de_Saude.ipynb\" target=\"_parent\"><img src=\"https://colab.research.google.com/assets/colab-badge.svg\" alt=\"Open In Colab\"/></a>"
      ]
    },
    {
      "cell_type": "code",
      "execution_count": 1,
      "metadata": {
        "colab": {},
        "colab_type": "code",
        "id": "IzVSYPYIYryq"
      },
      "outputs": [],
      "source": [
        "import pandas as pd\n",
        "import numpy as np"
      ]
    },
    {
      "cell_type": "code",
      "execution_count": 2,
      "metadata": {
        "colab": {},
        "colab_type": "code",
        "id": "P8MEu0WWYsCI"
      },
      "outputs": [],
      "source": [
        "nome_colunas = ['CD_MUNICIPIO', 'SG_UF', 'CD_REGIAO_SAUDE_2023', 'NM_REGIAO_SAUDE_ATUAL', 'NM_MUNICIPIO',\n",
        "       'NM_REGIAO_SAUDE_ANTERIOR', 'NM_MUNICIPIOS_IN_37', 'ESTADO', 'REGIAO_PAIS']"
      ]
    },
    {
      "cell_type": "code",
      "execution_count": 3,
      "metadata": {
        "colab": {},
        "colab_type": "code",
        "id": "ZUbUHeG8YsPG"
      },
      "outputs": [],
      "source": [
        "df_regioes = pd.read_excel('BI_Regionais de saude_15052023.xlsx', sheet_name='Dados', skiprows=1, usecols=\"A:I\", names=nome_colunas)"
      ]
    },
    {
      "cell_type": "code",
      "execution_count": 4,
      "metadata": {
        "colab": {
          "base_uri": "https://localhost:8080/",
          "height": 206
        },
        "colab_type": "code",
        "id": "w7C968sZYsa7",
        "outputId": "609ebb14-8e6f-441c-b7b3-ab0e3ab0184c"
      },
      "outputs": [
        {
          "data": {
            "text/html": [
              "<div>\n",
              "<style scoped>\n",
              "    .dataframe tbody tr th:only-of-type {\n",
              "        vertical-align: middle;\n",
              "    }\n",
              "\n",
              "    .dataframe tbody tr th {\n",
              "        vertical-align: top;\n",
              "    }\n",
              "\n",
              "    .dataframe thead th {\n",
              "        text-align: right;\n",
              "    }\n",
              "</style>\n",
              "<table border=\"1\" class=\"dataframe\">\n",
              "  <thead>\n",
              "    <tr style=\"text-align: right;\">\n",
              "      <th></th>\n",
              "      <th>CD_MUNICIPIO</th>\n",
              "      <th>SG_UF</th>\n",
              "      <th>CD_REGIAO_SAUDE_2023</th>\n",
              "      <th>NM_REGIAO_SAUDE_ATUAL</th>\n",
              "      <th>NM_MUNICIPIO</th>\n",
              "      <th>NM_REGIAO_SAUDE_ANTERIOR</th>\n",
              "      <th>NM_MUNICIPIOS_IN_37</th>\n",
              "      <th>ESTADO</th>\n",
              "      <th>REGIAO_PAIS</th>\n",
              "    </tr>\n",
              "  </thead>\n",
              "  <tbody>\n",
              "    <tr>\n",
              "      <th>1483</th>\n",
              "      <td>120001</td>\n",
              "      <td>AC</td>\n",
              "      <td>12002</td>\n",
              "      <td>Baixo Acre e Purus</td>\n",
              "      <td>Acrelândia</td>\n",
              "      <td>Acre</td>\n",
              "      <td>Acrelândia</td>\n",
              "      <td>ACRE</td>\n",
              "      <td>NORTE</td>\n",
              "    </tr>\n",
              "    <tr>\n",
              "      <th>1212</th>\n",
              "      <td>120005</td>\n",
              "      <td>AC</td>\n",
              "      <td>12001</td>\n",
              "      <td>Alto Acre</td>\n",
              "      <td>Assis Brasil</td>\n",
              "      <td>Brasiléia</td>\n",
              "      <td>Assis Brasil</td>\n",
              "      <td>ACRE</td>\n",
              "      <td>NORTE</td>\n",
              "    </tr>\n",
              "    <tr>\n",
              "      <th>3009</th>\n",
              "      <td>120030</td>\n",
              "      <td>AC</td>\n",
              "      <td>12003</td>\n",
              "      <td>Juruá e Tarauacá/Envira</td>\n",
              "      <td>Feijó</td>\n",
              "      <td>Cruzeiro do Sul</td>\n",
              "      <td>Feijó</td>\n",
              "      <td>ACRE</td>\n",
              "      <td>NORTE</td>\n",
              "    </tr>\n",
              "    <tr>\n",
              "      <th>1211</th>\n",
              "      <td>120070</td>\n",
              "      <td>AC</td>\n",
              "      <td>12001</td>\n",
              "      <td>Alto Acre</td>\n",
              "      <td>Xapuri</td>\n",
              "      <td>Brasiléia</td>\n",
              "      <td>Xapuri</td>\n",
              "      <td>ACRE</td>\n",
              "      <td>NORTE</td>\n",
              "    </tr>\n",
              "    <tr>\n",
              "      <th>3010</th>\n",
              "      <td>120033</td>\n",
              "      <td>AC</td>\n",
              "      <td>12003</td>\n",
              "      <td>Juruá e Tarauacá/Envira</td>\n",
              "      <td>Mâncio Lima</td>\n",
              "      <td>Cruzeiro do Sul</td>\n",
              "      <td>Mâncio Lima</td>\n",
              "      <td>ACRE</td>\n",
              "      <td>NORTE</td>\n",
              "    </tr>\n",
              "  </tbody>\n",
              "</table>\n",
              "</div>"
            ],
            "text/plain": [
              "      CD_MUNICIPIO SG_UF  CD_REGIAO_SAUDE_2023    NM_REGIAO_SAUDE_ATUAL  \\\n",
              "1483        120001    AC                 12002       Baixo Acre e Purus   \n",
              "1212        120005    AC                 12001                Alto Acre   \n",
              "3009        120030    AC                 12003  Juruá e Tarauacá/Envira   \n",
              "1211        120070    AC                 12001                Alto Acre   \n",
              "3010        120033    AC                 12003  Juruá e Tarauacá/Envira   \n",
              "\n",
              "      NM_MUNICIPIO NM_REGIAO_SAUDE_ANTERIOR NM_MUNICIPIOS_IN_37 ESTADO  \\\n",
              "1483    Acrelândia                     Acre          Acrelândia   ACRE   \n",
              "1212  Assis Brasil                Brasiléia        Assis Brasil   ACRE   \n",
              "3009         Feijó          Cruzeiro do Sul               Feijó   ACRE   \n",
              "1211        Xapuri                Brasiléia              Xapuri   ACRE   \n",
              "3010   Mâncio Lima          Cruzeiro do Sul         Mâncio Lima   ACRE   \n",
              "\n",
              "     REGIAO_PAIS  \n",
              "1483       NORTE  \n",
              "1212       NORTE  \n",
              "3009       NORTE  \n",
              "1211       NORTE  \n",
              "3010       NORTE  "
            ]
          },
          "execution_count": 4,
          "metadata": {},
          "output_type": "execute_result"
        }
      ],
      "source": [
        "df_regioes.sort_values(by='SG_UF', ascending=True).head()"
      ]
    },
    {
      "cell_type": "code",
      "execution_count": 5,
      "metadata": {
        "colab": {
          "base_uri": "https://localhost:8080/",
          "height": 36
        },
        "colab_type": "code",
        "id": "SmNT09UPdFn4",
        "outputId": "a8d1056b-9627-469d-891b-da3c7c0ec7d5"
      },
      "outputs": [
        {
          "data": {
            "text/plain": [
              "(5571, 9)"
            ]
          },
          "execution_count": 5,
          "metadata": {},
          "output_type": "execute_result"
        }
      ],
      "source": [
        "df_regioes.shape"
      ]
    },
    {
      "cell_type": "code",
      "execution_count": null,
      "metadata": {
        "colab": {},
        "colab_type": "code",
        "id": "00FOB6yWRCgW"
      },
      "outputs": [],
      "source": [
        "# INICIO DO PROCESSAMENTO"
      ]
    },
    {
      "cell_type": "code",
      "execution_count": 6,
      "metadata": {
        "colab": {},
        "colab_type": "code",
        "id": "kTm9sfpCDLCQ"
      },
      "outputs": [],
      "source": [
        "# Esta linha e para agilizar o groupby. Talvez desnecessaria. Lógica do do SAS\n",
        "df_regioes.sort_values(by=['NM_REGIAO_SAUDE_ATUAL', 'SG_UF'], inplace=True)"
      ]
    },
    {
      "cell_type": "code",
      "execution_count": 7,
      "metadata": {
        "colab": {},
        "colab_type": "code",
        "id": "AGWkKqZbYs-o"
      },
      "outputs": [],
      "source": [
        "# Aplicar na coluna CD_MUNICIPIO uma funcao para colocar os codigos do municipios em formato de conjunto para comparar,\n",
        "# agrupados por regiao atual e UF, com o agrupamento dos municipios correspondentes da regiao anterior\n",
        "\n",
        "lista1 = df_regioes.groupby(['NM_REGIAO_SAUDE_ATUAL', 'SG_UF'])['CD_MUNICIPIO'].apply(lambda x:list(set(x)))"
      ]
    },
    {
      "cell_type": "code",
      "execution_count": 8,
      "metadata": {},
      "outputs": [
        {
          "name": "stdout",
          "output_type": "stream",
          "text": [
            "NM_REGIAO_SAUDE_ATUAL         SG_UF\n",
            "10ª RS Cascavel               PR       [410754, 410500, 410630, 411275, 411670, 41053...\n",
            "10ª Região                    PB       [250915, 251620, 251398, 251420, 251720, 25084...\n",
            "10ª Região Limoeiro do Norte  CE       [230690, 230600, 230760, 231080, 231310, 23115...\n",
            "10ª Região de Saúde           AL       [270240, 270330, 270500, 270642, 270580, 27071...\n",
            "11ª RS Campo Mourão           PR       [412800, 410755, 411400, 410250, 410770, 41039...\n",
            "                                                             ...                        \n",
            "vale do itapocú               SC       [420450, 421635, 421060, 420650, 421740, 42021...\n",
            "Águas Formosas                MG       [312705, 314850, 313890, 310660, 317030, 31009...\n",
            "Área Central                  AP       [160005, 160015, 160021, 160053, 160023, 16002...\n",
            "Área Norte                    AP                [160070, 160010, 160050, 160020, 160055]\n",
            "Área Sudoeste                 AP                        [160080, 160040, 160027, 160060]\n",
            "Name: CD_MUNICIPIO, Length: 450, dtype: object\n"
          ]
        }
      ],
      "source": [
        "# Get the head and tail of the sample pandas DataFrame\n",
        "# Using the pd.option_context() function in Pandas\n",
        "with pd.option_context('display.max_rows',10):\n",
        "    print(lista1)"
      ]
    },
    {
      "cell_type": "code",
      "execution_count": 9,
      "metadata": {},
      "outputs": [
        {
          "name": "stdout",
          "output_type": "stream",
          "text": [
            "<class 'pandas.core.series.Series'>\n",
            "MultiIndex: 450 entries, ('10ª RS Cascavel', 'PR') to ('Área Sudoeste', 'AP')\n",
            "Series name: CD_MUNICIPIO\n",
            "Non-Null Count  Dtype \n",
            "--------------  ----- \n",
            "450 non-null    object\n",
            "dtypes: object(1)\n",
            "memory usage: 8.6+ KB\n"
          ]
        }
      ],
      "source": [
        "lista1.info()"
      ]
    },
    {
      "cell_type": "code",
      "execution_count": 10,
      "metadata": {
        "colab": {},
        "colab_type": "code",
        "id": "pmd94zVHjk_3"
      },
      "outputs": [],
      "source": [
        "# Agora a lista para a Região de Saúde anterior\n",
        "df_regioes.sort_values(by=['NM_REGIAO_SAUDE_ANTERIOR', 'SG_UF'], inplace=True)"
      ]
    },
    {
      "cell_type": "code",
      "execution_count": 11,
      "metadata": {
        "colab": {},
        "colab_type": "code",
        "id": "CPkmisiWjtCx"
      },
      "outputs": [],
      "source": [
        "# Agora o código para a lista2: Regiao de Saude Anterior\n",
        "lista2 = df_regioes.groupby(['NM_REGIAO_SAUDE_ANTERIOR', 'SG_UF'])['CD_MUNICIPIO'].apply(lambda x:list(set(x)))"
      ]
    },
    {
      "cell_type": "code",
      "execution_count": 12,
      "metadata": {},
      "outputs": [
        {
          "name": "stdout",
          "output_type": "stream",
          "text": [
            "NM_REGIAO_SAUDE_ANTERIOR      SG_UF\n",
            "Acaraú                        CE       [230020, 230725, 230890, 230230, 230425, 23078...\n",
            "Acre                          AC       [120001, 120034, 120038, 120040, 120043, 12004...\n",
            "Afogados da Ingazeira         PE       [261440, 261153, 260770, 261280, 260390, 26071...\n",
            "Alagoinhas                    BA       [291650, 291590, 292970, 291370, 291050, 29022...\n",
            "Alfenas                       MG       [310530, 310410, 314510, 310160, 311440, 31669...\n",
            "                                                             ...                        \n",
            "X Núcleo Regional de Saúde    PB       [251392, 250915, 251620, 251396, 251398, 25142...\n",
            "XI Núcleo Regional de Saúde   PB       [251660, 250670, 250800, 250900, 250010, 25123...\n",
            "XII Núcleo Regional de Saúde  PB       [250720, 250690, 250790, 250760, 251275, 25038...\n",
            "Xanxerê                       SC       [421910, 420253, 420768, 420517, 420010, 42116...\n",
            "Água Boa                      MT       [510020, 510310, 510185, 510718, 510385, 51070...\n",
            "Name: CD_MUNICIPIO, Length: 358, dtype: object\n"
          ]
        }
      ],
      "source": [
        "# Get the head and tail of the sample pandas DataFrame\n",
        "# Using the pd.option_context() function in Pandas\n",
        "with pd.option_context('display.max_rows',10):\n",
        "    print(lista2)\n"
      ]
    },
    {
      "cell_type": "code",
      "execution_count": 13,
      "metadata": {
        "colab": {},
        "colab_type": "code",
        "id": "dUgaC528j4og"
      },
      "outputs": [],
      "source": [
        "# Para transformar o formato agrupado em DataFrame\n",
        "lista1 = lista1.reset_index()\n",
        "lista2 = lista2.reset_index()"
      ]
    },
    {
      "cell_type": "code",
      "execution_count": 14,
      "metadata": {
        "colab": {
          "base_uri": "https://localhost:8080/",
          "height": 206
        },
        "colab_type": "code",
        "id": "hZ7p5u9WnnXZ",
        "outputId": "ce203fc4-8724-46a8-b0b9-b2d29c1f70df"
      },
      "outputs": [
        {
          "data": {
            "text/html": [
              "<div>\n",
              "<style scoped>\n",
              "    .dataframe tbody tr th:only-of-type {\n",
              "        vertical-align: middle;\n",
              "    }\n",
              "\n",
              "    .dataframe tbody tr th {\n",
              "        vertical-align: top;\n",
              "    }\n",
              "\n",
              "    .dataframe thead th {\n",
              "        text-align: right;\n",
              "    }\n",
              "</style>\n",
              "<table border=\"1\" class=\"dataframe\">\n",
              "  <thead>\n",
              "    <tr style=\"text-align: right;\">\n",
              "      <th></th>\n",
              "      <th>NM_REGIAO_SAUDE_ATUAL</th>\n",
              "      <th>SG_UF</th>\n",
              "      <th>CD_MUNICIPIO</th>\n",
              "    </tr>\n",
              "  </thead>\n",
              "  <tbody>\n",
              "    <tr>\n",
              "      <th>0</th>\n",
              "      <td>10ª RS Cascavel</td>\n",
              "      <td>PR</td>\n",
              "      <td>[410754, 410500, 410630, 411275, 411670, 41053...</td>\n",
              "    </tr>\n",
              "    <tr>\n",
              "      <th>1</th>\n",
              "      <td>10ª Região</td>\n",
              "      <td>PB</td>\n",
              "      <td>[250915, 251620, 251398, 251420, 251720, 25084...</td>\n",
              "    </tr>\n",
              "    <tr>\n",
              "      <th>2</th>\n",
              "      <td>10ª Região Limoeiro do Norte</td>\n",
              "      <td>CE</td>\n",
              "      <td>[230690, 230600, 230760, 231080, 231310, 23115...</td>\n",
              "    </tr>\n",
              "    <tr>\n",
              "      <th>3</th>\n",
              "      <td>10ª Região de Saúde</td>\n",
              "      <td>AL</td>\n",
              "      <td>[270240, 270330, 270500, 270642, 270580, 27071...</td>\n",
              "    </tr>\n",
              "    <tr>\n",
              "      <th>4</th>\n",
              "      <td>11ª RS Campo Mourão</td>\n",
              "      <td>PR</td>\n",
              "      <td>[412800, 410755, 411400, 410250, 410770, 41039...</td>\n",
              "    </tr>\n",
              "  </tbody>\n",
              "</table>\n",
              "</div>"
            ],
            "text/plain": [
              "          NM_REGIAO_SAUDE_ATUAL SG_UF  \\\n",
              "0               10ª RS Cascavel    PR   \n",
              "1                    10ª Região    PB   \n",
              "2  10ª Região Limoeiro do Norte    CE   \n",
              "3           10ª Região de Saúde    AL   \n",
              "4           11ª RS Campo Mourão    PR   \n",
              "\n",
              "                                        CD_MUNICIPIO  \n",
              "0  [410754, 410500, 410630, 411275, 411670, 41053...  \n",
              "1  [250915, 251620, 251398, 251420, 251720, 25084...  \n",
              "2  [230690, 230600, 230760, 231080, 231310, 23115...  \n",
              "3  [270240, 270330, 270500, 270642, 270580, 27071...  \n",
              "4  [412800, 410755, 411400, 410250, 410770, 41039...  "
            ]
          },
          "execution_count": 14,
          "metadata": {},
          "output_type": "execute_result"
        }
      ],
      "source": [
        "lista1.head()"
      ]
    },
    {
      "cell_type": "code",
      "execution_count": 15,
      "metadata": {
        "colab": {
          "base_uri": "https://localhost:8080/",
          "height": 206
        },
        "colab_type": "code",
        "id": "2drCi18QkCa5",
        "outputId": "441a6822-dfab-4b4d-f772-1d83b68cf250"
      },
      "outputs": [
        {
          "data": {
            "text/html": [
              "<div>\n",
              "<style scoped>\n",
              "    .dataframe tbody tr th:only-of-type {\n",
              "        vertical-align: middle;\n",
              "    }\n",
              "\n",
              "    .dataframe tbody tr th {\n",
              "        vertical-align: top;\n",
              "    }\n",
              "\n",
              "    .dataframe thead th {\n",
              "        text-align: right;\n",
              "    }\n",
              "</style>\n",
              "<table border=\"1\" class=\"dataframe\">\n",
              "  <thead>\n",
              "    <tr style=\"text-align: right;\">\n",
              "      <th></th>\n",
              "      <th>NM_REGIAO_SAUDE_ANTERIOR</th>\n",
              "      <th>SG_UF</th>\n",
              "      <th>CD_MUNICIPIO</th>\n",
              "    </tr>\n",
              "  </thead>\n",
              "  <tbody>\n",
              "    <tr>\n",
              "      <th>0</th>\n",
              "      <td>Acaraú</td>\n",
              "      <td>CE</td>\n",
              "      <td>[230020, 230725, 230890, 230230, 230425, 23078...</td>\n",
              "    </tr>\n",
              "    <tr>\n",
              "      <th>1</th>\n",
              "      <td>Acre</td>\n",
              "      <td>AC</td>\n",
              "      <td>[120001, 120034, 120038, 120040, 120043, 12004...</td>\n",
              "    </tr>\n",
              "    <tr>\n",
              "      <th>2</th>\n",
              "      <td>Afogados da Ingazeira</td>\n",
              "      <td>PE</td>\n",
              "      <td>[261440, 261153, 260770, 261280, 260390, 26071...</td>\n",
              "    </tr>\n",
              "    <tr>\n",
              "      <th>3</th>\n",
              "      <td>Alagoinhas</td>\n",
              "      <td>BA</td>\n",
              "      <td>[291650, 291590, 292970, 291370, 291050, 29022...</td>\n",
              "    </tr>\n",
              "    <tr>\n",
              "      <th>4</th>\n",
              "      <td>Alfenas</td>\n",
              "      <td>MG</td>\n",
              "      <td>[310530, 310410, 314510, 310160, 311440, 31669...</td>\n",
              "    </tr>\n",
              "  </tbody>\n",
              "</table>\n",
              "</div>"
            ],
            "text/plain": [
              "  NM_REGIAO_SAUDE_ANTERIOR SG_UF  \\\n",
              "0                   Acaraú    CE   \n",
              "1                     Acre    AC   \n",
              "2    Afogados da Ingazeira    PE   \n",
              "3               Alagoinhas    BA   \n",
              "4                  Alfenas    MG   \n",
              "\n",
              "                                        CD_MUNICIPIO  \n",
              "0  [230020, 230725, 230890, 230230, 230425, 23078...  \n",
              "1  [120001, 120034, 120038, 120040, 120043, 12004...  \n",
              "2  [261440, 261153, 260770, 261280, 260390, 26071...  \n",
              "3  [291650, 291590, 292970, 291370, 291050, 29022...  \n",
              "4  [310530, 310410, 314510, 310160, 311440, 31669...  "
            ]
          },
          "execution_count": 15,
          "metadata": {},
          "output_type": "execute_result"
        }
      ],
      "source": [
        "lista2.head()"
      ]
    },
    {
      "cell_type": "code",
      "execution_count": 16,
      "metadata": {
        "colab": {
          "base_uri": "https://localhost:8080/",
          "height": 36
        },
        "colab_type": "code",
        "id": "xjXI0N-QkDea",
        "outputId": "cb0ece97-c76a-4edb-ecc2-040f86c37e7e"
      },
      "outputs": [
        {
          "data": {
            "text/plain": [
              "(450, 3)"
            ]
          },
          "execution_count": 16,
          "metadata": {},
          "output_type": "execute_result"
        }
      ],
      "source": [
        "lista1.shape"
      ]
    },
    {
      "cell_type": "code",
      "execution_count": 17,
      "metadata": {
        "colab": {
          "base_uri": "https://localhost:8080/",
          "height": 36
        },
        "colab_type": "code",
        "id": "XklYKUBokLpU",
        "outputId": "3a37417a-7156-4189-ca40-306c45694f3f"
      },
      "outputs": [
        {
          "data": {
            "text/plain": [
              "(358, 3)"
            ]
          },
          "execution_count": 17,
          "metadata": {},
          "output_type": "execute_result"
        }
      ],
      "source": [
        "lista2.shape"
      ]
    },
    {
      "cell_type": "code",
      "execution_count": null,
      "metadata": {
        "colab": {},
        "colab_type": "code",
        "id": "4gIKEMBd5Mgq"
      },
      "outputs": [],
      "source": [
        "# ================ TESTES========================="
      ]
    },
    {
      "cell_type": "code",
      "execution_count": 18,
      "metadata": {
        "colab": {},
        "colab_type": "code",
        "id": "fswsNkU0k1DQ"
      },
      "outputs": [],
      "source": [
        "# verificar se tem regiões que abrangem mais de uma UF:\n",
        "# df_regioes.groupby(['NM_REGIAO_SAUDE_ATUAL', 'SG_UF']).size()\n",
        "df_unicos = df_regioes.drop_duplicates(subset=['NM_REGIAO_SAUDE_ATUAL', 'SG_UF'])"
      ]
    },
    {
      "cell_type": "code",
      "execution_count": 19,
      "metadata": {
        "colab": {
          "base_uri": "https://localhost:8080/",
          "height": 36
        },
        "colab_type": "code",
        "id": "V5zTuT4zk3JG",
        "outputId": "6f1f56cd-51ac-4eba-d001-63087b7dbc25"
      },
      "outputs": [
        {
          "data": {
            "text/plain": [
              "(450, 9)"
            ]
          },
          "execution_count": 19,
          "metadata": {},
          "output_type": "execute_result"
        }
      ],
      "source": [
        "df_unicos.shape  #438, 8"
      ]
    },
    {
      "cell_type": "code",
      "execution_count": 20,
      "metadata": {
        "colab": {},
        "colab_type": "code",
        "id": "fLKVMCzilFQg"
      },
      "outputs": [],
      "source": [
        "# Agrupa para selecionar Região de Saúde no DataFrame. Depois aplica o o metodo duplicated, para selecionar os efetivamente repetidos\n",
        "linhas_duplicadas = df_regioes.groupby(['NM_REGIAO_SAUDE_ATUAL', 'SG_UF'], as_index=False).count()"
      ]
    },
    {
      "cell_type": "code",
      "execution_count": 21,
      "metadata": {
        "colab": {
          "base_uri": "https://localhost:8080/",
          "height": 36
        },
        "colab_type": "code",
        "id": "4PsksOvalO_X",
        "outputId": "b490102a-888e-42bf-8fa9-941894f6dd02"
      },
      "outputs": [
        {
          "data": {
            "text/plain": [
              "(450, 9)"
            ]
          },
          "execution_count": 21,
          "metadata": {},
          "output_type": "execute_result"
        }
      ],
      "source": [
        "linhas_duplicadas.shape"
      ]
    },
    {
      "cell_type": "code",
      "execution_count": 22,
      "metadata": {
        "colab": {
          "base_uri": "https://localhost:8080/",
          "height": 206
        },
        "colab_type": "code",
        "id": "3H7Vx_W2layd",
        "outputId": "12e901fb-a1a1-4ee3-ae1b-fc13f908dbc7"
      },
      "outputs": [
        {
          "data": {
            "text/html": [
              "<div>\n",
              "<style scoped>\n",
              "    .dataframe tbody tr th:only-of-type {\n",
              "        vertical-align: middle;\n",
              "    }\n",
              "\n",
              "    .dataframe tbody tr th {\n",
              "        vertical-align: top;\n",
              "    }\n",
              "\n",
              "    .dataframe thead th {\n",
              "        text-align: right;\n",
              "    }\n",
              "</style>\n",
              "<table border=\"1\" class=\"dataframe\">\n",
              "  <thead>\n",
              "    <tr style=\"text-align: right;\">\n",
              "      <th></th>\n",
              "      <th>NM_REGIAO_SAUDE_ATUAL</th>\n",
              "      <th>SG_UF</th>\n",
              "      <th>CD_MUNICIPIO</th>\n",
              "      <th>CD_REGIAO_SAUDE_2023</th>\n",
              "      <th>NM_MUNICIPIO</th>\n",
              "      <th>NM_REGIAO_SAUDE_ANTERIOR</th>\n",
              "      <th>NM_MUNICIPIOS_IN_37</th>\n",
              "      <th>ESTADO</th>\n",
              "      <th>REGIAO_PAIS</th>\n",
              "    </tr>\n",
              "  </thead>\n",
              "  <tbody>\n",
              "    <tr>\n",
              "      <th>115</th>\n",
              "      <td>Baixo Amazonas</td>\n",
              "      <td>AM</td>\n",
              "      <td>5</td>\n",
              "      <td>5</td>\n",
              "      <td>5</td>\n",
              "      <td>5</td>\n",
              "      <td>5</td>\n",
              "      <td>5</td>\n",
              "      <td>5</td>\n",
              "    </tr>\n",
              "    <tr>\n",
              "      <th>116</th>\n",
              "      <td>Baixo Amazonas</td>\n",
              "      <td>PA</td>\n",
              "      <td>14</td>\n",
              "      <td>14</td>\n",
              "      <td>14</td>\n",
              "      <td>13</td>\n",
              "      <td>13</td>\n",
              "      <td>14</td>\n",
              "      <td>14</td>\n",
              "    </tr>\n",
              "    <tr>\n",
              "      <th>145</th>\n",
              "      <td>Central</td>\n",
              "      <td>GO</td>\n",
              "      <td>26</td>\n",
              "      <td>26</td>\n",
              "      <td>26</td>\n",
              "      <td>26</td>\n",
              "      <td>26</td>\n",
              "      <td>26</td>\n",
              "      <td>26</td>\n",
              "    </tr>\n",
              "    <tr>\n",
              "      <th>146</th>\n",
              "      <td>Central</td>\n",
              "      <td>RO</td>\n",
              "      <td>14</td>\n",
              "      <td>14</td>\n",
              "      <td>14</td>\n",
              "      <td>14</td>\n",
              "      <td>14</td>\n",
              "      <td>14</td>\n",
              "      <td>14</td>\n",
              "    </tr>\n",
              "    <tr>\n",
              "      <th>150</th>\n",
              "      <td>Centro Norte</td>\n",
              "      <td>MT</td>\n",
              "      <td>7</td>\n",
              "      <td>7</td>\n",
              "      <td>7</td>\n",
              "      <td>7</td>\n",
              "      <td>7</td>\n",
              "      <td>7</td>\n",
              "      <td>7</td>\n",
              "    </tr>\n",
              "  </tbody>\n",
              "</table>\n",
              "</div>"
            ],
            "text/plain": [
              "    NM_REGIAO_SAUDE_ATUAL SG_UF  CD_MUNICIPIO  CD_REGIAO_SAUDE_2023  \\\n",
              "115        Baixo Amazonas    AM             5                     5   \n",
              "116        Baixo Amazonas    PA            14                    14   \n",
              "145               Central    GO            26                    26   \n",
              "146               Central    RO            14                    14   \n",
              "150          Centro Norte    MT             7                     7   \n",
              "\n",
              "     NM_MUNICIPIO  NM_REGIAO_SAUDE_ANTERIOR  NM_MUNICIPIOS_IN_37  ESTADO  \\\n",
              "115             5                         5                    5       5   \n",
              "116            14                        13                   13      14   \n",
              "145            26                        26                   26      26   \n",
              "146            14                        14                   14      14   \n",
              "150             7                         7                    7       7   \n",
              "\n",
              "     REGIAO_PAIS  \n",
              "115            5  \n",
              "116           14  \n",
              "145           26  \n",
              "146           14  \n",
              "150            7  "
            ]
          },
          "execution_count": 22,
          "metadata": {},
          "output_type": "execute_result"
        }
      ],
      "source": [
        "# Seleciona todas as linhas duplicadas baseadas em uma lista de colunas. O parametro keep é para exibir todos os repetidos e não o último ou primeiro\n",
        "linhas_duplicadas = linhas_duplicadas[linhas_duplicadas.duplicated(subset=['NM_REGIAO_SAUDE_ATUAL'], keep=False)]\n",
        "linhas_duplicadas.shape  #(17, 8)\n",
        "linhas_duplicadas.head()\n",
        "# Análise: Observando o campo NM_REGIAO_SAUDE_ATUAL e SG_UF, observa-se que: As regiões repetidas e que são de UF's contíguas São: Baixo Amazonas (AM e PA).\n",
        "# O restante não são contíguas. Destaque para a Região de Saúde nomeada de \"NORTE\". Observando-se RJ e ES, que são contíguos, porém as respectivas Regiões situam-se no Norte de cada Estado.\n"
      ]
    },
    {
      "cell_type": "code",
      "execution_count": null,
      "metadata": {
        "colab": {},
        "colab_type": "code",
        "id": "62wGINjdlblY"
      },
      "outputs": [],
      "source": []
    },
    {
      "cell_type": "code",
      "execution_count": 23,
      "metadata": {
        "colab": {},
        "colab_type": "code",
        "id": "tUjiTw5DYtLf"
      },
      "outputs": [],
      "source": [
        "# Até aqui, para a região Norte, não tem Problemas\n",
        "teste = lista1[lista1['NM_REGIAO_SAUDE_ATUAL']=='Norte']\n",
        "# Para o caso da Região Baixo Amazonas que abrange 2 UF's, deve-se colocar a condição de agregar, para este caso, as duas UF's \n",
        "# teste = lista1[lista1['NM_REGIAO_SAUDE_ATUAL']=='Baixo Amazonas']"
      ]
    },
    {
      "cell_type": "code",
      "execution_count": 24,
      "metadata": {
        "colab": {},
        "colab_type": "code",
        "id": "qHvxcl7gMlJa"
      },
      "outputs": [],
      "source": [
        "# teste.to_excel('teste2.xlsx')\n",
        "lista1.to_excel('lista1.xlsx')"
      ]
    },
    {
      "cell_type": "code",
      "execution_count": 25,
      "metadata": {
        "colab": {
          "base_uri": "https://localhost:8080/",
          "height": 36
        },
        "colab_type": "code",
        "id": "kJ6-QZKPnPT4",
        "outputId": "dd556403-ecb6-4e3b-80e1-8211d00d38d2"
      },
      "outputs": [
        {
          "data": {
            "text/plain": [
              "(2, 3)"
            ]
          },
          "execution_count": 25,
          "metadata": {},
          "output_type": "execute_result"
        }
      ],
      "source": [
        "teste.shape"
      ]
    },
    {
      "cell_type": "code",
      "execution_count": 26,
      "metadata": {
        "colab": {
          "base_uri": "https://localhost:8080/",
          "height": 143
        },
        "colab_type": "code",
        "id": "5JSMJudnoUFT",
        "outputId": "e3723578-d990-454d-a59c-bc6265be682d"
      },
      "outputs": [
        {
          "data": {
            "text/html": [
              "<div>\n",
              "<style scoped>\n",
              "    .dataframe tbody tr th:only-of-type {\n",
              "        vertical-align: middle;\n",
              "    }\n",
              "\n",
              "    .dataframe tbody tr th {\n",
              "        vertical-align: top;\n",
              "    }\n",
              "\n",
              "    .dataframe thead th {\n",
              "        text-align: right;\n",
              "    }\n",
              "</style>\n",
              "<table border=\"1\" class=\"dataframe\">\n",
              "  <thead>\n",
              "    <tr style=\"text-align: right;\">\n",
              "      <th></th>\n",
              "      <th>NM_REGIAO_SAUDE_ATUAL</th>\n",
              "      <th>SG_UF</th>\n",
              "      <th>CD_MUNICIPIO</th>\n",
              "    </tr>\n",
              "  </thead>\n",
              "  <tbody>\n",
              "    <tr>\n",
              "      <th>277</th>\n",
              "      <td>Norte</td>\n",
              "      <td>GO</td>\n",
              "      <td>[521377, 521410, 522145, 522020, 520357, 52196...</td>\n",
              "    </tr>\n",
              "    <tr>\n",
              "      <th>278</th>\n",
              "      <td>Norte</td>\n",
              "      <td>RJ</td>\n",
              "      <td>[330240, 330500, 330475, 330093, 330415, 33048...</td>\n",
              "    </tr>\n",
              "  </tbody>\n",
              "</table>\n",
              "</div>"
            ],
            "text/plain": [
              "    NM_REGIAO_SAUDE_ATUAL SG_UF  \\\n",
              "277                 Norte    GO   \n",
              "278                 Norte    RJ   \n",
              "\n",
              "                                          CD_MUNICIPIO  \n",
              "277  [521377, 521410, 522145, 522020, 520357, 52196...  \n",
              "278  [330240, 330500, 330475, 330093, 330415, 33048...  "
            ]
          },
          "execution_count": 26,
          "metadata": {},
          "output_type": "execute_result"
        }
      ],
      "source": [
        "teste.head()"
      ]
    },
    {
      "cell_type": "code",
      "execution_count": 27,
      "metadata": {
        "colab": {
          "base_uri": "https://localhost:8080/",
          "height": 92
        },
        "colab_type": "code",
        "id": "0xVNTErtmUHa",
        "outputId": "21a11a97-4b47-4682-a3fc-71bb37dbf61b"
      },
      "outputs": [
        {
          "data": {
            "text/plain": [
              "277    13\n",
              "278     8\n",
              "Name: CD_MUNICIPIO, dtype: int64"
            ]
          },
          "execution_count": 27,
          "metadata": {},
          "output_type": "execute_result"
        }
      ],
      "source": [
        "teste['CD_MUNICIPIO'].str.len()"
      ]
    },
    {
      "cell_type": "code",
      "execution_count": 28,
      "metadata": {
        "colab": {},
        "colab_type": "code",
        "id": "Q9TrRaIu4eev"
      },
      "outputs": [],
      "source": [
        "teste = lista1[lista1['NM_REGIAO_SAUDE_ATUAL']=='Baixo Amazonas']"
      ]
    },
    {
      "cell_type": "code",
      "execution_count": 29,
      "metadata": {
        "colab": {
          "base_uri": "https://localhost:8080/",
          "height": 74
        },
        "colab_type": "code",
        "id": "fIxLGNPO4qMt",
        "outputId": "24f7d413-d627-4a0f-c19e-6bc3e9c68235"
      },
      "outputs": [
        {
          "data": {
            "text/plain": [
              "115     5\n",
              "116    14\n",
              "Name: CD_MUNICIPIO, dtype: int64"
            ]
          },
          "execution_count": 29,
          "metadata": {},
          "output_type": "execute_result"
        }
      ],
      "source": [
        "teste['CD_MUNICIPIO'].str.len()"
      ]
    },
    {
      "cell_type": "code",
      "execution_count": 30,
      "metadata": {
        "colab": {},
        "colab_type": "code",
        "id": "ZfzL5cUNdqdt"
      },
      "outputs": [],
      "source": [
        "# verificar se tem regiões (ANTERIOR que abrangem mais de uma UF:\n",
        "# df_regioes.groupby(['NM_REGIAO_SAUDE_ANTERIOR', 'SG_UF']).size()\n",
        "df_unicos = df_regioes.drop_duplicates(subset=['NM_REGIAO_SAUDE_ANTERIOR', 'SG_UF'])"
      ]
    },
    {
      "cell_type": "code",
      "execution_count": 31,
      "metadata": {
        "colab": {
          "base_uri": "https://localhost:8080/",
          "height": 36
        },
        "colab_type": "code",
        "id": "I5MEG6budrHS",
        "outputId": "de1a830a-ad54-40ac-ec62-2830cb0081ff"
      },
      "outputs": [
        {
          "data": {
            "text/plain": [
              "(362, 9)"
            ]
          },
          "execution_count": 31,
          "metadata": {},
          "output_type": "execute_result"
        }
      ],
      "source": [
        "df_unicos.shape  #362, 9"
      ]
    },
    {
      "cell_type": "code",
      "execution_count": 32,
      "metadata": {
        "colab": {
          "base_uri": "https://localhost:8080/",
          "height": 36
        },
        "colab_type": "code",
        "id": "C8k_4xvzd5Zr",
        "outputId": "efdcdf5e-2a9e-4ec4-f0b4-a26562ea2fae"
      },
      "outputs": [
        {
          "data": {
            "text/plain": [
              "(358, 9)"
            ]
          },
          "execution_count": 32,
          "metadata": {},
          "output_type": "execute_result"
        }
      ],
      "source": [
        "# Agrupa para selecionar Região de Saúde no DataFrame. Depois aplica o o metodo duplicated, para selecionar os efetivamente repetidos\n",
        "linhas_duplicadas = df_regioes.groupby(['NM_REGIAO_SAUDE_ANTERIOR', 'SG_UF'], as_index=False).count()\n",
        "linhas_duplicadas.shape # 358, 9"
      ]
    },
    {
      "cell_type": "code",
      "execution_count": 33,
      "metadata": {
        "colab": {
          "base_uri": "https://localhost:8080/",
          "height": 238
        },
        "colab_type": "code",
        "id": "-Kru85rkd59F",
        "outputId": "2ce8854d-ef64-48cf-fa6a-acd26ca74c24"
      },
      "outputs": [
        {
          "data": {
            "text/html": [
              "<div>\n",
              "<style scoped>\n",
              "    .dataframe tbody tr th:only-of-type {\n",
              "        vertical-align: middle;\n",
              "    }\n",
              "\n",
              "    .dataframe tbody tr th {\n",
              "        vertical-align: top;\n",
              "    }\n",
              "\n",
              "    .dataframe thead th {\n",
              "        text-align: right;\n",
              "    }\n",
              "</style>\n",
              "<table border=\"1\" class=\"dataframe\">\n",
              "  <thead>\n",
              "    <tr style=\"text-align: right;\">\n",
              "      <th></th>\n",
              "      <th>NM_REGIAO_SAUDE_ANTERIOR</th>\n",
              "      <th>SG_UF</th>\n",
              "      <th>CD_MUNICIPIO</th>\n",
              "      <th>CD_REGIAO_SAUDE_2023</th>\n",
              "      <th>NM_REGIAO_SAUDE_ATUAL</th>\n",
              "      <th>NM_MUNICIPIO</th>\n",
              "      <th>NM_MUNICIPIOS_IN_37</th>\n",
              "      <th>ESTADO</th>\n",
              "      <th>REGIAO_PAIS</th>\n",
              "    </tr>\n",
              "  </thead>\n",
              "  <tbody>\n",
              "    <tr>\n",
              "      <th>26</th>\n",
              "      <td>Baixo Amazonas</td>\n",
              "      <td>AM</td>\n",
              "      <td>5</td>\n",
              "      <td>5</td>\n",
              "      <td>5</td>\n",
              "      <td>5</td>\n",
              "      <td>5</td>\n",
              "      <td>5</td>\n",
              "      <td>5</td>\n",
              "    </tr>\n",
              "    <tr>\n",
              "      <th>27</th>\n",
              "      <td>Baixo Amazonas</td>\n",
              "      <td>PA</td>\n",
              "      <td>9</td>\n",
              "      <td>9</td>\n",
              "      <td>9</td>\n",
              "      <td>9</td>\n",
              "      <td>9</td>\n",
              "      <td>9</td>\n",
              "      <td>9</td>\n",
              "    </tr>\n",
              "    <tr>\n",
              "      <th>187</th>\n",
              "      <td>Metropolitana</td>\n",
              "      <td>PA</td>\n",
              "      <td>5</td>\n",
              "      <td>5</td>\n",
              "      <td>5</td>\n",
              "      <td>5</td>\n",
              "      <td>5</td>\n",
              "      <td>5</td>\n",
              "      <td>5</td>\n",
              "    </tr>\n",
              "    <tr>\n",
              "      <th>188</th>\n",
              "      <td>Metropolitana</td>\n",
              "      <td>PR</td>\n",
              "      <td>29</td>\n",
              "      <td>29</td>\n",
              "      <td>29</td>\n",
              "      <td>29</td>\n",
              "      <td>29</td>\n",
              "      <td>29</td>\n",
              "      <td>29</td>\n",
              "    </tr>\n",
              "    <tr>\n",
              "      <th>211</th>\n",
              "      <td>Norte</td>\n",
              "      <td>GO</td>\n",
              "      <td>13</td>\n",
              "      <td>13</td>\n",
              "      <td>13</td>\n",
              "      <td>13</td>\n",
              "      <td>13</td>\n",
              "      <td>13</td>\n",
              "      <td>13</td>\n",
              "    </tr>\n",
              "    <tr>\n",
              "      <th>212</th>\n",
              "      <td>Norte</td>\n",
              "      <td>RJ</td>\n",
              "      <td>8</td>\n",
              "      <td>8</td>\n",
              "      <td>8</td>\n",
              "      <td>8</td>\n",
              "      <td>8</td>\n",
              "      <td>8</td>\n",
              "      <td>8</td>\n",
              "    </tr>\n",
              "  </tbody>\n",
              "</table>\n",
              "</div>"
            ],
            "text/plain": [
              "    NM_REGIAO_SAUDE_ANTERIOR SG_UF  CD_MUNICIPIO  CD_REGIAO_SAUDE_2023  \\\n",
              "26            Baixo Amazonas    AM             5                     5   \n",
              "27            Baixo Amazonas    PA             9                     9   \n",
              "187            Metropolitana    PA             5                     5   \n",
              "188            Metropolitana    PR            29                    29   \n",
              "211                    Norte    GO            13                    13   \n",
              "212                    Norte    RJ             8                     8   \n",
              "\n",
              "     NM_REGIAO_SAUDE_ATUAL  NM_MUNICIPIO  NM_MUNICIPIOS_IN_37  ESTADO  \\\n",
              "26                       5             5                    5       5   \n",
              "27                       9             9                    9       9   \n",
              "187                      5             5                    5       5   \n",
              "188                     29            29                   29      29   \n",
              "211                     13            13                   13      13   \n",
              "212                      8             8                    8       8   \n",
              "\n",
              "     REGIAO_PAIS  \n",
              "26             5  \n",
              "27             9  \n",
              "187            5  \n",
              "188           29  \n",
              "211           13  \n",
              "212            8  "
            ]
          },
          "execution_count": 33,
          "metadata": {},
          "output_type": "execute_result"
        }
      ],
      "source": [
        "# Seleciona todas as linhas duplicadas baseadas em uma lista de colunas. O parametro keep é para exibir todos os repetidos e não o último ou primeiro\n",
        "linhas_duplicadas = linhas_duplicadas[linhas_duplicadas.duplicated(subset=['NM_REGIAO_SAUDE_ANTERIOR'], keep=False)]\n",
        "linhas_duplicadas.shape  #(17, 9)\n",
        "linhas_duplicadas\n",
        "# Análise: Observando o campo NM_REGIAO_SAUDE_ANTERIOR e SG_UF, observa-se que: As regiões repetidas e que são de UF's contíguas São: Baixo Amazonas (AM e PA).\n",
        "# O restante não são contíguas.\n"
      ]
    },
    {
      "cell_type": "code",
      "execution_count": null,
      "metadata": {
        "colab": {},
        "colab_type": "code",
        "id": "1OEi_TnJdriP"
      },
      "outputs": [],
      "source": [
        "# ================ FIM DOS TESTES ====================="
      ]
    },
    {
      "cell_type": "code",
      "execution_count": 34,
      "metadata": {
        "colab": {},
        "colab_type": "code",
        "id": "ENAV0W9us19F"
      },
      "outputs": [],
      "source": [
        "# ========ROTINA INTERMEDIARIA================\n",
        "\n",
        "# Rotina para agregar a regiao 'Baixo Amazonas' das UF's: AM e PA, por tratar-se de região interestadual. Caso único.\n",
        "lista_aux1 = lista1[lista1['NM_REGIAO_SAUDE_ATUAL']=='Baixo Amazonas']\n",
        "lista_aux2 = lista2[lista2['NM_REGIAO_SAUDE_ANTERIOR']=='Baixo Amazonas']\n"
      ]
    },
    {
      "cell_type": "code",
      "execution_count": 35,
      "metadata": {
        "colab": {
          "base_uri": "https://localhost:8080/",
          "height": 112
        },
        "colab_type": "code",
        "id": "skSKfpr9tLKp",
        "outputId": "e5dcb356-7e97-46f3-f87a-9efac04e99da"
      },
      "outputs": [
        {
          "data": {
            "text/html": [
              "<div>\n",
              "<style scoped>\n",
              "    .dataframe tbody tr th:only-of-type {\n",
              "        vertical-align: middle;\n",
              "    }\n",
              "\n",
              "    .dataframe tbody tr th {\n",
              "        vertical-align: top;\n",
              "    }\n",
              "\n",
              "    .dataframe thead th {\n",
              "        text-align: right;\n",
              "    }\n",
              "</style>\n",
              "<table border=\"1\" class=\"dataframe\">\n",
              "  <thead>\n",
              "    <tr style=\"text-align: right;\">\n",
              "      <th></th>\n",
              "      <th>NM_REGIAO_SAUDE_ATUAL</th>\n",
              "      <th>SG_UF</th>\n",
              "      <th>CD_MUNICIPIO</th>\n",
              "    </tr>\n",
              "  </thead>\n",
              "  <tbody>\n",
              "    <tr>\n",
              "      <th>115</th>\n",
              "      <td>Baixo Amazonas</td>\n",
              "      <td>AM</td>\n",
              "      <td>[130050, 130340, 130290, 130068, 130300]</td>\n",
              "    </tr>\n",
              "    <tr>\n",
              "      <th>116</th>\n",
              "      <td>Baixo Amazonas</td>\n",
              "      <td>PA</td>\n",
              "      <td>[150145, 150050, 150530, 150565, 150600, 15047...</td>\n",
              "    </tr>\n",
              "  </tbody>\n",
              "</table>\n",
              "</div>"
            ],
            "text/plain": [
              "    NM_REGIAO_SAUDE_ATUAL SG_UF  \\\n",
              "115        Baixo Amazonas    AM   \n",
              "116        Baixo Amazonas    PA   \n",
              "\n",
              "                                          CD_MUNICIPIO  \n",
              "115           [130050, 130340, 130290, 130068, 130300]  \n",
              "116  [150145, 150050, 150530, 150565, 150600, 15047...  "
            ]
          },
          "execution_count": 35,
          "metadata": {},
          "output_type": "execute_result"
        }
      ],
      "source": [
        "lista_aux1.head()"
      ]
    },
    {
      "cell_type": "code",
      "execution_count": 36,
      "metadata": {
        "colab": {
          "base_uri": "https://localhost:8080/",
          "height": 112
        },
        "colab_type": "code",
        "id": "NBCSM7L_tL1d",
        "outputId": "ecf74dd7-04a0-42bf-b2dc-d7a9b2d7ddfb"
      },
      "outputs": [
        {
          "data": {
            "text/html": [
              "<div>\n",
              "<style scoped>\n",
              "    .dataframe tbody tr th:only-of-type {\n",
              "        vertical-align: middle;\n",
              "    }\n",
              "\n",
              "    .dataframe tbody tr th {\n",
              "        vertical-align: top;\n",
              "    }\n",
              "\n",
              "    .dataframe thead th {\n",
              "        text-align: right;\n",
              "    }\n",
              "</style>\n",
              "<table border=\"1\" class=\"dataframe\">\n",
              "  <thead>\n",
              "    <tr style=\"text-align: right;\">\n",
              "      <th></th>\n",
              "      <th>NM_REGIAO_SAUDE_ANTERIOR</th>\n",
              "      <th>SG_UF</th>\n",
              "      <th>CD_MUNICIPIO</th>\n",
              "    </tr>\n",
              "  </thead>\n",
              "  <tbody>\n",
              "    <tr>\n",
              "      <th>26</th>\n",
              "      <td>Baixo Amazonas</td>\n",
              "      <td>AM</td>\n",
              "      <td>[130050, 130340, 130290, 130068, 130300]</td>\n",
              "    </tr>\n",
              "    <tr>\n",
              "      <th>27</th>\n",
              "      <td>Baixo Amazonas</td>\n",
              "      <td>PA</td>\n",
              "      <td>[150145, 150050, 150565, 150600, 150285, 15048...</td>\n",
              "    </tr>\n",
              "  </tbody>\n",
              "</table>\n",
              "</div>"
            ],
            "text/plain": [
              "   NM_REGIAO_SAUDE_ANTERIOR SG_UF  \\\n",
              "26           Baixo Amazonas    AM   \n",
              "27           Baixo Amazonas    PA   \n",
              "\n",
              "                                         CD_MUNICIPIO  \n",
              "26           [130050, 130340, 130290, 130068, 130300]  \n",
              "27  [150145, 150050, 150565, 150600, 150285, 15048...  "
            ]
          },
          "execution_count": 36,
          "metadata": {},
          "output_type": "execute_result"
        }
      ],
      "source": [
        "lista_aux2.head()"
      ]
    },
    {
      "cell_type": "code",
      "execution_count": 37,
      "metadata": {
        "colab": {},
        "colab_type": "code",
        "id": "iFo72MastWJj"
      },
      "outputs": [],
      "source": [
        "# uso do drop para SG_UF  para facilitar o gropuby por NM_REGIAO_SAUDE_ATUAL\n",
        "lista_aux1_new = lista_aux1.drop('SG_UF', axis=1)\n",
        "lista_aux2_new = lista_aux2.drop('SG_UF', axis=1)"
      ]
    },
    {
      "cell_type": "code",
      "execution_count": 38,
      "metadata": {
        "colab": {},
        "colab_type": "code",
        "id": "fpYM3Jl8tYP_"
      },
      "outputs": [],
      "source": [
        "lista_aux1_fim = lista_aux1_new.groupby('NM_REGIAO_SAUDE_ATUAL')['CD_MUNICIPIO'].sum().reset_index()\n",
        "lista_aux2_fim = lista_aux2_new.groupby('NM_REGIAO_SAUDE_ANTERIOR')['CD_MUNICIPIO'].sum().reset_index()"
      ]
    },
    {
      "cell_type": "code",
      "execution_count": 39,
      "metadata": {
        "colab": {
          "base_uri": "https://localhost:8080/",
          "height": 81
        },
        "colab_type": "code",
        "id": "UDsP5mfHtngd",
        "outputId": "c52cefcf-9373-48a1-a12b-77a44b82f059"
      },
      "outputs": [
        {
          "data": {
            "text/html": [
              "<div>\n",
              "<style scoped>\n",
              "    .dataframe tbody tr th:only-of-type {\n",
              "        vertical-align: middle;\n",
              "    }\n",
              "\n",
              "    .dataframe tbody tr th {\n",
              "        vertical-align: top;\n",
              "    }\n",
              "\n",
              "    .dataframe thead th {\n",
              "        text-align: right;\n",
              "    }\n",
              "</style>\n",
              "<table border=\"1\" class=\"dataframe\">\n",
              "  <thead>\n",
              "    <tr style=\"text-align: right;\">\n",
              "      <th></th>\n",
              "      <th>NM_REGIAO_SAUDE_ATUAL</th>\n",
              "      <th>CD_MUNICIPIO</th>\n",
              "    </tr>\n",
              "  </thead>\n",
              "  <tbody>\n",
              "    <tr>\n",
              "      <th>0</th>\n",
              "      <td>Baixo Amazonas</td>\n",
              "      <td>[130050, 130340, 130290, 130068, 130300, 15014...</td>\n",
              "    </tr>\n",
              "  </tbody>\n",
              "</table>\n",
              "</div>"
            ],
            "text/plain": [
              "  NM_REGIAO_SAUDE_ATUAL                                       CD_MUNICIPIO\n",
              "0        Baixo Amazonas  [130050, 130340, 130290, 130068, 130300, 15014..."
            ]
          },
          "execution_count": 39,
          "metadata": {},
          "output_type": "execute_result"
        }
      ],
      "source": [
        "lista_aux1_fim.head()"
      ]
    },
    {
      "cell_type": "code",
      "execution_count": 40,
      "metadata": {
        "colab": {
          "base_uri": "https://localhost:8080/",
          "height": 81
        },
        "colab_type": "code",
        "id": "iqpKX_T9toay",
        "outputId": "6e5cfb44-f351-4a13-cce5-937b463555a9"
      },
      "outputs": [
        {
          "data": {
            "text/html": [
              "<div>\n",
              "<style scoped>\n",
              "    .dataframe tbody tr th:only-of-type {\n",
              "        vertical-align: middle;\n",
              "    }\n",
              "\n",
              "    .dataframe tbody tr th {\n",
              "        vertical-align: top;\n",
              "    }\n",
              "\n",
              "    .dataframe thead th {\n",
              "        text-align: right;\n",
              "    }\n",
              "</style>\n",
              "<table border=\"1\" class=\"dataframe\">\n",
              "  <thead>\n",
              "    <tr style=\"text-align: right;\">\n",
              "      <th></th>\n",
              "      <th>NM_REGIAO_SAUDE_ANTERIOR</th>\n",
              "      <th>CD_MUNICIPIO</th>\n",
              "    </tr>\n",
              "  </thead>\n",
              "  <tbody>\n",
              "    <tr>\n",
              "      <th>0</th>\n",
              "      <td>Baixo Amazonas</td>\n",
              "      <td>[130050, 130340, 130290, 130068, 130300, 15014...</td>\n",
              "    </tr>\n",
              "  </tbody>\n",
              "</table>\n",
              "</div>"
            ],
            "text/plain": [
              "  NM_REGIAO_SAUDE_ANTERIOR                                       CD_MUNICIPIO\n",
              "0           Baixo Amazonas  [130050, 130340, 130290, 130068, 130300, 15014..."
            ]
          },
          "execution_count": 40,
          "metadata": {},
          "output_type": "execute_result"
        }
      ],
      "source": [
        "lista_aux2_fim.head()"
      ]
    },
    {
      "cell_type": "code",
      "execution_count": 41,
      "metadata": {
        "colab": {
          "base_uri": "https://localhost:8080/",
          "height": 375
        },
        "colab_type": "code",
        "id": "9gvYMT9RtEpD",
        "outputId": "1fa5ec2d-abd9-4995-97fd-2f7ddd1ea2af"
      },
      "outputs": [
        {
          "data": {
            "text/plain": [
              "[[130050,\n",
              "  130340,\n",
              "  130290,\n",
              "  130068,\n",
              "  130300,\n",
              "  150145,\n",
              "  150050,\n",
              "  150530,\n",
              "  150565,\n",
              "  150600,\n",
              "  150475,\n",
              "  150285,\n",
              "  150510,\n",
              "  150797,\n",
              "  150480,\n",
              "  150390,\n",
              "  150040,\n",
              "  150300,\n",
              "  150680]]"
            ]
          },
          "execution_count": 41,
          "metadata": {},
          "output_type": "execute_result"
        }
      ],
      "source": [
        "contar1 = list(lista_aux1_fim['CD_MUNICIPIO'])\n",
        "# len(lista_aux2_fim['CD_MUNICIPIO'])\n",
        "# Contar list of values within a pandas df\n",
        "# contar1 = [sum(a) for a in zip(*lista_aux1_fim['CD_MUNICIPIO'])]\n",
        "contar1"
      ]
    },
    {
      "cell_type": "code",
      "execution_count": 42,
      "metadata": {
        "colab": {
          "base_uri": "https://localhost:8080/",
          "height": 36
        },
        "colab_type": "code",
        "id": "nOeahVE61o7o",
        "outputId": "95c4c1b5-d712-4ec8-a86d-cab5fc26126f"
      },
      "outputs": [
        {
          "data": {
            "text/plain": [
              "1"
            ]
          },
          "execution_count": 42,
          "metadata": {},
          "output_type": "execute_result"
        }
      ],
      "source": [
        "len(contar1)"
      ]
    },
    {
      "cell_type": "code",
      "execution_count": 43,
      "metadata": {
        "colab": {},
        "colab_type": "code",
        "id": "XneNNtoYt0J3"
      },
      "outputs": [],
      "source": [
        "teste = lista1.copy()"
      ]
    },
    {
      "cell_type": "code",
      "execution_count": 44,
      "metadata": {
        "colab": {},
        "colab_type": "code",
        "id": "Ml1c4p6Lt1e8"
      },
      "outputs": [],
      "source": [
        "#atualizacao somente da linha onde está o baixo amazonas. Não esquecer de deletar a outra linha. Baixo Amazonas (PA)\n",
        "teste.loc[teste['NM_REGIAO_SAUDE_ATUAL']=='Baixo Amazonas', 'CD_MUNICIPIO'] = contar1"
      ]
    },
    {
      "cell_type": "code",
      "execution_count": 45,
      "metadata": {
        "colab": {},
        "colab_type": "code",
        "id": "zrzktKiey8lT"
      },
      "outputs": [],
      "source": [
        "teste = teste.drop(teste[(teste['NM_REGIAO_SAUDE_ATUAL']=='Baixo Amazonas') & (teste['SG_UF']=='PA')].index) # nao esquecer index\n",
        "# teste[teste['NM_REGIAO_SAUDE_ATUAL']=='Baixo Amazonas']\n",
        "# teste.head()"
      ]
    },
    {
      "cell_type": "code",
      "execution_count": 46,
      "metadata": {
        "colab": {
          "base_uri": "https://localhost:8080/",
          "height": 81
        },
        "colab_type": "code",
        "id": "Moa_YBkn8i1s",
        "outputId": "ca177c59-8b43-4023-e08a-a0364eccd827"
      },
      "outputs": [
        {
          "data": {
            "text/html": [
              "<div>\n",
              "<style scoped>\n",
              "    .dataframe tbody tr th:only-of-type {\n",
              "        vertical-align: middle;\n",
              "    }\n",
              "\n",
              "    .dataframe tbody tr th {\n",
              "        vertical-align: top;\n",
              "    }\n",
              "\n",
              "    .dataframe thead th {\n",
              "        text-align: right;\n",
              "    }\n",
              "</style>\n",
              "<table border=\"1\" class=\"dataframe\">\n",
              "  <thead>\n",
              "    <tr style=\"text-align: right;\">\n",
              "      <th></th>\n",
              "      <th>NM_REGIAO_SAUDE_ATUAL</th>\n",
              "      <th>SG_UF</th>\n",
              "      <th>CD_MUNICIPIO</th>\n",
              "    </tr>\n",
              "  </thead>\n",
              "  <tbody>\n",
              "    <tr>\n",
              "      <th>115</th>\n",
              "      <td>Baixo Amazonas</td>\n",
              "      <td>AM</td>\n",
              "      <td>[130050, 130340, 130290, 130068, 130300, 15014...</td>\n",
              "    </tr>\n",
              "  </tbody>\n",
              "</table>\n",
              "</div>"
            ],
            "text/plain": [
              "    NM_REGIAO_SAUDE_ATUAL SG_UF  \\\n",
              "115        Baixo Amazonas    AM   \n",
              "\n",
              "                                          CD_MUNICIPIO  \n",
              "115  [130050, 130340, 130290, 130068, 130300, 15014...  "
            ]
          },
          "execution_count": 46,
          "metadata": {},
          "output_type": "execute_result"
        }
      ],
      "source": [
        "teste[teste['NM_REGIAO_SAUDE_ATUAL']=='Baixo Amazonas']"
      ]
    },
    {
      "cell_type": "code",
      "execution_count": null,
      "metadata": {
        "colab": {},
        "colab_type": "code",
        "id": "KQ57dfeffku-"
      },
      "outputs": [],
      "source": [
        "# =========================================\n",
        "# OPERAÇÕES DE CONCATENAÇÃO DAS LISTAS DE MUNICIPIOS EM LISTA POR REGIOES COM O DATAFRAME ORIGINAL"
      ]
    },
    {
      "cell_type": "code",
      "execution_count": 47,
      "metadata": {
        "colab": {},
        "colab_type": "code",
        "id": "wBT5-uSOp_lg"
      },
      "outputs": [],
      "source": [
        "df_regioes_concat1 = pd.merge(df_regioes, lista1, how = 'left', left_on=['NM_REGIAO_SAUDE_ATUAL','SG_UF'], right_on=['NM_REGIAO_SAUDE_ATUAL','SG_UF'])\n",
        "# Agora concatenação com a Regiao anterior, na otica da lista 2\n",
        "df_regioes_concat2 = pd.merge(df_regioes, lista2, how = 'left', left_on=['NM_REGIAO_SAUDE_ANTERIOR','SG_UF'], right_on=['NM_REGIAO_SAUDE_ANTERIOR','SG_UF'])"
      ]
    },
    {
      "cell_type": "code",
      "execution_count": 48,
      "metadata": {
        "colab": {},
        "colab_type": "code",
        "id": "u6YrTyzh5Jpg"
      },
      "outputs": [
        {
          "data": {
            "text/plain": [
              "(5571, 10)"
            ]
          },
          "execution_count": 48,
          "metadata": {},
          "output_type": "execute_result"
        }
      ],
      "source": [
        "df_regioes_concat1.shape"
      ]
    },
    {
      "cell_type": "code",
      "execution_count": 49,
      "metadata": {
        "colab": {},
        "colab_type": "code",
        "id": "0wgdl3q8qypw"
      },
      "outputs": [
        {
          "data": {
            "text/plain": [
              "(5571, 10)"
            ]
          },
          "execution_count": 49,
          "metadata": {},
          "output_type": "execute_result"
        }
      ],
      "source": [
        "df_regioes_concat2.shape"
      ]
    },
    {
      "cell_type": "code",
      "execution_count": 50,
      "metadata": {
        "colab": {},
        "colab_type": "code",
        "id": "9aRC_L-vq2Kl"
      },
      "outputs": [
        {
          "data": {
            "text/html": [
              "<div>\n",
              "<style scoped>\n",
              "    .dataframe tbody tr th:only-of-type {\n",
              "        vertical-align: middle;\n",
              "    }\n",
              "\n",
              "    .dataframe tbody tr th {\n",
              "        vertical-align: top;\n",
              "    }\n",
              "\n",
              "    .dataframe thead th {\n",
              "        text-align: right;\n",
              "    }\n",
              "</style>\n",
              "<table border=\"1\" class=\"dataframe\">\n",
              "  <thead>\n",
              "    <tr style=\"text-align: right;\">\n",
              "      <th></th>\n",
              "      <th>CD_MUNICIPIO_x</th>\n",
              "      <th>SG_UF</th>\n",
              "      <th>CD_REGIAO_SAUDE_2023</th>\n",
              "      <th>NM_REGIAO_SAUDE_ATUAL</th>\n",
              "      <th>NM_MUNICIPIO</th>\n",
              "      <th>NM_REGIAO_SAUDE_ANTERIOR</th>\n",
              "      <th>NM_MUNICIPIOS_IN_37</th>\n",
              "      <th>ESTADO</th>\n",
              "      <th>REGIAO_PAIS</th>\n",
              "      <th>CD_MUNICIPIO_y</th>\n",
              "    </tr>\n",
              "  </thead>\n",
              "  <tbody>\n",
              "    <tr>\n",
              "      <th>0</th>\n",
              "      <td>230655</td>\n",
              "      <td>CE</td>\n",
              "      <td>23012</td>\n",
              "      <td>12ª Região Acaraú</td>\n",
              "      <td>Itarema</td>\n",
              "      <td>Acaraú</td>\n",
              "      <td>Itarema</td>\n",
              "      <td>CEARÁ</td>\n",
              "      <td>NORDESTE</td>\n",
              "      <td>[230020, 230725, 230890, 230230, 230425, 23078...</td>\n",
              "    </tr>\n",
              "    <tr>\n",
              "      <th>1</th>\n",
              "      <td>230725</td>\n",
              "      <td>CE</td>\n",
              "      <td>23012</td>\n",
              "      <td>12ª Região Acaraú</td>\n",
              "      <td>Jijoca de Jericoacoara</td>\n",
              "      <td>Acaraú</td>\n",
              "      <td>Jijoca de Jericoacoara</td>\n",
              "      <td>CEARÁ</td>\n",
              "      <td>NORDESTE</td>\n",
              "      <td>[230020, 230725, 230890, 230230, 230425, 23078...</td>\n",
              "    </tr>\n",
              "    <tr>\n",
              "      <th>2</th>\n",
              "      <td>230780</td>\n",
              "      <td>CE</td>\n",
              "      <td>23012</td>\n",
              "      <td>12ª Região Acaraú</td>\n",
              "      <td>Marco</td>\n",
              "      <td>Acaraú</td>\n",
              "      <td>Marco</td>\n",
              "      <td>CEARÁ</td>\n",
              "      <td>NORDESTE</td>\n",
              "      <td>[230020, 230725, 230890, 230230, 230425, 23078...</td>\n",
              "    </tr>\n",
              "    <tr>\n",
              "      <th>3</th>\n",
              "      <td>230020</td>\n",
              "      <td>CE</td>\n",
              "      <td>23012</td>\n",
              "      <td>12ª Região Acaraú</td>\n",
              "      <td>Acaraú</td>\n",
              "      <td>Acaraú</td>\n",
              "      <td>Acaraú</td>\n",
              "      <td>CEARÁ</td>\n",
              "      <td>NORDESTE</td>\n",
              "      <td>[230020, 230725, 230890, 230230, 230425, 23078...</td>\n",
              "    </tr>\n",
              "    <tr>\n",
              "      <th>4</th>\n",
              "      <td>230230</td>\n",
              "      <td>CE</td>\n",
              "      <td>23012</td>\n",
              "      <td>12ª Região Acaraú</td>\n",
              "      <td>Bela Cruz</td>\n",
              "      <td>Acaraú</td>\n",
              "      <td>Bela Cruz</td>\n",
              "      <td>CEARÁ</td>\n",
              "      <td>NORDESTE</td>\n",
              "      <td>[230020, 230725, 230890, 230230, 230425, 23078...</td>\n",
              "    </tr>\n",
              "  </tbody>\n",
              "</table>\n",
              "</div>"
            ],
            "text/plain": [
              "   CD_MUNICIPIO_x SG_UF  CD_REGIAO_SAUDE_2023 NM_REGIAO_SAUDE_ATUAL  \\\n",
              "0          230655    CE                 23012     12ª Região Acaraú   \n",
              "1          230725    CE                 23012     12ª Região Acaraú   \n",
              "2          230780    CE                 23012     12ª Região Acaraú   \n",
              "3          230020    CE                 23012     12ª Região Acaraú   \n",
              "4          230230    CE                 23012     12ª Região Acaraú   \n",
              "\n",
              "             NM_MUNICIPIO NM_REGIAO_SAUDE_ANTERIOR     NM_MUNICIPIOS_IN_37  \\\n",
              "0                 Itarema                   Acaraú                 Itarema   \n",
              "1  Jijoca de Jericoacoara                   Acaraú  Jijoca de Jericoacoara   \n",
              "2                   Marco                   Acaraú                   Marco   \n",
              "3                  Acaraú                   Acaraú                  Acaraú   \n",
              "4               Bela Cruz                   Acaraú               Bela Cruz   \n",
              "\n",
              "  ESTADO REGIAO_PAIS                                     CD_MUNICIPIO_y  \n",
              "0  CEARÁ    NORDESTE  [230020, 230725, 230890, 230230, 230425, 23078...  \n",
              "1  CEARÁ    NORDESTE  [230020, 230725, 230890, 230230, 230425, 23078...  \n",
              "2  CEARÁ    NORDESTE  [230020, 230725, 230890, 230230, 230425, 23078...  \n",
              "3  CEARÁ    NORDESTE  [230020, 230725, 230890, 230230, 230425, 23078...  \n",
              "4  CEARÁ    NORDESTE  [230020, 230725, 230890, 230230, 230425, 23078...  "
            ]
          },
          "execution_count": 50,
          "metadata": {},
          "output_type": "execute_result"
        }
      ],
      "source": [
        "df_regioes_concat1.head()"
      ]
    },
    {
      "cell_type": "code",
      "execution_count": 51,
      "metadata": {
        "colab": {},
        "colab_type": "code",
        "id": "aSoEsqugpiL0"
      },
      "outputs": [
        {
          "data": {
            "text/html": [
              "<div>\n",
              "<style scoped>\n",
              "    .dataframe tbody tr th:only-of-type {\n",
              "        vertical-align: middle;\n",
              "    }\n",
              "\n",
              "    .dataframe tbody tr th {\n",
              "        vertical-align: top;\n",
              "    }\n",
              "\n",
              "    .dataframe thead th {\n",
              "        text-align: right;\n",
              "    }\n",
              "</style>\n",
              "<table border=\"1\" class=\"dataframe\">\n",
              "  <thead>\n",
              "    <tr style=\"text-align: right;\">\n",
              "      <th></th>\n",
              "      <th>CD_MUNICIPIO_x</th>\n",
              "      <th>SG_UF</th>\n",
              "      <th>CD_REGIAO_SAUDE_2023</th>\n",
              "      <th>NM_REGIAO_SAUDE_ATUAL</th>\n",
              "      <th>NM_MUNICIPIO</th>\n",
              "      <th>NM_REGIAO_SAUDE_ANTERIOR</th>\n",
              "      <th>NM_MUNICIPIOS_IN_37</th>\n",
              "      <th>ESTADO</th>\n",
              "      <th>REGIAO_PAIS</th>\n",
              "      <th>CD_MUNICIPIO_y</th>\n",
              "    </tr>\n",
              "  </thead>\n",
              "  <tbody>\n",
              "    <tr>\n",
              "      <th>0</th>\n",
              "      <td>230655</td>\n",
              "      <td>CE</td>\n",
              "      <td>23012</td>\n",
              "      <td>12ª Região Acaraú</td>\n",
              "      <td>Itarema</td>\n",
              "      <td>Acaraú</td>\n",
              "      <td>Itarema</td>\n",
              "      <td>CEARÁ</td>\n",
              "      <td>NORDESTE</td>\n",
              "      <td>[230020, 230725, 230890, 230230, 230425, 23078...</td>\n",
              "    </tr>\n",
              "    <tr>\n",
              "      <th>1</th>\n",
              "      <td>230725</td>\n",
              "      <td>CE</td>\n",
              "      <td>23012</td>\n",
              "      <td>12ª Região Acaraú</td>\n",
              "      <td>Jijoca de Jericoacoara</td>\n",
              "      <td>Acaraú</td>\n",
              "      <td>Jijoca de Jericoacoara</td>\n",
              "      <td>CEARÁ</td>\n",
              "      <td>NORDESTE</td>\n",
              "      <td>[230020, 230725, 230890, 230230, 230425, 23078...</td>\n",
              "    </tr>\n",
              "    <tr>\n",
              "      <th>2</th>\n",
              "      <td>230780</td>\n",
              "      <td>CE</td>\n",
              "      <td>23012</td>\n",
              "      <td>12ª Região Acaraú</td>\n",
              "      <td>Marco</td>\n",
              "      <td>Acaraú</td>\n",
              "      <td>Marco</td>\n",
              "      <td>CEARÁ</td>\n",
              "      <td>NORDESTE</td>\n",
              "      <td>[230020, 230725, 230890, 230230, 230425, 23078...</td>\n",
              "    </tr>\n",
              "    <tr>\n",
              "      <th>3</th>\n",
              "      <td>230020</td>\n",
              "      <td>CE</td>\n",
              "      <td>23012</td>\n",
              "      <td>12ª Região Acaraú</td>\n",
              "      <td>Acaraú</td>\n",
              "      <td>Acaraú</td>\n",
              "      <td>Acaraú</td>\n",
              "      <td>CEARÁ</td>\n",
              "      <td>NORDESTE</td>\n",
              "      <td>[230020, 230725, 230890, 230230, 230425, 23078...</td>\n",
              "    </tr>\n",
              "    <tr>\n",
              "      <th>4</th>\n",
              "      <td>230230</td>\n",
              "      <td>CE</td>\n",
              "      <td>23012</td>\n",
              "      <td>12ª Região Acaraú</td>\n",
              "      <td>Bela Cruz</td>\n",
              "      <td>Acaraú</td>\n",
              "      <td>Bela Cruz</td>\n",
              "      <td>CEARÁ</td>\n",
              "      <td>NORDESTE</td>\n",
              "      <td>[230020, 230725, 230890, 230230, 230425, 23078...</td>\n",
              "    </tr>\n",
              "  </tbody>\n",
              "</table>\n",
              "</div>"
            ],
            "text/plain": [
              "   CD_MUNICIPIO_x SG_UF  CD_REGIAO_SAUDE_2023 NM_REGIAO_SAUDE_ATUAL  \\\n",
              "0          230655    CE                 23012     12ª Região Acaraú   \n",
              "1          230725    CE                 23012     12ª Região Acaraú   \n",
              "2          230780    CE                 23012     12ª Região Acaraú   \n",
              "3          230020    CE                 23012     12ª Região Acaraú   \n",
              "4          230230    CE                 23012     12ª Região Acaraú   \n",
              "\n",
              "             NM_MUNICIPIO NM_REGIAO_SAUDE_ANTERIOR     NM_MUNICIPIOS_IN_37  \\\n",
              "0                 Itarema                   Acaraú                 Itarema   \n",
              "1  Jijoca de Jericoacoara                   Acaraú  Jijoca de Jericoacoara   \n",
              "2                   Marco                   Acaraú                   Marco   \n",
              "3                  Acaraú                   Acaraú                  Acaraú   \n",
              "4               Bela Cruz                   Acaraú               Bela Cruz   \n",
              "\n",
              "  ESTADO REGIAO_PAIS                                     CD_MUNICIPIO_y  \n",
              "0  CEARÁ    NORDESTE  [230020, 230725, 230890, 230230, 230425, 23078...  \n",
              "1  CEARÁ    NORDESTE  [230020, 230725, 230890, 230230, 230425, 23078...  \n",
              "2  CEARÁ    NORDESTE  [230020, 230725, 230890, 230230, 230425, 23078...  \n",
              "3  CEARÁ    NORDESTE  [230020, 230725, 230890, 230230, 230425, 23078...  \n",
              "4  CEARÁ    NORDESTE  [230020, 230725, 230890, 230230, 230425, 23078...  "
            ]
          },
          "execution_count": 51,
          "metadata": {},
          "output_type": "execute_result"
        }
      ],
      "source": [
        "df_regioes_concat2.head()"
      ]
    },
    {
      "cell_type": "code",
      "execution_count": 52,
      "metadata": {
        "colab": {},
        "colab_type": "code",
        "id": "0dLFVbUlqdIc"
      },
      "outputs": [],
      "source": [
        "# Renomear coluna que foi gerada na juncao do passo anterior\n",
        "df_regioes_concat1.rename(columns={'CD_MUNICIPIO_y':'lista_regiao_atual'}, inplace=True)\n",
        "df_regioes_concat2.rename(columns={'CD_MUNICIPIO_y':'lista_regiao_anterior'}, inplace=True)"
      ]
    },
    {
      "cell_type": "code",
      "execution_count": null,
      "metadata": {
        "colab": {},
        "colab_type": "code",
        "id": "_36KZTMhrG43"
      },
      "outputs": [],
      "source": [
        "# Verificar como os dataframes ficaram apos renomear coluna"
      ]
    },
    {
      "cell_type": "code",
      "execution_count": 53,
      "metadata": {
        "colab": {},
        "colab_type": "code",
        "id": "sylkJ4IXIRhO"
      },
      "outputs": [
        {
          "data": {
            "text/html": [
              "<div>\n",
              "<style scoped>\n",
              "    .dataframe tbody tr th:only-of-type {\n",
              "        vertical-align: middle;\n",
              "    }\n",
              "\n",
              "    .dataframe tbody tr th {\n",
              "        vertical-align: top;\n",
              "    }\n",
              "\n",
              "    .dataframe thead th {\n",
              "        text-align: right;\n",
              "    }\n",
              "</style>\n",
              "<table border=\"1\" class=\"dataframe\">\n",
              "  <thead>\n",
              "    <tr style=\"text-align: right;\">\n",
              "      <th></th>\n",
              "      <th>CD_MUNICIPIO_x</th>\n",
              "      <th>SG_UF</th>\n",
              "      <th>CD_REGIAO_SAUDE_2023</th>\n",
              "      <th>NM_REGIAO_SAUDE_ATUAL</th>\n",
              "      <th>NM_MUNICIPIO</th>\n",
              "      <th>NM_REGIAO_SAUDE_ANTERIOR</th>\n",
              "      <th>NM_MUNICIPIOS_IN_37</th>\n",
              "      <th>ESTADO</th>\n",
              "      <th>REGIAO_PAIS</th>\n",
              "      <th>lista_regiao_atual</th>\n",
              "    </tr>\n",
              "  </thead>\n",
              "  <tbody>\n",
              "    <tr>\n",
              "      <th>0</th>\n",
              "      <td>230655</td>\n",
              "      <td>CE</td>\n",
              "      <td>23012</td>\n",
              "      <td>12ª Região Acaraú</td>\n",
              "      <td>Itarema</td>\n",
              "      <td>Acaraú</td>\n",
              "      <td>Itarema</td>\n",
              "      <td>CEARÁ</td>\n",
              "      <td>NORDESTE</td>\n",
              "      <td>[230020, 230725, 230890, 230230, 230425, 23078...</td>\n",
              "    </tr>\n",
              "    <tr>\n",
              "      <th>1</th>\n",
              "      <td>230725</td>\n",
              "      <td>CE</td>\n",
              "      <td>23012</td>\n",
              "      <td>12ª Região Acaraú</td>\n",
              "      <td>Jijoca de Jericoacoara</td>\n",
              "      <td>Acaraú</td>\n",
              "      <td>Jijoca de Jericoacoara</td>\n",
              "      <td>CEARÁ</td>\n",
              "      <td>NORDESTE</td>\n",
              "      <td>[230020, 230725, 230890, 230230, 230425, 23078...</td>\n",
              "    </tr>\n",
              "    <tr>\n",
              "      <th>2</th>\n",
              "      <td>230780</td>\n",
              "      <td>CE</td>\n",
              "      <td>23012</td>\n",
              "      <td>12ª Região Acaraú</td>\n",
              "      <td>Marco</td>\n",
              "      <td>Acaraú</td>\n",
              "      <td>Marco</td>\n",
              "      <td>CEARÁ</td>\n",
              "      <td>NORDESTE</td>\n",
              "      <td>[230020, 230725, 230890, 230230, 230425, 23078...</td>\n",
              "    </tr>\n",
              "    <tr>\n",
              "      <th>3</th>\n",
              "      <td>230020</td>\n",
              "      <td>CE</td>\n",
              "      <td>23012</td>\n",
              "      <td>12ª Região Acaraú</td>\n",
              "      <td>Acaraú</td>\n",
              "      <td>Acaraú</td>\n",
              "      <td>Acaraú</td>\n",
              "      <td>CEARÁ</td>\n",
              "      <td>NORDESTE</td>\n",
              "      <td>[230020, 230725, 230890, 230230, 230425, 23078...</td>\n",
              "    </tr>\n",
              "    <tr>\n",
              "      <th>4</th>\n",
              "      <td>230230</td>\n",
              "      <td>CE</td>\n",
              "      <td>23012</td>\n",
              "      <td>12ª Região Acaraú</td>\n",
              "      <td>Bela Cruz</td>\n",
              "      <td>Acaraú</td>\n",
              "      <td>Bela Cruz</td>\n",
              "      <td>CEARÁ</td>\n",
              "      <td>NORDESTE</td>\n",
              "      <td>[230020, 230725, 230890, 230230, 230425, 23078...</td>\n",
              "    </tr>\n",
              "  </tbody>\n",
              "</table>\n",
              "</div>"
            ],
            "text/plain": [
              "   CD_MUNICIPIO_x SG_UF  CD_REGIAO_SAUDE_2023 NM_REGIAO_SAUDE_ATUAL  \\\n",
              "0          230655    CE                 23012     12ª Região Acaraú   \n",
              "1          230725    CE                 23012     12ª Região Acaraú   \n",
              "2          230780    CE                 23012     12ª Região Acaraú   \n",
              "3          230020    CE                 23012     12ª Região Acaraú   \n",
              "4          230230    CE                 23012     12ª Região Acaraú   \n",
              "\n",
              "             NM_MUNICIPIO NM_REGIAO_SAUDE_ANTERIOR     NM_MUNICIPIOS_IN_37  \\\n",
              "0                 Itarema                   Acaraú                 Itarema   \n",
              "1  Jijoca de Jericoacoara                   Acaraú  Jijoca de Jericoacoara   \n",
              "2                   Marco                   Acaraú                   Marco   \n",
              "3                  Acaraú                   Acaraú                  Acaraú   \n",
              "4               Bela Cruz                   Acaraú               Bela Cruz   \n",
              "\n",
              "  ESTADO REGIAO_PAIS                                 lista_regiao_atual  \n",
              "0  CEARÁ    NORDESTE  [230020, 230725, 230890, 230230, 230425, 23078...  \n",
              "1  CEARÁ    NORDESTE  [230020, 230725, 230890, 230230, 230425, 23078...  \n",
              "2  CEARÁ    NORDESTE  [230020, 230725, 230890, 230230, 230425, 23078...  \n",
              "3  CEARÁ    NORDESTE  [230020, 230725, 230890, 230230, 230425, 23078...  \n",
              "4  CEARÁ    NORDESTE  [230020, 230725, 230890, 230230, 230425, 23078...  "
            ]
          },
          "execution_count": 53,
          "metadata": {},
          "output_type": "execute_result"
        }
      ],
      "source": [
        "df_regioes_concat1.head()"
      ]
    },
    {
      "cell_type": "code",
      "execution_count": 54,
      "metadata": {
        "colab": {},
        "colab_type": "code",
        "id": "Xqp7BKTmqirC"
      },
      "outputs": [
        {
          "data": {
            "text/html": [
              "<div>\n",
              "<style scoped>\n",
              "    .dataframe tbody tr th:only-of-type {\n",
              "        vertical-align: middle;\n",
              "    }\n",
              "\n",
              "    .dataframe tbody tr th {\n",
              "        vertical-align: top;\n",
              "    }\n",
              "\n",
              "    .dataframe thead th {\n",
              "        text-align: right;\n",
              "    }\n",
              "</style>\n",
              "<table border=\"1\" class=\"dataframe\">\n",
              "  <thead>\n",
              "    <tr style=\"text-align: right;\">\n",
              "      <th></th>\n",
              "      <th>CD_MUNICIPIO_x</th>\n",
              "      <th>SG_UF</th>\n",
              "      <th>CD_REGIAO_SAUDE_2023</th>\n",
              "      <th>NM_REGIAO_SAUDE_ATUAL</th>\n",
              "      <th>NM_MUNICIPIO</th>\n",
              "      <th>NM_REGIAO_SAUDE_ANTERIOR</th>\n",
              "      <th>NM_MUNICIPIOS_IN_37</th>\n",
              "      <th>ESTADO</th>\n",
              "      <th>REGIAO_PAIS</th>\n",
              "      <th>lista_regiao_anterior</th>\n",
              "    </tr>\n",
              "  </thead>\n",
              "  <tbody>\n",
              "    <tr>\n",
              "      <th>0</th>\n",
              "      <td>230655</td>\n",
              "      <td>CE</td>\n",
              "      <td>23012</td>\n",
              "      <td>12ª Região Acaraú</td>\n",
              "      <td>Itarema</td>\n",
              "      <td>Acaraú</td>\n",
              "      <td>Itarema</td>\n",
              "      <td>CEARÁ</td>\n",
              "      <td>NORDESTE</td>\n",
              "      <td>[230020, 230725, 230890, 230230, 230425, 23078...</td>\n",
              "    </tr>\n",
              "    <tr>\n",
              "      <th>1</th>\n",
              "      <td>230725</td>\n",
              "      <td>CE</td>\n",
              "      <td>23012</td>\n",
              "      <td>12ª Região Acaraú</td>\n",
              "      <td>Jijoca de Jericoacoara</td>\n",
              "      <td>Acaraú</td>\n",
              "      <td>Jijoca de Jericoacoara</td>\n",
              "      <td>CEARÁ</td>\n",
              "      <td>NORDESTE</td>\n",
              "      <td>[230020, 230725, 230890, 230230, 230425, 23078...</td>\n",
              "    </tr>\n",
              "    <tr>\n",
              "      <th>2</th>\n",
              "      <td>230780</td>\n",
              "      <td>CE</td>\n",
              "      <td>23012</td>\n",
              "      <td>12ª Região Acaraú</td>\n",
              "      <td>Marco</td>\n",
              "      <td>Acaraú</td>\n",
              "      <td>Marco</td>\n",
              "      <td>CEARÁ</td>\n",
              "      <td>NORDESTE</td>\n",
              "      <td>[230020, 230725, 230890, 230230, 230425, 23078...</td>\n",
              "    </tr>\n",
              "    <tr>\n",
              "      <th>3</th>\n",
              "      <td>230020</td>\n",
              "      <td>CE</td>\n",
              "      <td>23012</td>\n",
              "      <td>12ª Região Acaraú</td>\n",
              "      <td>Acaraú</td>\n",
              "      <td>Acaraú</td>\n",
              "      <td>Acaraú</td>\n",
              "      <td>CEARÁ</td>\n",
              "      <td>NORDESTE</td>\n",
              "      <td>[230020, 230725, 230890, 230230, 230425, 23078...</td>\n",
              "    </tr>\n",
              "    <tr>\n",
              "      <th>4</th>\n",
              "      <td>230230</td>\n",
              "      <td>CE</td>\n",
              "      <td>23012</td>\n",
              "      <td>12ª Região Acaraú</td>\n",
              "      <td>Bela Cruz</td>\n",
              "      <td>Acaraú</td>\n",
              "      <td>Bela Cruz</td>\n",
              "      <td>CEARÁ</td>\n",
              "      <td>NORDESTE</td>\n",
              "      <td>[230020, 230725, 230890, 230230, 230425, 23078...</td>\n",
              "    </tr>\n",
              "  </tbody>\n",
              "</table>\n",
              "</div>"
            ],
            "text/plain": [
              "   CD_MUNICIPIO_x SG_UF  CD_REGIAO_SAUDE_2023 NM_REGIAO_SAUDE_ATUAL  \\\n",
              "0          230655    CE                 23012     12ª Região Acaraú   \n",
              "1          230725    CE                 23012     12ª Região Acaraú   \n",
              "2          230780    CE                 23012     12ª Região Acaraú   \n",
              "3          230020    CE                 23012     12ª Região Acaraú   \n",
              "4          230230    CE                 23012     12ª Região Acaraú   \n",
              "\n",
              "             NM_MUNICIPIO NM_REGIAO_SAUDE_ANTERIOR     NM_MUNICIPIOS_IN_37  \\\n",
              "0                 Itarema                   Acaraú                 Itarema   \n",
              "1  Jijoca de Jericoacoara                   Acaraú  Jijoca de Jericoacoara   \n",
              "2                   Marco                   Acaraú                   Marco   \n",
              "3                  Acaraú                   Acaraú                  Acaraú   \n",
              "4               Bela Cruz                   Acaraú               Bela Cruz   \n",
              "\n",
              "  ESTADO REGIAO_PAIS                              lista_regiao_anterior  \n",
              "0  CEARÁ    NORDESTE  [230020, 230725, 230890, 230230, 230425, 23078...  \n",
              "1  CEARÁ    NORDESTE  [230020, 230725, 230890, 230230, 230425, 23078...  \n",
              "2  CEARÁ    NORDESTE  [230020, 230725, 230890, 230230, 230425, 23078...  \n",
              "3  CEARÁ    NORDESTE  [230020, 230725, 230890, 230230, 230425, 23078...  \n",
              "4  CEARÁ    NORDESTE  [230020, 230725, 230890, 230230, 230425, 23078...  "
            ]
          },
          "execution_count": 54,
          "metadata": {},
          "output_type": "execute_result"
        }
      ],
      "source": [
        "df_regioes_concat2.head()"
      ]
    },
    {
      "cell_type": "code",
      "execution_count": 55,
      "metadata": {
        "colab": {},
        "colab_type": "code",
        "id": "s3CmOKh7p-gN"
      },
      "outputs": [],
      "source": [
        "# como são dois dataframes muito identicos em colunas, usei esta técnica para selecionar as do segundo dataframe que sejam diferentes\n",
        "colunas_mantidas = df_regioes_concat2.columns.difference(df_regioes_concat1.columns)"
      ]
    },
    {
      "cell_type": "code",
      "execution_count": 56,
      "metadata": {
        "colab": {},
        "colab_type": "code",
        "id": "lIiqIYN0rdxb"
      },
      "outputs": [
        {
          "data": {
            "text/plain": [
              "Index(['lista_regiao_anterior'], dtype='object')"
            ]
          },
          "execution_count": 56,
          "metadata": {},
          "output_type": "execute_result"
        }
      ],
      "source": [
        "colunas_mantidas"
      ]
    },
    {
      "cell_type": "code",
      "execution_count": 57,
      "metadata": {
        "colab": {},
        "colab_type": "code",
        "id": "QhAEee1yrlT5"
      },
      "outputs": [],
      "source": [
        "df_regioes_concat = pd.merge(df_regioes_concat1, df_regioes_concat2[colunas_mantidas], left_index=True, right_index=True, how='outer')"
      ]
    },
    {
      "cell_type": "code",
      "execution_count": 58,
      "metadata": {
        "colab": {},
        "colab_type": "code",
        "id": "VNtYfPq8rx_W"
      },
      "outputs": [],
      "source": [
        "df_regioes_concat.rename(columns={'CD_MUNICIPIO_x':'CD_MUNICIPIO'}, inplace=True)"
      ]
    },
    {
      "cell_type": "code",
      "execution_count": 59,
      "metadata": {
        "colab": {},
        "colab_type": "code",
        "id": "9B7LVcJWr5QR"
      },
      "outputs": [],
      "source": [
        "df_regioes_concat['flag_atual'] = np.where(df_regioes_concat['lista_regiao_atual'] == df_regioes_concat['lista_regiao_anterior'], 0, 1)"
      ]
    },
    {
      "cell_type": "code",
      "execution_count": 60,
      "metadata": {
        "colab": {},
        "colab_type": "code",
        "id": "K7jc-xskCRIQ"
      },
      "outputs": [
        {
          "data": {
            "text/html": [
              "<div>\n",
              "<style scoped>\n",
              "    .dataframe tbody tr th:only-of-type {\n",
              "        vertical-align: middle;\n",
              "    }\n",
              "\n",
              "    .dataframe tbody tr th {\n",
              "        vertical-align: top;\n",
              "    }\n",
              "\n",
              "    .dataframe thead th {\n",
              "        text-align: right;\n",
              "    }\n",
              "</style>\n",
              "<table border=\"1\" class=\"dataframe\">\n",
              "  <thead>\n",
              "    <tr style=\"text-align: right;\">\n",
              "      <th></th>\n",
              "      <th>CD_MUNICIPIO</th>\n",
              "      <th>SG_UF</th>\n",
              "      <th>CD_REGIAO_SAUDE_2023</th>\n",
              "      <th>NM_REGIAO_SAUDE_ATUAL</th>\n",
              "      <th>NM_MUNICIPIO</th>\n",
              "      <th>NM_REGIAO_SAUDE_ANTERIOR</th>\n",
              "      <th>NM_MUNICIPIOS_IN_37</th>\n",
              "      <th>ESTADO</th>\n",
              "      <th>REGIAO_PAIS</th>\n",
              "      <th>lista_regiao_atual</th>\n",
              "      <th>lista_regiao_anterior</th>\n",
              "      <th>flag_atual</th>\n",
              "    </tr>\n",
              "  </thead>\n",
              "  <tbody>\n",
              "    <tr>\n",
              "      <th>0</th>\n",
              "      <td>230655</td>\n",
              "      <td>CE</td>\n",
              "      <td>23012</td>\n",
              "      <td>12ª Região Acaraú</td>\n",
              "      <td>Itarema</td>\n",
              "      <td>Acaraú</td>\n",
              "      <td>Itarema</td>\n",
              "      <td>CEARÁ</td>\n",
              "      <td>NORDESTE</td>\n",
              "      <td>[230020, 230725, 230890, 230230, 230425, 23078...</td>\n",
              "      <td>[230020, 230725, 230890, 230230, 230425, 23078...</td>\n",
              "      <td>0</td>\n",
              "    </tr>\n",
              "    <tr>\n",
              "      <th>1</th>\n",
              "      <td>230725</td>\n",
              "      <td>CE</td>\n",
              "      <td>23012</td>\n",
              "      <td>12ª Região Acaraú</td>\n",
              "      <td>Jijoca de Jericoacoara</td>\n",
              "      <td>Acaraú</td>\n",
              "      <td>Jijoca de Jericoacoara</td>\n",
              "      <td>CEARÁ</td>\n",
              "      <td>NORDESTE</td>\n",
              "      <td>[230020, 230725, 230890, 230230, 230425, 23078...</td>\n",
              "      <td>[230020, 230725, 230890, 230230, 230425, 23078...</td>\n",
              "      <td>0</td>\n",
              "    </tr>\n",
              "    <tr>\n",
              "      <th>2</th>\n",
              "      <td>230780</td>\n",
              "      <td>CE</td>\n",
              "      <td>23012</td>\n",
              "      <td>12ª Região Acaraú</td>\n",
              "      <td>Marco</td>\n",
              "      <td>Acaraú</td>\n",
              "      <td>Marco</td>\n",
              "      <td>CEARÁ</td>\n",
              "      <td>NORDESTE</td>\n",
              "      <td>[230020, 230725, 230890, 230230, 230425, 23078...</td>\n",
              "      <td>[230020, 230725, 230890, 230230, 230425, 23078...</td>\n",
              "      <td>0</td>\n",
              "    </tr>\n",
              "    <tr>\n",
              "      <th>3</th>\n",
              "      <td>230020</td>\n",
              "      <td>CE</td>\n",
              "      <td>23012</td>\n",
              "      <td>12ª Região Acaraú</td>\n",
              "      <td>Acaraú</td>\n",
              "      <td>Acaraú</td>\n",
              "      <td>Acaraú</td>\n",
              "      <td>CEARÁ</td>\n",
              "      <td>NORDESTE</td>\n",
              "      <td>[230020, 230725, 230890, 230230, 230425, 23078...</td>\n",
              "      <td>[230020, 230725, 230890, 230230, 230425, 23078...</td>\n",
              "      <td>0</td>\n",
              "    </tr>\n",
              "    <tr>\n",
              "      <th>4</th>\n",
              "      <td>230230</td>\n",
              "      <td>CE</td>\n",
              "      <td>23012</td>\n",
              "      <td>12ª Região Acaraú</td>\n",
              "      <td>Bela Cruz</td>\n",
              "      <td>Acaraú</td>\n",
              "      <td>Bela Cruz</td>\n",
              "      <td>CEARÁ</td>\n",
              "      <td>NORDESTE</td>\n",
              "      <td>[230020, 230725, 230890, 230230, 230425, 23078...</td>\n",
              "      <td>[230020, 230725, 230890, 230230, 230425, 23078...</td>\n",
              "      <td>0</td>\n",
              "    </tr>\n",
              "  </tbody>\n",
              "</table>\n",
              "</div>"
            ],
            "text/plain": [
              "   CD_MUNICIPIO SG_UF  CD_REGIAO_SAUDE_2023 NM_REGIAO_SAUDE_ATUAL  \\\n",
              "0        230655    CE                 23012     12ª Região Acaraú   \n",
              "1        230725    CE                 23012     12ª Região Acaraú   \n",
              "2        230780    CE                 23012     12ª Região Acaraú   \n",
              "3        230020    CE                 23012     12ª Região Acaraú   \n",
              "4        230230    CE                 23012     12ª Região Acaraú   \n",
              "\n",
              "             NM_MUNICIPIO NM_REGIAO_SAUDE_ANTERIOR     NM_MUNICIPIOS_IN_37  \\\n",
              "0                 Itarema                   Acaraú                 Itarema   \n",
              "1  Jijoca de Jericoacoara                   Acaraú  Jijoca de Jericoacoara   \n",
              "2                   Marco                   Acaraú                   Marco   \n",
              "3                  Acaraú                   Acaraú                  Acaraú   \n",
              "4               Bela Cruz                   Acaraú               Bela Cruz   \n",
              "\n",
              "  ESTADO REGIAO_PAIS                                 lista_regiao_atual  \\\n",
              "0  CEARÁ    NORDESTE  [230020, 230725, 230890, 230230, 230425, 23078...   \n",
              "1  CEARÁ    NORDESTE  [230020, 230725, 230890, 230230, 230425, 23078...   \n",
              "2  CEARÁ    NORDESTE  [230020, 230725, 230890, 230230, 230425, 23078...   \n",
              "3  CEARÁ    NORDESTE  [230020, 230725, 230890, 230230, 230425, 23078...   \n",
              "4  CEARÁ    NORDESTE  [230020, 230725, 230890, 230230, 230425, 23078...   \n",
              "\n",
              "                               lista_regiao_anterior  flag_atual  \n",
              "0  [230020, 230725, 230890, 230230, 230425, 23078...           0  \n",
              "1  [230020, 230725, 230890, 230230, 230425, 23078...           0  \n",
              "2  [230020, 230725, 230890, 230230, 230425, 23078...           0  \n",
              "3  [230020, 230725, 230890, 230230, 230425, 23078...           0  \n",
              "4  [230020, 230725, 230890, 230230, 230425, 23078...           0  "
            ]
          },
          "execution_count": 60,
          "metadata": {},
          "output_type": "execute_result"
        }
      ],
      "source": [
        "df_regioes_concat.head()"
      ]
    },
    {
      "cell_type": "code",
      "execution_count": null,
      "metadata": {
        "colab": {},
        "colab_type": "code",
        "id": "XWzIptVOtyFf"
      },
      "outputs": [],
      "source": []
    },
    {
      "cell_type": "code",
      "execution_count": null,
      "metadata": {
        "colab": {},
        "colab_type": "code",
        "id": "GfKUQuUeq3Dz"
      },
      "outputs": [],
      "source": [
        "# ============ PASSO PARA MERGE COM A TABLE DE MUNICIPIOS PARA AGREGAR CAMPOS DESTA TABELA"
      ]
    },
    {
      "cell_type": "code",
      "execution_count": 61,
      "metadata": {
        "colab": {},
        "colab_type": "code",
        "id": "XutQdqBIq8m3"
      },
      "outputs": [],
      "source": [
        "df_municipios = pd.read_excel('AR_BR_RG_UF_MES_MIC_MUN_2018.xls')"
      ]
    },
    {
      "cell_type": "code",
      "execution_count": 62,
      "metadata": {
        "colab": {},
        "colab_type": "code",
        "id": "3rKceEo0rBKq"
      },
      "outputs": [
        {
          "data": {
            "text/html": [
              "<div>\n",
              "<style scoped>\n",
              "    .dataframe tbody tr th:only-of-type {\n",
              "        vertical-align: middle;\n",
              "    }\n",
              "\n",
              "    .dataframe tbody tr th {\n",
              "        vertical-align: top;\n",
              "    }\n",
              "\n",
              "    .dataframe thead th {\n",
              "        text-align: right;\n",
              "    }\n",
              "</style>\n",
              "<table border=\"1\" class=\"dataframe\">\n",
              "  <thead>\n",
              "    <tr style=\"text-align: right;\">\n",
              "      <th></th>\n",
              "      <th>ID</th>\n",
              "      <th>CD_GCUF</th>\n",
              "      <th>NM_UF</th>\n",
              "      <th>NM_UF_SIGLA</th>\n",
              "      <th>CD_GCMUN</th>\n",
              "      <th>NM_MUN_2018</th>\n",
              "      <th>AR_MUN_2018</th>\n",
              "    </tr>\n",
              "  </thead>\n",
              "  <tbody>\n",
              "    <tr>\n",
              "      <th>0</th>\n",
              "      <td>1.0</td>\n",
              "      <td>11.0</td>\n",
              "      <td>Rondônia</td>\n",
              "      <td>RO</td>\n",
              "      <td>1100015.0</td>\n",
              "      <td>ALTA FLORESTA D'OESTE</td>\n",
              "      <td>7067.025</td>\n",
              "    </tr>\n",
              "    <tr>\n",
              "      <th>1</th>\n",
              "      <td>2.0</td>\n",
              "      <td>11.0</td>\n",
              "      <td>Rondônia</td>\n",
              "      <td>RO</td>\n",
              "      <td>1100023.0</td>\n",
              "      <td>ARIQUEMES</td>\n",
              "      <td>4426.571</td>\n",
              "    </tr>\n",
              "    <tr>\n",
              "      <th>2</th>\n",
              "      <td>3.0</td>\n",
              "      <td>11.0</td>\n",
              "      <td>Rondônia</td>\n",
              "      <td>RO</td>\n",
              "      <td>1100031.0</td>\n",
              "      <td>CABIXI</td>\n",
              "      <td>1314.352</td>\n",
              "    </tr>\n",
              "    <tr>\n",
              "      <th>3</th>\n",
              "      <td>4.0</td>\n",
              "      <td>11.0</td>\n",
              "      <td>Rondônia</td>\n",
              "      <td>RO</td>\n",
              "      <td>1100049.0</td>\n",
              "      <td>CACOAL</td>\n",
              "      <td>3792.892</td>\n",
              "    </tr>\n",
              "    <tr>\n",
              "      <th>4</th>\n",
              "      <td>5.0</td>\n",
              "      <td>11.0</td>\n",
              "      <td>Rondônia</td>\n",
              "      <td>RO</td>\n",
              "      <td>1100056.0</td>\n",
              "      <td>CEREJEIRAS</td>\n",
              "      <td>2783.300</td>\n",
              "    </tr>\n",
              "  </tbody>\n",
              "</table>\n",
              "</div>"
            ],
            "text/plain": [
              "    ID  CD_GCUF     NM_UF NM_UF_SIGLA   CD_GCMUN            NM_MUN_2018  \\\n",
              "0  1.0     11.0  Rondônia          RO  1100015.0  ALTA FLORESTA D'OESTE   \n",
              "1  2.0     11.0  Rondônia          RO  1100023.0              ARIQUEMES   \n",
              "2  3.0     11.0  Rondônia          RO  1100031.0                 CABIXI   \n",
              "3  4.0     11.0  Rondônia          RO  1100049.0                 CACOAL   \n",
              "4  5.0     11.0  Rondônia          RO  1100056.0             CEREJEIRAS   \n",
              "\n",
              "   AR_MUN_2018  \n",
              "0     7067.025  \n",
              "1     4426.571  \n",
              "2     1314.352  \n",
              "3     3792.892  \n",
              "4     2783.300  "
            ]
          },
          "execution_count": 62,
          "metadata": {},
          "output_type": "execute_result"
        }
      ],
      "source": [
        "df_municipios.head()"
      ]
    },
    {
      "cell_type": "code",
      "execution_count": 63,
      "metadata": {
        "colab": {},
        "colab_type": "code",
        "id": "Eb8jguGKrEgj"
      },
      "outputs": [],
      "source": [
        "df_municipios.dropna(axis=0, how='any', subset=['CD_GCMUN'], inplace=True)"
      ]
    },
    {
      "cell_type": "code",
      "execution_count": 64,
      "metadata": {
        "colab": {},
        "colab_type": "code",
        "id": "-0SvMH0qrIiy"
      },
      "outputs": [],
      "source": [
        "df_municipios['CD_MUNICIPIO_NDV'] = df_municipios['CD_GCMUN'].astype(str).str[:6]"
      ]
    },
    {
      "cell_type": "code",
      "execution_count": 65,
      "metadata": {
        "colab": {},
        "colab_type": "code",
        "id": "yLUpXFd3rgzm"
      },
      "outputs": [
        {
          "data": {
            "text/plain": [
              "str"
            ]
          },
          "execution_count": 65,
          "metadata": {},
          "output_type": "execute_result"
        }
      ],
      "source": [
        "type(df_municipios['CD_MUNICIPIO_NDV'][0])"
      ]
    },
    {
      "cell_type": "code",
      "execution_count": 66,
      "metadata": {
        "colab": {},
        "colab_type": "code",
        "id": "VWf-5EZRrnNJ"
      },
      "outputs": [],
      "source": [
        "df_regioes_concat['CD_MUNICIPIO'] = df_regioes_concat['CD_MUNICIPIO'].astype(str)"
      ]
    },
    {
      "cell_type": "code",
      "execution_count": 67,
      "metadata": {
        "colab": {},
        "colab_type": "code",
        "id": "3JwW3qMNrsqG"
      },
      "outputs": [],
      "source": [
        "df_diferenca = pd.merge(df_regioes_concat, df_municipios, how = 'outer', left_on='CD_MUNICIPIO', right_on='CD_MUNICIPIO_NDV')"
      ]
    },
    {
      "cell_type": "code",
      "execution_count": 68,
      "metadata": {
        "colab": {},
        "colab_type": "code",
        "id": "QGoMQYQTrwj6"
      },
      "outputs": [],
      "source": [
        "df_diferenca_qgis = df_diferenca[df_diferenca['flag_atual']==1]"
      ]
    },
    {
      "cell_type": "code",
      "execution_count": 69,
      "metadata": {
        "colab": {},
        "colab_type": "code",
        "id": "lWUSKv-3sLYq"
      },
      "outputs": [],
      "source": [
        "df_regioes_concat.rename(columns={'SG_UF_x':'SG_UF'}, inplace=True)"
      ]
    },
    {
      "cell_type": "code",
      "execution_count": 70,
      "metadata": {
        "colab": {},
        "colab_type": "code",
        "id": "-AZAVeW7Ds6N"
      },
      "outputs": [],
      "source": [
        "df_regioes_concat.to_excel('teste.xlsx')"
      ]
    },
    {
      "cell_type": "code",
      "execution_count": 71,
      "metadata": {
        "colab": {},
        "colab_type": "code",
        "id": "fymVhojRsxci"
      },
      "outputs": [
        {
          "data": {
            "text/html": [
              "<div>\n",
              "<style scoped>\n",
              "    .dataframe tbody tr th:only-of-type {\n",
              "        vertical-align: middle;\n",
              "    }\n",
              "\n",
              "    .dataframe tbody tr th {\n",
              "        vertical-align: top;\n",
              "    }\n",
              "\n",
              "    .dataframe thead th {\n",
              "        text-align: right;\n",
              "    }\n",
              "</style>\n",
              "<table border=\"1\" class=\"dataframe\">\n",
              "  <thead>\n",
              "    <tr style=\"text-align: right;\">\n",
              "      <th></th>\n",
              "      <th>CD_MUNICIPIO</th>\n",
              "      <th>SG_UF</th>\n",
              "      <th>CD_REGIAO_SAUDE_2023</th>\n",
              "      <th>NM_REGIAO_SAUDE_ATUAL</th>\n",
              "      <th>NM_MUNICIPIO</th>\n",
              "      <th>NM_REGIAO_SAUDE_ANTERIOR</th>\n",
              "      <th>NM_MUNICIPIOS_IN_37</th>\n",
              "      <th>ESTADO</th>\n",
              "      <th>REGIAO_PAIS</th>\n",
              "      <th>lista_regiao_atual</th>\n",
              "      <th>lista_regiao_anterior</th>\n",
              "      <th>flag_atual</th>\n",
              "    </tr>\n",
              "  </thead>\n",
              "  <tbody>\n",
              "    <tr>\n",
              "      <th>0</th>\n",
              "      <td>230655</td>\n",
              "      <td>CE</td>\n",
              "      <td>23012</td>\n",
              "      <td>12ª Região Acaraú</td>\n",
              "      <td>Itarema</td>\n",
              "      <td>Acaraú</td>\n",
              "      <td>Itarema</td>\n",
              "      <td>CEARÁ</td>\n",
              "      <td>NORDESTE</td>\n",
              "      <td>[230020, 230725, 230890, 230230, 230425, 23078...</td>\n",
              "      <td>[230020, 230725, 230890, 230230, 230425, 23078...</td>\n",
              "      <td>0</td>\n",
              "    </tr>\n",
              "    <tr>\n",
              "      <th>1</th>\n",
              "      <td>230725</td>\n",
              "      <td>CE</td>\n",
              "      <td>23012</td>\n",
              "      <td>12ª Região Acaraú</td>\n",
              "      <td>Jijoca de Jericoacoara</td>\n",
              "      <td>Acaraú</td>\n",
              "      <td>Jijoca de Jericoacoara</td>\n",
              "      <td>CEARÁ</td>\n",
              "      <td>NORDESTE</td>\n",
              "      <td>[230020, 230725, 230890, 230230, 230425, 23078...</td>\n",
              "      <td>[230020, 230725, 230890, 230230, 230425, 23078...</td>\n",
              "      <td>0</td>\n",
              "    </tr>\n",
              "    <tr>\n",
              "      <th>2</th>\n",
              "      <td>230780</td>\n",
              "      <td>CE</td>\n",
              "      <td>23012</td>\n",
              "      <td>12ª Região Acaraú</td>\n",
              "      <td>Marco</td>\n",
              "      <td>Acaraú</td>\n",
              "      <td>Marco</td>\n",
              "      <td>CEARÁ</td>\n",
              "      <td>NORDESTE</td>\n",
              "      <td>[230020, 230725, 230890, 230230, 230425, 23078...</td>\n",
              "      <td>[230020, 230725, 230890, 230230, 230425, 23078...</td>\n",
              "      <td>0</td>\n",
              "    </tr>\n",
              "    <tr>\n",
              "      <th>3</th>\n",
              "      <td>230020</td>\n",
              "      <td>CE</td>\n",
              "      <td>23012</td>\n",
              "      <td>12ª Região Acaraú</td>\n",
              "      <td>Acaraú</td>\n",
              "      <td>Acaraú</td>\n",
              "      <td>Acaraú</td>\n",
              "      <td>CEARÁ</td>\n",
              "      <td>NORDESTE</td>\n",
              "      <td>[230020, 230725, 230890, 230230, 230425, 23078...</td>\n",
              "      <td>[230020, 230725, 230890, 230230, 230425, 23078...</td>\n",
              "      <td>0</td>\n",
              "    </tr>\n",
              "    <tr>\n",
              "      <th>4</th>\n",
              "      <td>230230</td>\n",
              "      <td>CE</td>\n",
              "      <td>23012</td>\n",
              "      <td>12ª Região Acaraú</td>\n",
              "      <td>Bela Cruz</td>\n",
              "      <td>Acaraú</td>\n",
              "      <td>Bela Cruz</td>\n",
              "      <td>CEARÁ</td>\n",
              "      <td>NORDESTE</td>\n",
              "      <td>[230020, 230725, 230890, 230230, 230425, 23078...</td>\n",
              "      <td>[230020, 230725, 230890, 230230, 230425, 23078...</td>\n",
              "      <td>0</td>\n",
              "    </tr>\n",
              "  </tbody>\n",
              "</table>\n",
              "</div>"
            ],
            "text/plain": [
              "  CD_MUNICIPIO SG_UF  CD_REGIAO_SAUDE_2023 NM_REGIAO_SAUDE_ATUAL  \\\n",
              "0       230655    CE                 23012     12ª Região Acaraú   \n",
              "1       230725    CE                 23012     12ª Região Acaraú   \n",
              "2       230780    CE                 23012     12ª Região Acaraú   \n",
              "3       230020    CE                 23012     12ª Região Acaraú   \n",
              "4       230230    CE                 23012     12ª Região Acaraú   \n",
              "\n",
              "             NM_MUNICIPIO NM_REGIAO_SAUDE_ANTERIOR     NM_MUNICIPIOS_IN_37  \\\n",
              "0                 Itarema                   Acaraú                 Itarema   \n",
              "1  Jijoca de Jericoacoara                   Acaraú  Jijoca de Jericoacoara   \n",
              "2                   Marco                   Acaraú                   Marco   \n",
              "3                  Acaraú                   Acaraú                  Acaraú   \n",
              "4               Bela Cruz                   Acaraú               Bela Cruz   \n",
              "\n",
              "  ESTADO REGIAO_PAIS                                 lista_regiao_atual  \\\n",
              "0  CEARÁ    NORDESTE  [230020, 230725, 230890, 230230, 230425, 23078...   \n",
              "1  CEARÁ    NORDESTE  [230020, 230725, 230890, 230230, 230425, 23078...   \n",
              "2  CEARÁ    NORDESTE  [230020, 230725, 230890, 230230, 230425, 23078...   \n",
              "3  CEARÁ    NORDESTE  [230020, 230725, 230890, 230230, 230425, 23078...   \n",
              "4  CEARÁ    NORDESTE  [230020, 230725, 230890, 230230, 230425, 23078...   \n",
              "\n",
              "                               lista_regiao_anterior  flag_atual  \n",
              "0  [230020, 230725, 230890, 230230, 230425, 23078...           0  \n",
              "1  [230020, 230725, 230890, 230230, 230425, 23078...           0  \n",
              "2  [230020, 230725, 230890, 230230, 230425, 23078...           0  \n",
              "3  [230020, 230725, 230890, 230230, 230425, 23078...           0  \n",
              "4  [230020, 230725, 230890, 230230, 230425, 23078...           0  "
            ]
          },
          "execution_count": 71,
          "metadata": {},
          "output_type": "execute_result"
        }
      ],
      "source": [
        "df_regioes_concat.head()"
      ]
    },
    {
      "cell_type": "code",
      "execution_count": 72,
      "metadata": {
        "colab": {},
        "colab_type": "code",
        "id": "k1dLIAksr0JM"
      },
      "outputs": [],
      "source": [
        "resumo1 = df_regioes_concat[['SG_UF', 'NM_MUNICIPIO', 'NM_REGIAO_SAUDE_ATUAL']]"
      ]
    },
    {
      "cell_type": "code",
      "execution_count": 73,
      "metadata": {
        "colab": {},
        "colab_type": "code",
        "id": "uYo9Gm5CtFR2"
      },
      "outputs": [],
      "source": [
        "df_reg_mesmos_municipios = df_regioes_concat[df_regioes_concat['flag_atual']==0]"
      ]
    },
    {
      "cell_type": "code",
      "execution_count": 74,
      "metadata": {
        "colab": {},
        "colab_type": "code",
        "id": "Yp4gJBBotO3E"
      },
      "outputs": [
        {
          "data": {
            "text/plain": [
              "(2101, 12)"
            ]
          },
          "execution_count": 74,
          "metadata": {},
          "output_type": "execute_result"
        }
      ],
      "source": [
        "df_reg_mesmos_municipios.shape"
      ]
    },
    {
      "cell_type": "code",
      "execution_count": 75,
      "metadata": {
        "colab": {},
        "colab_type": "code",
        "id": "_7W8aY4ItifR"
      },
      "outputs": [],
      "source": [
        "municipios_sem_mudar_regiao = df_reg_mesmos_municipios.shape[0]"
      ]
    },
    {
      "cell_type": "code",
      "execution_count": 76,
      "metadata": {
        "colab": {},
        "colab_type": "code",
        "id": "qDu6tKnMtnkb"
      },
      "outputs": [
        {
          "data": {
            "text/plain": [
              "2101"
            ]
          },
          "execution_count": 76,
          "metadata": {},
          "output_type": "execute_result"
        }
      ],
      "source": [
        "municipios_sem_mudar_regiao"
      ]
    },
    {
      "cell_type": "code",
      "execution_count": 77,
      "metadata": {
        "colab": {},
        "colab_type": "code",
        "id": "1IfEY2Eet5Ms"
      },
      "outputs": [
        {
          "data": {
            "text/html": [
              "<div>\n",
              "<style scoped>\n",
              "    .dataframe tbody tr th:only-of-type {\n",
              "        vertical-align: middle;\n",
              "    }\n",
              "\n",
              "    .dataframe tbody tr th {\n",
              "        vertical-align: top;\n",
              "    }\n",
              "\n",
              "    .dataframe thead th {\n",
              "        text-align: right;\n",
              "    }\n",
              "</style>\n",
              "<table border=\"1\" class=\"dataframe\">\n",
              "  <thead>\n",
              "    <tr style=\"text-align: right;\">\n",
              "      <th></th>\n",
              "      <th>CD_MUNICIPIO</th>\n",
              "      <th>SG_UF</th>\n",
              "      <th>CD_REGIAO_SAUDE_2023</th>\n",
              "      <th>NM_MUNICIPIO</th>\n",
              "      <th>NM_REGIAO_SAUDE_ANTERIOR</th>\n",
              "      <th>NM_MUNICIPIOS_IN_37</th>\n",
              "      <th>ESTADO</th>\n",
              "      <th>REGIAO_PAIS</th>\n",
              "      <th>lista_regiao_atual</th>\n",
              "      <th>lista_regiao_anterior</th>\n",
              "      <th>flag_atual</th>\n",
              "    </tr>\n",
              "    <tr>\n",
              "      <th>NM_REGIAO_SAUDE_ATUAL</th>\n",
              "      <th></th>\n",
              "      <th></th>\n",
              "      <th></th>\n",
              "      <th></th>\n",
              "      <th></th>\n",
              "      <th></th>\n",
              "      <th></th>\n",
              "      <th></th>\n",
              "      <th></th>\n",
              "      <th></th>\n",
              "      <th></th>\n",
              "    </tr>\n",
              "  </thead>\n",
              "  <tbody>\n",
              "    <tr>\n",
              "      <th>10ª RS Cascavel</th>\n",
              "      <td>25</td>\n",
              "      <td>25</td>\n",
              "      <td>25</td>\n",
              "      <td>25</td>\n",
              "      <td>25</td>\n",
              "      <td>25</td>\n",
              "      <td>25</td>\n",
              "      <td>25</td>\n",
              "      <td>25</td>\n",
              "      <td>25</td>\n",
              "      <td>25</td>\n",
              "    </tr>\n",
              "    <tr>\n",
              "      <th>10ª Região Limoeiro do Norte</th>\n",
              "      <td>11</td>\n",
              "      <td>11</td>\n",
              "      <td>11</td>\n",
              "      <td>11</td>\n",
              "      <td>11</td>\n",
              "      <td>11</td>\n",
              "      <td>11</td>\n",
              "      <td>11</td>\n",
              "      <td>11</td>\n",
              "      <td>11</td>\n",
              "      <td>11</td>\n",
              "    </tr>\n",
              "    <tr>\n",
              "      <th>11ª RS Campo Mourão</th>\n",
              "      <td>25</td>\n",
              "      <td>25</td>\n",
              "      <td>25</td>\n",
              "      <td>25</td>\n",
              "      <td>25</td>\n",
              "      <td>25</td>\n",
              "      <td>25</td>\n",
              "      <td>25</td>\n",
              "      <td>25</td>\n",
              "      <td>25</td>\n",
              "      <td>25</td>\n",
              "    </tr>\n",
              "    <tr>\n",
              "      <th>11ª Região</th>\n",
              "      <td>7</td>\n",
              "      <td>7</td>\n",
              "      <td>7</td>\n",
              "      <td>7</td>\n",
              "      <td>7</td>\n",
              "      <td>7</td>\n",
              "      <td>7</td>\n",
              "      <td>7</td>\n",
              "      <td>7</td>\n",
              "      <td>7</td>\n",
              "      <td>7</td>\n",
              "    </tr>\n",
              "    <tr>\n",
              "      <th>11ª Região Sobral</th>\n",
              "      <td>24</td>\n",
              "      <td>24</td>\n",
              "      <td>24</td>\n",
              "      <td>24</td>\n",
              "      <td>24</td>\n",
              "      <td>24</td>\n",
              "      <td>24</td>\n",
              "      <td>24</td>\n",
              "      <td>24</td>\n",
              "      <td>24</td>\n",
              "      <td>24</td>\n",
              "    </tr>\n",
              "    <tr>\n",
              "      <th>...</th>\n",
              "      <td>...</td>\n",
              "      <td>...</td>\n",
              "      <td>...</td>\n",
              "      <td>...</td>\n",
              "      <td>...</td>\n",
              "      <td>...</td>\n",
              "      <td>...</td>\n",
              "      <td>...</td>\n",
              "      <td>...</td>\n",
              "      <td>...</td>\n",
              "      <td>...</td>\n",
              "    </tr>\n",
              "    <tr>\n",
              "      <th>Vale dos Arinos</th>\n",
              "      <td>4</td>\n",
              "      <td>4</td>\n",
              "      <td>4</td>\n",
              "      <td>4</td>\n",
              "      <td>4</td>\n",
              "      <td>4</td>\n",
              "      <td>4</td>\n",
              "      <td>4</td>\n",
              "      <td>4</td>\n",
              "      <td>4</td>\n",
              "      <td>4</td>\n",
              "    </tr>\n",
              "    <tr>\n",
              "      <th>Vale dos Rios Piauí e Itaueiras</th>\n",
              "      <td>28</td>\n",
              "      <td>28</td>\n",
              "      <td>28</td>\n",
              "      <td>28</td>\n",
              "      <td>28</td>\n",
              "      <td>28</td>\n",
              "      <td>28</td>\n",
              "      <td>28</td>\n",
              "      <td>28</td>\n",
              "      <td>28</td>\n",
              "      <td>28</td>\n",
              "    </tr>\n",
              "    <tr>\n",
              "      <th>Vitória da Conquista</th>\n",
              "      <td>19</td>\n",
              "      <td>19</td>\n",
              "      <td>19</td>\n",
              "      <td>19</td>\n",
              "      <td>19</td>\n",
              "      <td>19</td>\n",
              "      <td>19</td>\n",
              "      <td>19</td>\n",
              "      <td>19</td>\n",
              "      <td>19</td>\n",
              "      <td>19</td>\n",
              "    </tr>\n",
              "    <tr>\n",
              "      <th>Xanxerê</th>\n",
              "      <td>21</td>\n",
              "      <td>21</td>\n",
              "      <td>21</td>\n",
              "      <td>21</td>\n",
              "      <td>21</td>\n",
              "      <td>21</td>\n",
              "      <td>21</td>\n",
              "      <td>21</td>\n",
              "      <td>21</td>\n",
              "      <td>21</td>\n",
              "      <td>21</td>\n",
              "    </tr>\n",
              "    <tr>\n",
              "      <th>Xingu</th>\n",
              "      <td>9</td>\n",
              "      <td>9</td>\n",
              "      <td>9</td>\n",
              "      <td>9</td>\n",
              "      <td>9</td>\n",
              "      <td>9</td>\n",
              "      <td>9</td>\n",
              "      <td>9</td>\n",
              "      <td>9</td>\n",
              "      <td>9</td>\n",
              "      <td>9</td>\n",
              "    </tr>\n",
              "  </tbody>\n",
              "</table>\n",
              "<p>152 rows × 11 columns</p>\n",
              "</div>"
            ],
            "text/plain": [
              "                                 CD_MUNICIPIO  SG_UF  CD_REGIAO_SAUDE_2023  \\\n",
              "NM_REGIAO_SAUDE_ATUAL                                                        \n",
              "10ª RS Cascavel                            25     25                    25   \n",
              "10ª Região Limoeiro do Norte               11     11                    11   \n",
              "11ª RS Campo Mourão                        25     25                    25   \n",
              "11ª Região                                  7      7                     7   \n",
              "11ª Região Sobral                          24     24                    24   \n",
              "...                                       ...    ...                   ...   \n",
              "Vale dos Arinos                             4      4                     4   \n",
              "Vale dos Rios Piauí e Itaueiras            28     28                    28   \n",
              "Vitória da Conquista                       19     19                    19   \n",
              "Xanxerê                                    21     21                    21   \n",
              "Xingu                                       9      9                     9   \n",
              "\n",
              "                                 NM_MUNICIPIO  NM_REGIAO_SAUDE_ANTERIOR  \\\n",
              "NM_REGIAO_SAUDE_ATUAL                                                     \n",
              "10ª RS Cascavel                            25                        25   \n",
              "10ª Região Limoeiro do Norte               11                        11   \n",
              "11ª RS Campo Mourão                        25                        25   \n",
              "11ª Região                                  7                         7   \n",
              "11ª Região Sobral                          24                        24   \n",
              "...                                       ...                       ...   \n",
              "Vale dos Arinos                             4                         4   \n",
              "Vale dos Rios Piauí e Itaueiras            28                        28   \n",
              "Vitória da Conquista                       19                        19   \n",
              "Xanxerê                                    21                        21   \n",
              "Xingu                                       9                         9   \n",
              "\n",
              "                                 NM_MUNICIPIOS_IN_37  ESTADO  REGIAO_PAIS  \\\n",
              "NM_REGIAO_SAUDE_ATUAL                                                       \n",
              "10ª RS Cascavel                                   25      25           25   \n",
              "10ª Região Limoeiro do Norte                      11      11           11   \n",
              "11ª RS Campo Mourão                               25      25           25   \n",
              "11ª Região                                         7       7            7   \n",
              "11ª Região Sobral                                 24      24           24   \n",
              "...                                              ...     ...          ...   \n",
              "Vale dos Arinos                                    4       4            4   \n",
              "Vale dos Rios Piauí e Itaueiras                   28      28           28   \n",
              "Vitória da Conquista                              19      19           19   \n",
              "Xanxerê                                           21      21           21   \n",
              "Xingu                                              9       9            9   \n",
              "\n",
              "                                 lista_regiao_atual  lista_regiao_anterior  \\\n",
              "NM_REGIAO_SAUDE_ATUAL                                                        \n",
              "10ª RS Cascavel                                  25                     25   \n",
              "10ª Região Limoeiro do Norte                     11                     11   \n",
              "11ª RS Campo Mourão                              25                     25   \n",
              "11ª Região                                        7                      7   \n",
              "11ª Região Sobral                                24                     24   \n",
              "...                                             ...                    ...   \n",
              "Vale dos Arinos                                   4                      4   \n",
              "Vale dos Rios Piauí e Itaueiras                  28                     28   \n",
              "Vitória da Conquista                             19                     19   \n",
              "Xanxerê                                          21                     21   \n",
              "Xingu                                             9                      9   \n",
              "\n",
              "                                 flag_atual  \n",
              "NM_REGIAO_SAUDE_ATUAL                        \n",
              "10ª RS Cascavel                          25  \n",
              "10ª Região Limoeiro do Norte             11  \n",
              "11ª RS Campo Mourão                      25  \n",
              "11ª Região                                7  \n",
              "11ª Região Sobral                        24  \n",
              "...                                     ...  \n",
              "Vale dos Arinos                           4  \n",
              "Vale dos Rios Piauí e Itaueiras          28  \n",
              "Vitória da Conquista                     19  \n",
              "Xanxerê                                  21  \n",
              "Xingu                                     9  \n",
              "\n",
              "[152 rows x 11 columns]"
            ]
          },
          "execution_count": 77,
          "metadata": {},
          "output_type": "execute_result"
        }
      ],
      "source": [
        "df_reg_mesmos_municipios.groupby('NM_REGIAO_SAUDE_ATUAL').count()"
      ]
    },
    {
      "cell_type": "code",
      "execution_count": 78,
      "metadata": {
        "colab": {},
        "colab_type": "code",
        "id": "ybFgivCLuShD"
      },
      "outputs": [
        {
          "data": {
            "text/html": [
              "<div>\n",
              "<style scoped>\n",
              "    .dataframe tbody tr th:only-of-type {\n",
              "        vertical-align: middle;\n",
              "    }\n",
              "\n",
              "    .dataframe tbody tr th {\n",
              "        vertical-align: top;\n",
              "    }\n",
              "\n",
              "    .dataframe thead th {\n",
              "        text-align: right;\n",
              "    }\n",
              "</style>\n",
              "<table border=\"1\" class=\"dataframe\">\n",
              "  <thead>\n",
              "    <tr style=\"text-align: right;\">\n",
              "      <th></th>\n",
              "      <th>CD_MUNICIPIO</th>\n",
              "      <th>SG_UF</th>\n",
              "      <th>CD_REGIAO_SAUDE_2023</th>\n",
              "      <th>NM_REGIAO_SAUDE_ATUAL</th>\n",
              "      <th>NM_MUNICIPIO</th>\n",
              "      <th>NM_MUNICIPIOS_IN_37</th>\n",
              "      <th>ESTADO</th>\n",
              "      <th>REGIAO_PAIS</th>\n",
              "      <th>lista_regiao_atual</th>\n",
              "      <th>lista_regiao_anterior</th>\n",
              "      <th>flag_atual</th>\n",
              "    </tr>\n",
              "    <tr>\n",
              "      <th>NM_REGIAO_SAUDE_ANTERIOR</th>\n",
              "      <th></th>\n",
              "      <th></th>\n",
              "      <th></th>\n",
              "      <th></th>\n",
              "      <th></th>\n",
              "      <th></th>\n",
              "      <th></th>\n",
              "      <th></th>\n",
              "      <th></th>\n",
              "      <th></th>\n",
              "      <th></th>\n",
              "    </tr>\n",
              "  </thead>\n",
              "  <tbody>\n",
              "    <tr>\n",
              "      <th>Acaraú</th>\n",
              "      <td>7</td>\n",
              "      <td>7</td>\n",
              "      <td>7</td>\n",
              "      <td>7</td>\n",
              "      <td>7</td>\n",
              "      <td>7</td>\n",
              "      <td>7</td>\n",
              "      <td>7</td>\n",
              "      <td>7</td>\n",
              "      <td>7</td>\n",
              "      <td>7</td>\n",
              "    </tr>\n",
              "    <tr>\n",
              "      <th>Afogados da Ingazeira</th>\n",
              "      <td>12</td>\n",
              "      <td>12</td>\n",
              "      <td>12</td>\n",
              "      <td>12</td>\n",
              "      <td>12</td>\n",
              "      <td>12</td>\n",
              "      <td>12</td>\n",
              "      <td>12</td>\n",
              "      <td>12</td>\n",
              "      <td>12</td>\n",
              "      <td>12</td>\n",
              "    </tr>\n",
              "    <tr>\n",
              "      <th>Alagoinhas</th>\n",
              "      <td>18</td>\n",
              "      <td>18</td>\n",
              "      <td>18</td>\n",
              "      <td>18</td>\n",
              "      <td>18</td>\n",
              "      <td>18</td>\n",
              "      <td>18</td>\n",
              "      <td>18</td>\n",
              "      <td>18</td>\n",
              "      <td>18</td>\n",
              "      <td>18</td>\n",
              "    </tr>\n",
              "    <tr>\n",
              "      <th>Alta Floresta</th>\n",
              "      <td>6</td>\n",
              "      <td>6</td>\n",
              "      <td>6</td>\n",
              "      <td>6</td>\n",
              "      <td>6</td>\n",
              "      <td>6</td>\n",
              "      <td>6</td>\n",
              "      <td>6</td>\n",
              "      <td>6</td>\n",
              "      <td>6</td>\n",
              "      <td>6</td>\n",
              "    </tr>\n",
              "    <tr>\n",
              "      <th>Apucarana</th>\n",
              "      <td>17</td>\n",
              "      <td>17</td>\n",
              "      <td>17</td>\n",
              "      <td>17</td>\n",
              "      <td>17</td>\n",
              "      <td>17</td>\n",
              "      <td>17</td>\n",
              "      <td>17</td>\n",
              "      <td>17</td>\n",
              "      <td>17</td>\n",
              "      <td>17</td>\n",
              "    </tr>\n",
              "    <tr>\n",
              "      <th>...</th>\n",
              "      <td>...</td>\n",
              "      <td>...</td>\n",
              "      <td>...</td>\n",
              "      <td>...</td>\n",
              "      <td>...</td>\n",
              "      <td>...</td>\n",
              "      <td>...</td>\n",
              "      <td>...</td>\n",
              "      <td>...</td>\n",
              "      <td>...</td>\n",
              "      <td>...</td>\n",
              "    </tr>\n",
              "    <tr>\n",
              "      <th>Vitória da Conquista</th>\n",
              "      <td>19</td>\n",
              "      <td>19</td>\n",
              "      <td>19</td>\n",
              "      <td>19</td>\n",
              "      <td>19</td>\n",
              "      <td>19</td>\n",
              "      <td>19</td>\n",
              "      <td>19</td>\n",
              "      <td>19</td>\n",
              "      <td>19</td>\n",
              "      <td>19</td>\n",
              "    </tr>\n",
              "    <tr>\n",
              "      <th>XI Núcleo Regional de Saúde</th>\n",
              "      <td>7</td>\n",
              "      <td>7</td>\n",
              "      <td>7</td>\n",
              "      <td>7</td>\n",
              "      <td>7</td>\n",
              "      <td>7</td>\n",
              "      <td>7</td>\n",
              "      <td>7</td>\n",
              "      <td>7</td>\n",
              "      <td>7</td>\n",
              "      <td>7</td>\n",
              "    </tr>\n",
              "    <tr>\n",
              "      <th>XII Núcleo Regional de Saúde</th>\n",
              "      <td>14</td>\n",
              "      <td>14</td>\n",
              "      <td>14</td>\n",
              "      <td>14</td>\n",
              "      <td>14</td>\n",
              "      <td>14</td>\n",
              "      <td>14</td>\n",
              "      <td>14</td>\n",
              "      <td>14</td>\n",
              "      <td>14</td>\n",
              "      <td>14</td>\n",
              "    </tr>\n",
              "    <tr>\n",
              "      <th>Xanxerê</th>\n",
              "      <td>21</td>\n",
              "      <td>21</td>\n",
              "      <td>21</td>\n",
              "      <td>21</td>\n",
              "      <td>21</td>\n",
              "      <td>21</td>\n",
              "      <td>21</td>\n",
              "      <td>21</td>\n",
              "      <td>21</td>\n",
              "      <td>21</td>\n",
              "      <td>21</td>\n",
              "    </tr>\n",
              "    <tr>\n",
              "      <th>Água Boa</th>\n",
              "      <td>8</td>\n",
              "      <td>8</td>\n",
              "      <td>8</td>\n",
              "      <td>8</td>\n",
              "      <td>8</td>\n",
              "      <td>8</td>\n",
              "      <td>8</td>\n",
              "      <td>8</td>\n",
              "      <td>8</td>\n",
              "      <td>8</td>\n",
              "      <td>8</td>\n",
              "    </tr>\n",
              "  </tbody>\n",
              "</table>\n",
              "<p>152 rows × 11 columns</p>\n",
              "</div>"
            ],
            "text/plain": [
              "                              CD_MUNICIPIO  SG_UF  CD_REGIAO_SAUDE_2023  \\\n",
              "NM_REGIAO_SAUDE_ANTERIOR                                                  \n",
              "Acaraú                                   7      7                     7   \n",
              "Afogados da Ingazeira                   12     12                    12   \n",
              "Alagoinhas                              18     18                    18   \n",
              "Alta Floresta                            6      6                     6   \n",
              "Apucarana                               17     17                    17   \n",
              "...                                    ...    ...                   ...   \n",
              "Vitória da Conquista                    19     19                    19   \n",
              "XI Núcleo Regional de Saúde              7      7                     7   \n",
              "XII Núcleo Regional de Saúde            14     14                    14   \n",
              "Xanxerê                                 21     21                    21   \n",
              "Água Boa                                 8      8                     8   \n",
              "\n",
              "                              NM_REGIAO_SAUDE_ATUAL  NM_MUNICIPIO  \\\n",
              "NM_REGIAO_SAUDE_ANTERIOR                                            \n",
              "Acaraú                                            7             7   \n",
              "Afogados da Ingazeira                            12            12   \n",
              "Alagoinhas                                       18            18   \n",
              "Alta Floresta                                     6             6   \n",
              "Apucarana                                        17            17   \n",
              "...                                             ...           ...   \n",
              "Vitória da Conquista                             19            19   \n",
              "XI Núcleo Regional de Saúde                       7             7   \n",
              "XII Núcleo Regional de Saúde                     14            14   \n",
              "Xanxerê                                          21            21   \n",
              "Água Boa                                          8             8   \n",
              "\n",
              "                              NM_MUNICIPIOS_IN_37  ESTADO  REGIAO_PAIS  \\\n",
              "NM_REGIAO_SAUDE_ANTERIOR                                                 \n",
              "Acaraú                                          7       7            7   \n",
              "Afogados da Ingazeira                          12      12           12   \n",
              "Alagoinhas                                     18      18           18   \n",
              "Alta Floresta                                   6       6            6   \n",
              "Apucarana                                      17      17           17   \n",
              "...                                           ...     ...          ...   \n",
              "Vitória da Conquista                           19      19           19   \n",
              "XI Núcleo Regional de Saúde                     7       7            7   \n",
              "XII Núcleo Regional de Saúde                   14      14           14   \n",
              "Xanxerê                                        21      21           21   \n",
              "Água Boa                                        8       8            8   \n",
              "\n",
              "                              lista_regiao_atual  lista_regiao_anterior  \\\n",
              "NM_REGIAO_SAUDE_ANTERIOR                                                  \n",
              "Acaraú                                         7                      7   \n",
              "Afogados da Ingazeira                         12                     12   \n",
              "Alagoinhas                                    18                     18   \n",
              "Alta Floresta                                  6                      6   \n",
              "Apucarana                                     17                     17   \n",
              "...                                          ...                    ...   \n",
              "Vitória da Conquista                          19                     19   \n",
              "XI Núcleo Regional de Saúde                    7                      7   \n",
              "XII Núcleo Regional de Saúde                  14                     14   \n",
              "Xanxerê                                       21                     21   \n",
              "Água Boa                                       8                      8   \n",
              "\n",
              "                              flag_atual  \n",
              "NM_REGIAO_SAUDE_ANTERIOR                  \n",
              "Acaraú                                 7  \n",
              "Afogados da Ingazeira                 12  \n",
              "Alagoinhas                            18  \n",
              "Alta Floresta                          6  \n",
              "Apucarana                             17  \n",
              "...                                  ...  \n",
              "Vitória da Conquista                  19  \n",
              "XI Núcleo Regional de Saúde            7  \n",
              "XII Núcleo Regional de Saúde          14  \n",
              "Xanxerê                               21  \n",
              "Água Boa                               8  \n",
              "\n",
              "[152 rows x 11 columns]"
            ]
          },
          "execution_count": 78,
          "metadata": {},
          "output_type": "execute_result"
        }
      ],
      "source": [
        "df_reg_mesmos_municipios.groupby('NM_REGIAO_SAUDE_ANTERIOR').count()"
      ]
    },
    {
      "cell_type": "code",
      "execution_count": 79,
      "metadata": {
        "colab": {},
        "colab_type": "code",
        "id": "Wz4wpl3iumT0"
      },
      "outputs": [],
      "source": [
        "resumo2 = df_reg_mesmos_municipios.groupby(['NM_REGIAO_SAUDE_ATUAL','NM_REGIAO_SAUDE_ANTERIOR', 'SG_UF']).count()['CD_MUNICIPIO'].reset_index()"
      ]
    },
    {
      "cell_type": "code",
      "execution_count": 80,
      "metadata": {
        "colab": {},
        "colab_type": "code",
        "id": "eX9acrCRusbP"
      },
      "outputs": [],
      "source": [
        "resumo2.sort_values('CD_MUNICIPIO', ascending=False, inplace=True)"
      ]
    },
    {
      "cell_type": "code",
      "execution_count": 81,
      "metadata": {
        "colab": {},
        "colab_type": "code",
        "id": "2OfWVDxDuvrg"
      },
      "outputs": [
        {
          "data": {
            "text/html": [
              "<div>\n",
              "<style scoped>\n",
              "    .dataframe tbody tr th:only-of-type {\n",
              "        vertical-align: middle;\n",
              "    }\n",
              "\n",
              "    .dataframe tbody tr th {\n",
              "        vertical-align: top;\n",
              "    }\n",
              "\n",
              "    .dataframe thead th {\n",
              "        text-align: right;\n",
              "    }\n",
              "</style>\n",
              "<table border=\"1\" class=\"dataframe\">\n",
              "  <thead>\n",
              "    <tr style=\"text-align: right;\">\n",
              "      <th></th>\n",
              "      <th>NM_REGIAO_SAUDE_ATUAL</th>\n",
              "      <th>NM_REGIAO_SAUDE_ANTERIOR</th>\n",
              "      <th>SG_UF</th>\n",
              "      <th>CD_MUNICIPIO</th>\n",
              "    </tr>\n",
              "  </thead>\n",
              "  <tbody>\n",
              "    <tr>\n",
              "      <th>147</th>\n",
              "      <td>Vale do Rio Guaribas</td>\n",
              "      <td>TD Vale do Rio Guaribas</td>\n",
              "      <td>PI</td>\n",
              "      <td>42</td>\n",
              "    </tr>\n",
              "    <tr>\n",
              "      <th>42</th>\n",
              "      <td>6ª Região de Saúde - Pau dos Ferros</td>\n",
              "      <td>VI ETAM</td>\n",
              "      <td>RN</td>\n",
              "      <td>37</td>\n",
              "    </tr>\n",
              "    <tr>\n",
              "      <th>64</th>\n",
              "      <td>Caruaru</td>\n",
              "      <td>Caruaru</td>\n",
              "      <td>PE</td>\n",
              "      <td>32</td>\n",
              "    </tr>\n",
              "    <tr>\n",
              "      <th>74</th>\n",
              "      <td>Entre Rios</td>\n",
              "      <td>TD Entre Rios</td>\n",
              "      <td>PI</td>\n",
              "      <td>31</td>\n",
              "    </tr>\n",
              "    <tr>\n",
              "      <th>12</th>\n",
              "      <td>15ª RS Maringá</td>\n",
              "      <td>Maringá</td>\n",
              "      <td>PR</td>\n",
              "      <td>30</td>\n",
              "    </tr>\n",
              "    <tr>\n",
              "      <th>...</th>\n",
              "      <td>...</td>\n",
              "      <td>...</td>\n",
              "      <td>...</td>\n",
              "      <td>...</td>\n",
              "    </tr>\n",
              "    <tr>\n",
              "      <th>149</th>\n",
              "      <td>Vale dos Arinos</td>\n",
              "      <td>Juara</td>\n",
              "      <td>MT</td>\n",
              "      <td>4</td>\n",
              "    </tr>\n",
              "    <tr>\n",
              "      <th>11</th>\n",
              "      <td>14ª Região Tauá</td>\n",
              "      <td>Tauá</td>\n",
              "      <td>CE</td>\n",
              "      <td>4</td>\n",
              "    </tr>\n",
              "    <tr>\n",
              "      <th>58</th>\n",
              "      <td>Baia da Ilha Grande</td>\n",
              "      <td>Baía da Ilha Grande</td>\n",
              "      <td>RJ</td>\n",
              "      <td>3</td>\n",
              "    </tr>\n",
              "    <tr>\n",
              "      <th>70</th>\n",
              "      <td>Corumbá</td>\n",
              "      <td>NCT de Corumbá</td>\n",
              "      <td>MS</td>\n",
              "      <td>2</td>\n",
              "    </tr>\n",
              "    <tr>\n",
              "      <th>72</th>\n",
              "      <td>Distrito Federal</td>\n",
              "      <td>Distrito Federal</td>\n",
              "      <td>DF</td>\n",
              "      <td>1</td>\n",
              "    </tr>\n",
              "  </tbody>\n",
              "</table>\n",
              "<p>154 rows × 4 columns</p>\n",
              "</div>"
            ],
            "text/plain": [
              "                   NM_REGIAO_SAUDE_ATUAL NM_REGIAO_SAUDE_ANTERIOR SG_UF  \\\n",
              "147                 Vale do Rio Guaribas  TD Vale do Rio Guaribas    PI   \n",
              "42   6ª Região de Saúde - Pau dos Ferros                  VI ETAM    RN   \n",
              "64                               Caruaru                  Caruaru    PE   \n",
              "74                            Entre Rios            TD Entre Rios    PI   \n",
              "12                        15ª RS Maringá                  Maringá    PR   \n",
              "..                                   ...                      ...   ...   \n",
              "149                      Vale dos Arinos                    Juara    MT   \n",
              "11                       14ª Região Tauá                     Tauá    CE   \n",
              "58                   Baia da Ilha Grande      Baía da Ilha Grande    RJ   \n",
              "70                               Corumbá           NCT de Corumbá    MS   \n",
              "72                      Distrito Federal         Distrito Federal    DF   \n",
              "\n",
              "     CD_MUNICIPIO  \n",
              "147            42  \n",
              "42             37  \n",
              "64             32  \n",
              "74             31  \n",
              "12             30  \n",
              "..            ...  \n",
              "149             4  \n",
              "11              4  \n",
              "58              3  \n",
              "70              2  \n",
              "72              1  \n",
              "\n",
              "[154 rows x 4 columns]"
            ]
          },
          "execution_count": 81,
          "metadata": {},
          "output_type": "execute_result"
        }
      ],
      "source": [
        "resumo2"
      ]
    },
    {
      "cell_type": "code",
      "execution_count": 82,
      "metadata": {
        "colab": {},
        "colab_type": "code",
        "id": "nj1cCx8bu29p"
      },
      "outputs": [],
      "source": [
        "df_regioes_concat.sort_values('SG_UF', ascending=True, inplace=True)"
      ]
    },
    {
      "cell_type": "code",
      "execution_count": 83,
      "metadata": {
        "colab": {},
        "colab_type": "code",
        "id": "AhnsKSsIu6_U"
      },
      "outputs": [],
      "source": [
        "for row in df_regioes_concat.loc[df_regioes_concat['lista_regiao_anterior'].isnull(), 'lista_regiao_anterior'].index:\n",
        "    df_regioes_concat.at[row, 'lista_regiao_anterior'] = []"
      ]
    },
    {
      "cell_type": "code",
      "execution_count": 84,
      "metadata": {
        "colab": {},
        "colab_type": "code",
        "id": "p2_06bvCvHDZ"
      },
      "outputs": [
        {
          "data": {
            "text/html": [
              "<div>\n",
              "<style scoped>\n",
              "    .dataframe tbody tr th:only-of-type {\n",
              "        vertical-align: middle;\n",
              "    }\n",
              "\n",
              "    .dataframe tbody tr th {\n",
              "        vertical-align: top;\n",
              "    }\n",
              "\n",
              "    .dataframe thead th {\n",
              "        text-align: right;\n",
              "    }\n",
              "</style>\n",
              "<table border=\"1\" class=\"dataframe\">\n",
              "  <thead>\n",
              "    <tr style=\"text-align: right;\">\n",
              "      <th></th>\n",
              "      <th>CD_MUNICIPIO</th>\n",
              "      <th>SG_UF</th>\n",
              "      <th>CD_REGIAO_SAUDE_2023</th>\n",
              "      <th>NM_REGIAO_SAUDE_ATUAL</th>\n",
              "      <th>NM_MUNICIPIO</th>\n",
              "      <th>NM_REGIAO_SAUDE_ANTERIOR</th>\n",
              "      <th>NM_MUNICIPIOS_IN_37</th>\n",
              "      <th>ESTADO</th>\n",
              "      <th>REGIAO_PAIS</th>\n",
              "      <th>lista_regiao_atual</th>\n",
              "      <th>lista_regiao_anterior</th>\n",
              "      <th>flag_atual</th>\n",
              "    </tr>\n",
              "  </thead>\n",
              "  <tbody>\n",
              "  </tbody>\n",
              "</table>\n",
              "</div>"
            ],
            "text/plain": [
              "Empty DataFrame\n",
              "Columns: [CD_MUNICIPIO, SG_UF, CD_REGIAO_SAUDE_2023, NM_REGIAO_SAUDE_ATUAL, NM_MUNICIPIO, NM_REGIAO_SAUDE_ANTERIOR, NM_MUNICIPIOS_IN_37, ESTADO, REGIAO_PAIS, lista_regiao_atual, lista_regiao_anterior, flag_atual]\n",
              "Index: []"
            ]
          },
          "execution_count": 84,
          "metadata": {},
          "output_type": "execute_result"
        }
      ],
      "source": [
        "df_regioes_concat[df_regioes_concat['lista_regiao_anterior'].isnull()]"
      ]
    },
    {
      "cell_type": "code",
      "execution_count": 85,
      "metadata": {
        "colab": {},
        "colab_type": "code",
        "id": "85zABSOavL8c"
      },
      "outputs": [],
      "source": [
        "df_regioes_concat['flag_municipio_entrou'] = df_regioes_concat['lista_regiao_atual'].map(set) - df_regioes_concat['lista_regiao_anterior'].map(set)"
      ]
    },
    {
      "cell_type": "code",
      "execution_count": 86,
      "metadata": {
        "colab": {},
        "colab_type": "code",
        "id": "v74r5vaIvPur"
      },
      "outputs": [],
      "source": [
        "df_regioes_concat['flag_municipio_saiu'] = df_regioes_concat['lista_regiao_anterior'].map(set) - df_regioes_concat['lista_regiao_atual'].map(set)"
      ]
    },
    {
      "cell_type": "code",
      "execution_count": 87,
      "metadata": {
        "colab": {},
        "colab_type": "code",
        "id": "p-xaZJusvTUa"
      },
      "outputs": [
        {
          "data": {
            "text/html": [
              "<div>\n",
              "<style scoped>\n",
              "    .dataframe tbody tr th:only-of-type {\n",
              "        vertical-align: middle;\n",
              "    }\n",
              "\n",
              "    .dataframe tbody tr th {\n",
              "        vertical-align: top;\n",
              "    }\n",
              "\n",
              "    .dataframe thead th {\n",
              "        text-align: right;\n",
              "    }\n",
              "</style>\n",
              "<table border=\"1\" class=\"dataframe\">\n",
              "  <thead>\n",
              "    <tr style=\"text-align: right;\">\n",
              "      <th></th>\n",
              "      <th>CD_MUNICIPIO</th>\n",
              "      <th>SG_UF</th>\n",
              "      <th>CD_REGIAO_SAUDE_2023</th>\n",
              "      <th>NM_REGIAO_SAUDE_ATUAL</th>\n",
              "      <th>NM_MUNICIPIO</th>\n",
              "      <th>NM_REGIAO_SAUDE_ANTERIOR</th>\n",
              "      <th>NM_MUNICIPIOS_IN_37</th>\n",
              "      <th>ESTADO</th>\n",
              "      <th>REGIAO_PAIS</th>\n",
              "      <th>lista_regiao_atual</th>\n",
              "      <th>lista_regiao_anterior</th>\n",
              "      <th>flag_atual</th>\n",
              "      <th>flag_municipio_entrou</th>\n",
              "      <th>flag_municipio_saiu</th>\n",
              "    </tr>\n",
              "  </thead>\n",
              "  <tbody>\n",
              "    <tr>\n",
              "      <th>1497</th>\n",
              "      <td>120032</td>\n",
              "      <td>AC</td>\n",
              "      <td>12002</td>\n",
              "      <td>Baixo Acre e Purus</td>\n",
              "      <td>Jordão</td>\n",
              "      <td>Cruzeiro do Sul</td>\n",
              "      <td>Jordão</td>\n",
              "      <td>ACRE</td>\n",
              "      <td>NORTE</td>\n",
              "      <td>[120032, 120001, 120034, 120038, 120040, 12004...</td>\n",
              "      <td>[120032, 120033, 120035, 120039, 120042, 12002...</td>\n",
              "      <td>1</td>\n",
              "      <td>{120001, 120034, 120038, 120040, 120043, 12004...</td>\n",
              "      <td>{120033, 120035, 120039, 120042, 120020, 12006...</td>\n",
              "    </tr>\n",
              "    <tr>\n",
              "      <th>15</th>\n",
              "      <td>120001</td>\n",
              "      <td>AC</td>\n",
              "      <td>12002</td>\n",
              "      <td>Baixo Acre e Purus</td>\n",
              "      <td>Acrelândia</td>\n",
              "      <td>Acre</td>\n",
              "      <td>Acrelândia</td>\n",
              "      <td>ACRE</td>\n",
              "      <td>NORTE</td>\n",
              "      <td>[120032, 120001, 120034, 120038, 120040, 12004...</td>\n",
              "      <td>[120001, 120034, 120038, 120040, 120043, 12004...</td>\n",
              "      <td>1</td>\n",
              "      <td>{120032}</td>\n",
              "      <td>{}</td>\n",
              "    </tr>\n",
              "    <tr>\n",
              "      <th>14</th>\n",
              "      <td>120013</td>\n",
              "      <td>AC</td>\n",
              "      <td>12002</td>\n",
              "      <td>Baixo Acre e Purus</td>\n",
              "      <td>Bujari</td>\n",
              "      <td>Acre</td>\n",
              "      <td>Bujari</td>\n",
              "      <td>ACRE</td>\n",
              "      <td>NORTE</td>\n",
              "      <td>[120032, 120001, 120034, 120038, 120040, 12004...</td>\n",
              "      <td>[120001, 120034, 120038, 120040, 120043, 12004...</td>\n",
              "      <td>1</td>\n",
              "      <td>{120032}</td>\n",
              "      <td>{}</td>\n",
              "    </tr>\n",
              "    <tr>\n",
              "      <th>13</th>\n",
              "      <td>120017</td>\n",
              "      <td>AC</td>\n",
              "      <td>12002</td>\n",
              "      <td>Baixo Acre e Purus</td>\n",
              "      <td>Capixaba</td>\n",
              "      <td>Acre</td>\n",
              "      <td>Capixaba</td>\n",
              "      <td>ACRE</td>\n",
              "      <td>NORTE</td>\n",
              "      <td>[120032, 120001, 120034, 120038, 120040, 12004...</td>\n",
              "      <td>[120001, 120034, 120038, 120040, 120043, 12004...</td>\n",
              "      <td>1</td>\n",
              "      <td>{120032}</td>\n",
              "      <td>{}</td>\n",
              "    </tr>\n",
              "    <tr>\n",
              "      <th>16</th>\n",
              "      <td>120080</td>\n",
              "      <td>AC</td>\n",
              "      <td>12002</td>\n",
              "      <td>Baixo Acre e Purus</td>\n",
              "      <td>Porto Acre</td>\n",
              "      <td>Acre</td>\n",
              "      <td>Porto Acre</td>\n",
              "      <td>ACRE</td>\n",
              "      <td>NORTE</td>\n",
              "      <td>[120032, 120001, 120034, 120038, 120040, 12004...</td>\n",
              "      <td>[120001, 120034, 120038, 120040, 120043, 12004...</td>\n",
              "      <td>1</td>\n",
              "      <td>{120032}</td>\n",
              "      <td>{}</td>\n",
              "    </tr>\n",
              "    <tr>\n",
              "      <th>11</th>\n",
              "      <td>120038</td>\n",
              "      <td>AC</td>\n",
              "      <td>12002</td>\n",
              "      <td>Baixo Acre e Purus</td>\n",
              "      <td>Plácido de Castro</td>\n",
              "      <td>Acre</td>\n",
              "      <td>Plácido de Castro</td>\n",
              "      <td>ACRE</td>\n",
              "      <td>NORTE</td>\n",
              "      <td>[120032, 120001, 120034, 120038, 120040, 12004...</td>\n",
              "      <td>[120001, 120034, 120038, 120040, 120043, 12004...</td>\n",
              "      <td>1</td>\n",
              "      <td>{120032}</td>\n",
              "      <td>{}</td>\n",
              "    </tr>\n",
              "    <tr>\n",
              "      <th>12</th>\n",
              "      <td>120034</td>\n",
              "      <td>AC</td>\n",
              "      <td>12002</td>\n",
              "      <td>Baixo Acre e Purus</td>\n",
              "      <td>Manoel Urbano</td>\n",
              "      <td>Acre</td>\n",
              "      <td>Manoel Urbano</td>\n",
              "      <td>ACRE</td>\n",
              "      <td>NORTE</td>\n",
              "      <td>[120032, 120001, 120034, 120038, 120040, 12004...</td>\n",
              "      <td>[120001, 120034, 120038, 120040, 120043, 12004...</td>\n",
              "      <td>1</td>\n",
              "      <td>{120032}</td>\n",
              "      <td>{}</td>\n",
              "    </tr>\n",
              "    <tr>\n",
              "      <th>8</th>\n",
              "      <td>120050</td>\n",
              "      <td>AC</td>\n",
              "      <td>12002</td>\n",
              "      <td>Baixo Acre e Purus</td>\n",
              "      <td>Sena Madureira</td>\n",
              "      <td>Acre</td>\n",
              "      <td>Sena Madureira</td>\n",
              "      <td>ACRE</td>\n",
              "      <td>NORTE</td>\n",
              "      <td>[120032, 120001, 120034, 120038, 120040, 12004...</td>\n",
              "      <td>[120001, 120034, 120038, 120040, 120043, 12004...</td>\n",
              "      <td>1</td>\n",
              "      <td>{120032}</td>\n",
              "      <td>{}</td>\n",
              "    </tr>\n",
              "    <tr>\n",
              "      <th>9</th>\n",
              "      <td>120043</td>\n",
              "      <td>AC</td>\n",
              "      <td>12002</td>\n",
              "      <td>Baixo Acre e Purus</td>\n",
              "      <td>Santa Rosa do Purus</td>\n",
              "      <td>Acre</td>\n",
              "      <td>Santa Rosa do Purus</td>\n",
              "      <td>ACRE</td>\n",
              "      <td>NORTE</td>\n",
              "      <td>[120032, 120001, 120034, 120038, 120040, 12004...</td>\n",
              "      <td>[120001, 120034, 120038, 120040, 120043, 12004...</td>\n",
              "      <td>1</td>\n",
              "      <td>{120032}</td>\n",
              "      <td>{}</td>\n",
              "    </tr>\n",
              "    <tr>\n",
              "      <th>10</th>\n",
              "      <td>120040</td>\n",
              "      <td>AC</td>\n",
              "      <td>12002</td>\n",
              "      <td>Baixo Acre e Purus</td>\n",
              "      <td>Rio Branco</td>\n",
              "      <td>Acre</td>\n",
              "      <td>Rio Branco</td>\n",
              "      <td>ACRE</td>\n",
              "      <td>NORTE</td>\n",
              "      <td>[120032, 120001, 120034, 120038, 120040, 12004...</td>\n",
              "      <td>[120001, 120034, 120038, 120040, 120043, 12004...</td>\n",
              "      <td>1</td>\n",
              "      <td>{120032}</td>\n",
              "      <td>{}</td>\n",
              "    </tr>\n",
              "    <tr>\n",
              "      <th>7</th>\n",
              "      <td>120045</td>\n",
              "      <td>AC</td>\n",
              "      <td>12002</td>\n",
              "      <td>Baixo Acre e Purus</td>\n",
              "      <td>Senador Guiomard</td>\n",
              "      <td>Acre</td>\n",
              "      <td>Senador Guiomard</td>\n",
              "      <td>ACRE</td>\n",
              "      <td>NORTE</td>\n",
              "      <td>[120032, 120001, 120034, 120038, 120040, 12004...</td>\n",
              "      <td>[120001, 120034, 120038, 120040, 120043, 12004...</td>\n",
              "      <td>1</td>\n",
              "      <td>{120032}</td>\n",
              "      <td>{}</td>\n",
              "    </tr>\n",
              "  </tbody>\n",
              "</table>\n",
              "</div>"
            ],
            "text/plain": [
              "     CD_MUNICIPIO SG_UF  CD_REGIAO_SAUDE_2023 NM_REGIAO_SAUDE_ATUAL  \\\n",
              "1497       120032    AC                 12002    Baixo Acre e Purus   \n",
              "15         120001    AC                 12002    Baixo Acre e Purus   \n",
              "14         120013    AC                 12002    Baixo Acre e Purus   \n",
              "13         120017    AC                 12002    Baixo Acre e Purus   \n",
              "16         120080    AC                 12002    Baixo Acre e Purus   \n",
              "11         120038    AC                 12002    Baixo Acre e Purus   \n",
              "12         120034    AC                 12002    Baixo Acre e Purus   \n",
              "8          120050    AC                 12002    Baixo Acre e Purus   \n",
              "9          120043    AC                 12002    Baixo Acre e Purus   \n",
              "10         120040    AC                 12002    Baixo Acre e Purus   \n",
              "7          120045    AC                 12002    Baixo Acre e Purus   \n",
              "\n",
              "             NM_MUNICIPIO NM_REGIAO_SAUDE_ANTERIOR  NM_MUNICIPIOS_IN_37  \\\n",
              "1497               Jordão          Cruzeiro do Sul               Jordão   \n",
              "15             Acrelândia                     Acre           Acrelândia   \n",
              "14                 Bujari                     Acre               Bujari   \n",
              "13               Capixaba                     Acre             Capixaba   \n",
              "16             Porto Acre                     Acre           Porto Acre   \n",
              "11      Plácido de Castro                     Acre    Plácido de Castro   \n",
              "12          Manoel Urbano                     Acre        Manoel Urbano   \n",
              "8          Sena Madureira                     Acre       Sena Madureira   \n",
              "9     Santa Rosa do Purus                     Acre  Santa Rosa do Purus   \n",
              "10             Rio Branco                     Acre           Rio Branco   \n",
              "7        Senador Guiomard                     Acre     Senador Guiomard   \n",
              "\n",
              "     ESTADO REGIAO_PAIS                                 lista_regiao_atual  \\\n",
              "1497   ACRE       NORTE  [120032, 120001, 120034, 120038, 120040, 12004...   \n",
              "15     ACRE       NORTE  [120032, 120001, 120034, 120038, 120040, 12004...   \n",
              "14     ACRE       NORTE  [120032, 120001, 120034, 120038, 120040, 12004...   \n",
              "13     ACRE       NORTE  [120032, 120001, 120034, 120038, 120040, 12004...   \n",
              "16     ACRE       NORTE  [120032, 120001, 120034, 120038, 120040, 12004...   \n",
              "11     ACRE       NORTE  [120032, 120001, 120034, 120038, 120040, 12004...   \n",
              "12     ACRE       NORTE  [120032, 120001, 120034, 120038, 120040, 12004...   \n",
              "8      ACRE       NORTE  [120032, 120001, 120034, 120038, 120040, 12004...   \n",
              "9      ACRE       NORTE  [120032, 120001, 120034, 120038, 120040, 12004...   \n",
              "10     ACRE       NORTE  [120032, 120001, 120034, 120038, 120040, 12004...   \n",
              "7      ACRE       NORTE  [120032, 120001, 120034, 120038, 120040, 12004...   \n",
              "\n",
              "                                  lista_regiao_anterior  flag_atual  \\\n",
              "1497  [120032, 120033, 120035, 120039, 120042, 12002...           1   \n",
              "15    [120001, 120034, 120038, 120040, 120043, 12004...           1   \n",
              "14    [120001, 120034, 120038, 120040, 120043, 12004...           1   \n",
              "13    [120001, 120034, 120038, 120040, 120043, 12004...           1   \n",
              "16    [120001, 120034, 120038, 120040, 120043, 12004...           1   \n",
              "11    [120001, 120034, 120038, 120040, 120043, 12004...           1   \n",
              "12    [120001, 120034, 120038, 120040, 120043, 12004...           1   \n",
              "8     [120001, 120034, 120038, 120040, 120043, 12004...           1   \n",
              "9     [120001, 120034, 120038, 120040, 120043, 12004...           1   \n",
              "10    [120001, 120034, 120038, 120040, 120043, 12004...           1   \n",
              "7     [120001, 120034, 120038, 120040, 120043, 12004...           1   \n",
              "\n",
              "                                  flag_municipio_entrou  \\\n",
              "1497  {120001, 120034, 120038, 120040, 120043, 12004...   \n",
              "15                                             {120032}   \n",
              "14                                             {120032}   \n",
              "13                                             {120032}   \n",
              "16                                             {120032}   \n",
              "11                                             {120032}   \n",
              "12                                             {120032}   \n",
              "8                                              {120032}   \n",
              "9                                              {120032}   \n",
              "10                                             {120032}   \n",
              "7                                              {120032}   \n",
              "\n",
              "                                    flag_municipio_saiu  \n",
              "1497  {120033, 120035, 120039, 120042, 120020, 12006...  \n",
              "15                                                   {}  \n",
              "14                                                   {}  \n",
              "13                                                   {}  \n",
              "16                                                   {}  \n",
              "11                                                   {}  \n",
              "12                                                   {}  \n",
              "8                                                    {}  \n",
              "9                                                    {}  \n",
              "10                                                   {}  \n",
              "7                                                    {}  "
            ]
          },
          "execution_count": 87,
          "metadata": {},
          "output_type": "execute_result"
        }
      ],
      "source": [
        "df_regioes_concat[df_regioes_concat['NM_REGIAO_SAUDE_ATUAL']=='Baixo Acre e Purus']"
      ]
    },
    {
      "cell_type": "code",
      "execution_count": 88,
      "metadata": {
        "colab": {},
        "colab_type": "code",
        "id": "fMRmx0-X0aSi"
      },
      "outputs": [
        {
          "data": {
            "text/html": [
              "<div>\n",
              "<style scoped>\n",
              "    .dataframe tbody tr th:only-of-type {\n",
              "        vertical-align: middle;\n",
              "    }\n",
              "\n",
              "    .dataframe tbody tr th {\n",
              "        vertical-align: top;\n",
              "    }\n",
              "\n",
              "    .dataframe thead th {\n",
              "        text-align: right;\n",
              "    }\n",
              "</style>\n",
              "<table border=\"1\" class=\"dataframe\">\n",
              "  <thead>\n",
              "    <tr style=\"text-align: right;\">\n",
              "      <th></th>\n",
              "      <th>CD_MUNICIPIO</th>\n",
              "      <th>SG_UF</th>\n",
              "      <th>CD_REGIAO_SAUDE_2023</th>\n",
              "      <th>NM_REGIAO_SAUDE_ATUAL</th>\n",
              "      <th>NM_MUNICIPIO</th>\n",
              "      <th>NM_REGIAO_SAUDE_ANTERIOR</th>\n",
              "      <th>NM_MUNICIPIOS_IN_37</th>\n",
              "      <th>ESTADO</th>\n",
              "      <th>REGIAO_PAIS</th>\n",
              "      <th>lista_regiao_atual</th>\n",
              "      <th>lista_regiao_anterior</th>\n",
              "      <th>flag_atual</th>\n",
              "      <th>flag_municipio_entrou</th>\n",
              "      <th>flag_municipio_saiu</th>\n",
              "    </tr>\n",
              "  </thead>\n",
              "  <tbody>\n",
              "    <tr>\n",
              "      <th>3201</th>\n",
              "      <td>521525</td>\n",
              "      <td>GO</td>\n",
              "      <td>52008</td>\n",
              "      <td>Norte</td>\n",
              "      <td>Novo Planalto</td>\n",
              "      <td>Norte</td>\n",
              "      <td>Novo Planalto</td>\n",
              "      <td>GOIÁS</td>\n",
              "      <td>CENTRO-OESTE</td>\n",
              "      <td>[521377, 521410, 522145, 522020, 520357, 52196...</td>\n",
              "      <td>[521377, 521410, 522145, 522020, 520357, 52196...</td>\n",
              "      <td>0</td>\n",
              "      <td>{}</td>\n",
              "      <td>{}</td>\n",
              "    </tr>\n",
              "    <tr>\n",
              "      <th>3200</th>\n",
              "      <td>522145</td>\n",
              "      <td>GO</td>\n",
              "      <td>52008</td>\n",
              "      <td>Norte</td>\n",
              "      <td>Trombas</td>\n",
              "      <td>Norte</td>\n",
              "      <td>Trombas</td>\n",
              "      <td>GOIÁS</td>\n",
              "      <td>CENTRO-OESTE</td>\n",
              "      <td>[521377, 521410, 522145, 522020, 520357, 52196...</td>\n",
              "      <td>[521377, 521410, 522145, 522020, 520357, 52196...</td>\n",
              "      <td>0</td>\n",
              "      <td>{}</td>\n",
              "      <td>{}</td>\n",
              "    </tr>\n",
              "    <tr>\n",
              "      <th>3199</th>\n",
              "      <td>521377</td>\n",
              "      <td>GO</td>\n",
              "      <td>52008</td>\n",
              "      <td>Norte</td>\n",
              "      <td>Montividiu do Norte</td>\n",
              "      <td>Norte</td>\n",
              "      <td>Montividiu do Norte</td>\n",
              "      <td>GOIÁS</td>\n",
              "      <td>CENTRO-OESTE</td>\n",
              "      <td>[521377, 521410, 522145, 522020, 520357, 52196...</td>\n",
              "      <td>[521377, 521410, 522145, 522020, 520357, 52196...</td>\n",
              "      <td>0</td>\n",
              "      <td>{}</td>\n",
              "      <td>{}</td>\n",
              "    </tr>\n",
              "    <tr>\n",
              "      <th>3198</th>\n",
              "      <td>521405</td>\n",
              "      <td>GO</td>\n",
              "      <td>52008</td>\n",
              "      <td>Norte</td>\n",
              "      <td>Mundo Novo</td>\n",
              "      <td>Norte</td>\n",
              "      <td>Mundo Novo</td>\n",
              "      <td>GOIÁS</td>\n",
              "      <td>CENTRO-OESTE</td>\n",
              "      <td>[521377, 521410, 522145, 522020, 520357, 52196...</td>\n",
              "      <td>[521377, 521410, 522145, 522020, 520357, 52196...</td>\n",
              "      <td>0</td>\n",
              "      <td>{}</td>\n",
              "      <td>{}</td>\n",
              "    </tr>\n",
              "    <tr>\n",
              "      <th>3197</th>\n",
              "      <td>521410</td>\n",
              "      <td>GO</td>\n",
              "      <td>52008</td>\n",
              "      <td>Norte</td>\n",
              "      <td>Mutunópolis</td>\n",
              "      <td>Norte</td>\n",
              "      <td>Mutunópolis</td>\n",
              "      <td>GOIÁS</td>\n",
              "      <td>CENTRO-OESTE</td>\n",
              "      <td>[521377, 521410, 522145, 522020, 520357, 52196...</td>\n",
              "      <td>[521377, 521410, 522145, 522020, 520357, 52196...</td>\n",
              "      <td>0</td>\n",
              "      <td>{}</td>\n",
              "      <td>{}</td>\n",
              "    </tr>\n",
              "    <tr>\n",
              "      <th>3196</th>\n",
              "      <td>520357</td>\n",
              "      <td>GO</td>\n",
              "      <td>52008</td>\n",
              "      <td>Norte</td>\n",
              "      <td>Bonópolis</td>\n",
              "      <td>Norte</td>\n",
              "      <td>Bonópolis</td>\n",
              "      <td>GOIÁS</td>\n",
              "      <td>CENTRO-OESTE</td>\n",
              "      <td>[521377, 521410, 522145, 522020, 520357, 52196...</td>\n",
              "      <td>[521377, 521410, 522145, 522020, 520357, 52196...</td>\n",
              "      <td>0</td>\n",
              "      <td>{}</td>\n",
              "      <td>{}</td>\n",
              "    </tr>\n",
              "    <tr>\n",
              "      <th>3195</th>\n",
              "      <td>521308</td>\n",
              "      <td>GO</td>\n",
              "      <td>52008</td>\n",
              "      <td>Norte</td>\n",
              "      <td>Minaçu</td>\n",
              "      <td>Norte</td>\n",
              "      <td>Minaçu</td>\n",
              "      <td>GOIÁS</td>\n",
              "      <td>CENTRO-OESTE</td>\n",
              "      <td>[521377, 521410, 522145, 522020, 520357, 52196...</td>\n",
              "      <td>[521377, 521410, 522145, 522020, 520357, 52196...</td>\n",
              "      <td>0</td>\n",
              "      <td>{}</td>\n",
              "      <td>{}</td>\n",
              "    </tr>\n",
              "    <tr>\n",
              "      <th>3194</th>\n",
              "      <td>521800</td>\n",
              "      <td>GO</td>\n",
              "      <td>52008</td>\n",
              "      <td>Norte</td>\n",
              "      <td>Porangatu</td>\n",
              "      <td>Norte</td>\n",
              "      <td>Porangatu</td>\n",
              "      <td>GOIÁS</td>\n",
              "      <td>CENTRO-OESTE</td>\n",
              "      <td>[521377, 521410, 522145, 522020, 520357, 52196...</td>\n",
              "      <td>[521377, 521410, 522145, 522020, 520357, 52196...</td>\n",
              "      <td>0</td>\n",
              "      <td>{}</td>\n",
              "      <td>{}</td>\n",
              "    </tr>\n",
              "    <tr>\n",
              "      <th>3193</th>\n",
              "      <td>522020</td>\n",
              "      <td>GO</td>\n",
              "      <td>52008</td>\n",
              "      <td>Norte</td>\n",
              "      <td>São Miguel do Araguaia</td>\n",
              "      <td>Norte</td>\n",
              "      <td>São Miguel do Araguaia</td>\n",
              "      <td>GOIÁS</td>\n",
              "      <td>CENTRO-OESTE</td>\n",
              "      <td>[521377, 521410, 522145, 522020, 520357, 52196...</td>\n",
              "      <td>[521377, 521410, 522145, 522020, 520357, 52196...</td>\n",
              "      <td>0</td>\n",
              "      <td>{}</td>\n",
              "      <td>{}</td>\n",
              "    </tr>\n",
              "    <tr>\n",
              "      <th>3189</th>\n",
              "      <td>521960</td>\n",
              "      <td>GO</td>\n",
              "      <td>52008</td>\n",
              "      <td>Norte</td>\n",
              "      <td>Santa Tereza de Goiás</td>\n",
              "      <td>Norte</td>\n",
              "      <td>Santa Tereza de Goiás</td>\n",
              "      <td>GOIÁS</td>\n",
              "      <td>CENTRO-OESTE</td>\n",
              "      <td>[521377, 521410, 522145, 522020, 520357, 52196...</td>\n",
              "      <td>[521377, 521410, 522145, 522020, 520357, 52196...</td>\n",
              "      <td>0</td>\n",
              "      <td>{}</td>\n",
              "      <td>{}</td>\n",
              "    </tr>\n",
              "    <tr>\n",
              "      <th>3190</th>\n",
              "      <td>520465</td>\n",
              "      <td>GO</td>\n",
              "      <td>52008</td>\n",
              "      <td>Norte</td>\n",
              "      <td>Campinaçu</td>\n",
              "      <td>Norte</td>\n",
              "      <td>Campinaçu</td>\n",
              "      <td>GOIÁS</td>\n",
              "      <td>CENTRO-OESTE</td>\n",
              "      <td>[521377, 521410, 522145, 522020, 520357, 52196...</td>\n",
              "      <td>[521377, 521410, 522145, 522020, 520357, 52196...</td>\n",
              "      <td>0</td>\n",
              "      <td>{}</td>\n",
              "      <td>{}</td>\n",
              "    </tr>\n",
              "    <tr>\n",
              "      <th>3191</th>\n",
              "      <td>520750</td>\n",
              "      <td>GO</td>\n",
              "      <td>52008</td>\n",
              "      <td>Norte</td>\n",
              "      <td>Estrela do Norte</td>\n",
              "      <td>Norte</td>\n",
              "      <td>Estrela do Norte</td>\n",
              "      <td>GOIÁS</td>\n",
              "      <td>CENTRO-OESTE</td>\n",
              "      <td>[521377, 521410, 522145, 522020, 520357, 52196...</td>\n",
              "      <td>[521377, 521410, 522145, 522020, 520357, 52196...</td>\n",
              "      <td>0</td>\n",
              "      <td>{}</td>\n",
              "      <td>{}</td>\n",
              "    </tr>\n",
              "    <tr>\n",
              "      <th>3192</th>\n",
              "      <td>520810</td>\n",
              "      <td>GO</td>\n",
              "      <td>52008</td>\n",
              "      <td>Norte</td>\n",
              "      <td>Formoso</td>\n",
              "      <td>Norte</td>\n",
              "      <td>Formoso</td>\n",
              "      <td>GOIÁS</td>\n",
              "      <td>CENTRO-OESTE</td>\n",
              "      <td>[521377, 521410, 522145, 522020, 520357, 52196...</td>\n",
              "      <td>[521377, 521410, 522145, 522020, 520357, 52196...</td>\n",
              "      <td>0</td>\n",
              "      <td>{}</td>\n",
              "      <td>{}</td>\n",
              "    </tr>\n",
              "    <tr>\n",
              "      <th>3202</th>\n",
              "      <td>330240</td>\n",
              "      <td>RJ</td>\n",
              "      <td>33008</td>\n",
              "      <td>Norte</td>\n",
              "      <td>Macaé</td>\n",
              "      <td>Norte</td>\n",
              "      <td>Macaé</td>\n",
              "      <td>RIO DE JANEIRO</td>\n",
              "      <td>SUDESTE</td>\n",
              "      <td>[330240, 330500, 330475, 330093, 330415, 33048...</td>\n",
              "      <td>[330240, 330500, 330475, 330093, 330415, 33048...</td>\n",
              "      <td>0</td>\n",
              "      <td>{}</td>\n",
              "      <td>{}</td>\n",
              "    </tr>\n",
              "    <tr>\n",
              "      <th>3203</th>\n",
              "      <td>330140</td>\n",
              "      <td>RJ</td>\n",
              "      <td>33008</td>\n",
              "      <td>Norte</td>\n",
              "      <td>Conceição de Macabu</td>\n",
              "      <td>Norte</td>\n",
              "      <td>Conceição de Macabu</td>\n",
              "      <td>RIO DE JANEIRO</td>\n",
              "      <td>SUDESTE</td>\n",
              "      <td>[330240, 330500, 330475, 330093, 330415, 33048...</td>\n",
              "      <td>[330240, 330500, 330475, 330093, 330415, 33048...</td>\n",
              "      <td>0</td>\n",
              "      <td>{}</td>\n",
              "      <td>{}</td>\n",
              "    </tr>\n",
              "    <tr>\n",
              "      <th>3204</th>\n",
              "      <td>330415</td>\n",
              "      <td>RJ</td>\n",
              "      <td>33008</td>\n",
              "      <td>Norte</td>\n",
              "      <td>Quissamã</td>\n",
              "      <td>Norte</td>\n",
              "      <td>Quissamã</td>\n",
              "      <td>RIO DE JANEIRO</td>\n",
              "      <td>SUDESTE</td>\n",
              "      <td>[330240, 330500, 330475, 330093, 330415, 33048...</td>\n",
              "      <td>[330240, 330500, 330475, 330093, 330415, 33048...</td>\n",
              "      <td>0</td>\n",
              "      <td>{}</td>\n",
              "      <td>{}</td>\n",
              "    </tr>\n",
              "    <tr>\n",
              "      <th>3205</th>\n",
              "      <td>330100</td>\n",
              "      <td>RJ</td>\n",
              "      <td>33008</td>\n",
              "      <td>Norte</td>\n",
              "      <td>Campos dos Goytacazes</td>\n",
              "      <td>Norte</td>\n",
              "      <td>Campos dos Goytacazes</td>\n",
              "      <td>RIO DE JANEIRO</td>\n",
              "      <td>SUDESTE</td>\n",
              "      <td>[330240, 330500, 330475, 330093, 330415, 33048...</td>\n",
              "      <td>[330240, 330500, 330475, 330093, 330415, 33048...</td>\n",
              "      <td>0</td>\n",
              "      <td>{}</td>\n",
              "      <td>{}</td>\n",
              "    </tr>\n",
              "    <tr>\n",
              "      <th>3206</th>\n",
              "      <td>330093</td>\n",
              "      <td>RJ</td>\n",
              "      <td>33008</td>\n",
              "      <td>Norte</td>\n",
              "      <td>Carapebus</td>\n",
              "      <td>Norte</td>\n",
              "      <td>Carapebus</td>\n",
              "      <td>RIO DE JANEIRO</td>\n",
              "      <td>SUDESTE</td>\n",
              "      <td>[330240, 330500, 330475, 330093, 330415, 33048...</td>\n",
              "      <td>[330240, 330500, 330475, 330093, 330415, 33048...</td>\n",
              "      <td>0</td>\n",
              "      <td>{}</td>\n",
              "      <td>{}</td>\n",
              "    </tr>\n",
              "    <tr>\n",
              "      <th>3207</th>\n",
              "      <td>330500</td>\n",
              "      <td>RJ</td>\n",
              "      <td>33008</td>\n",
              "      <td>Norte</td>\n",
              "      <td>São João da Barra</td>\n",
              "      <td>Norte</td>\n",
              "      <td>São João da Barra</td>\n",
              "      <td>RIO DE JANEIRO</td>\n",
              "      <td>SUDESTE</td>\n",
              "      <td>[330240, 330500, 330475, 330093, 330415, 33048...</td>\n",
              "      <td>[330240, 330500, 330475, 330093, 330415, 33048...</td>\n",
              "      <td>0</td>\n",
              "      <td>{}</td>\n",
              "      <td>{}</td>\n",
              "    </tr>\n",
              "    <tr>\n",
              "      <th>3208</th>\n",
              "      <td>330480</td>\n",
              "      <td>RJ</td>\n",
              "      <td>33008</td>\n",
              "      <td>Norte</td>\n",
              "      <td>São Fidélis</td>\n",
              "      <td>Norte</td>\n",
              "      <td>São Fidélis</td>\n",
              "      <td>RIO DE JANEIRO</td>\n",
              "      <td>SUDESTE</td>\n",
              "      <td>[330240, 330500, 330475, 330093, 330415, 33048...</td>\n",
              "      <td>[330240, 330500, 330475, 330093, 330415, 33048...</td>\n",
              "      <td>0</td>\n",
              "      <td>{}</td>\n",
              "      <td>{}</td>\n",
              "    </tr>\n",
              "    <tr>\n",
              "      <th>3209</th>\n",
              "      <td>330475</td>\n",
              "      <td>RJ</td>\n",
              "      <td>33008</td>\n",
              "      <td>Norte</td>\n",
              "      <td>São Francisco de Itabapoana</td>\n",
              "      <td>Norte</td>\n",
              "      <td>São Francisco de Itabapoana</td>\n",
              "      <td>RIO DE JANEIRO</td>\n",
              "      <td>SUDESTE</td>\n",
              "      <td>[330240, 330500, 330475, 330093, 330415, 33048...</td>\n",
              "      <td>[330240, 330500, 330475, 330093, 330415, 33048...</td>\n",
              "      <td>0</td>\n",
              "      <td>{}</td>\n",
              "      <td>{}</td>\n",
              "    </tr>\n",
              "  </tbody>\n",
              "</table>\n",
              "</div>"
            ],
            "text/plain": [
              "     CD_MUNICIPIO SG_UF  CD_REGIAO_SAUDE_2023 NM_REGIAO_SAUDE_ATUAL  \\\n",
              "3201       521525    GO                 52008                 Norte   \n",
              "3200       522145    GO                 52008                 Norte   \n",
              "3199       521377    GO                 52008                 Norte   \n",
              "3198       521405    GO                 52008                 Norte   \n",
              "3197       521410    GO                 52008                 Norte   \n",
              "3196       520357    GO                 52008                 Norte   \n",
              "3195       521308    GO                 52008                 Norte   \n",
              "3194       521800    GO                 52008                 Norte   \n",
              "3193       522020    GO                 52008                 Norte   \n",
              "3189       521960    GO                 52008                 Norte   \n",
              "3190       520465    GO                 52008                 Norte   \n",
              "3191       520750    GO                 52008                 Norte   \n",
              "3192       520810    GO                 52008                 Norte   \n",
              "3202       330240    RJ                 33008                 Norte   \n",
              "3203       330140    RJ                 33008                 Norte   \n",
              "3204       330415    RJ                 33008                 Norte   \n",
              "3205       330100    RJ                 33008                 Norte   \n",
              "3206       330093    RJ                 33008                 Norte   \n",
              "3207       330500    RJ                 33008                 Norte   \n",
              "3208       330480    RJ                 33008                 Norte   \n",
              "3209       330475    RJ                 33008                 Norte   \n",
              "\n",
              "                     NM_MUNICIPIO NM_REGIAO_SAUDE_ANTERIOR  \\\n",
              "3201                Novo Planalto                    Norte   \n",
              "3200                      Trombas                    Norte   \n",
              "3199          Montividiu do Norte                    Norte   \n",
              "3198                   Mundo Novo                    Norte   \n",
              "3197                  Mutunópolis                    Norte   \n",
              "3196                    Bonópolis                    Norte   \n",
              "3195                       Minaçu                    Norte   \n",
              "3194                    Porangatu                    Norte   \n",
              "3193       São Miguel do Araguaia                    Norte   \n",
              "3189        Santa Tereza de Goiás                    Norte   \n",
              "3190                    Campinaçu                    Norte   \n",
              "3191             Estrela do Norte                    Norte   \n",
              "3192                      Formoso                    Norte   \n",
              "3202                        Macaé                    Norte   \n",
              "3203          Conceição de Macabu                    Norte   \n",
              "3204                     Quissamã                    Norte   \n",
              "3205        Campos dos Goytacazes                    Norte   \n",
              "3206                    Carapebus                    Norte   \n",
              "3207            São João da Barra                    Norte   \n",
              "3208                  São Fidélis                    Norte   \n",
              "3209  São Francisco de Itabapoana                    Norte   \n",
              "\n",
              "              NM_MUNICIPIOS_IN_37          ESTADO   REGIAO_PAIS  \\\n",
              "3201                Novo Planalto           GOIÁS  CENTRO-OESTE   \n",
              "3200                      Trombas           GOIÁS  CENTRO-OESTE   \n",
              "3199          Montividiu do Norte           GOIÁS  CENTRO-OESTE   \n",
              "3198                   Mundo Novo           GOIÁS  CENTRO-OESTE   \n",
              "3197                  Mutunópolis           GOIÁS  CENTRO-OESTE   \n",
              "3196                    Bonópolis           GOIÁS  CENTRO-OESTE   \n",
              "3195                       Minaçu           GOIÁS  CENTRO-OESTE   \n",
              "3194                    Porangatu           GOIÁS  CENTRO-OESTE   \n",
              "3193       São Miguel do Araguaia           GOIÁS  CENTRO-OESTE   \n",
              "3189        Santa Tereza de Goiás           GOIÁS  CENTRO-OESTE   \n",
              "3190                    Campinaçu           GOIÁS  CENTRO-OESTE   \n",
              "3191             Estrela do Norte           GOIÁS  CENTRO-OESTE   \n",
              "3192                      Formoso           GOIÁS  CENTRO-OESTE   \n",
              "3202                        Macaé  RIO DE JANEIRO       SUDESTE   \n",
              "3203          Conceição de Macabu  RIO DE JANEIRO       SUDESTE   \n",
              "3204                     Quissamã  RIO DE JANEIRO       SUDESTE   \n",
              "3205        Campos dos Goytacazes  RIO DE JANEIRO       SUDESTE   \n",
              "3206                    Carapebus  RIO DE JANEIRO       SUDESTE   \n",
              "3207            São João da Barra  RIO DE JANEIRO       SUDESTE   \n",
              "3208                  São Fidélis  RIO DE JANEIRO       SUDESTE   \n",
              "3209  São Francisco de Itabapoana  RIO DE JANEIRO       SUDESTE   \n",
              "\n",
              "                                     lista_regiao_atual  \\\n",
              "3201  [521377, 521410, 522145, 522020, 520357, 52196...   \n",
              "3200  [521377, 521410, 522145, 522020, 520357, 52196...   \n",
              "3199  [521377, 521410, 522145, 522020, 520357, 52196...   \n",
              "3198  [521377, 521410, 522145, 522020, 520357, 52196...   \n",
              "3197  [521377, 521410, 522145, 522020, 520357, 52196...   \n",
              "3196  [521377, 521410, 522145, 522020, 520357, 52196...   \n",
              "3195  [521377, 521410, 522145, 522020, 520357, 52196...   \n",
              "3194  [521377, 521410, 522145, 522020, 520357, 52196...   \n",
              "3193  [521377, 521410, 522145, 522020, 520357, 52196...   \n",
              "3189  [521377, 521410, 522145, 522020, 520357, 52196...   \n",
              "3190  [521377, 521410, 522145, 522020, 520357, 52196...   \n",
              "3191  [521377, 521410, 522145, 522020, 520357, 52196...   \n",
              "3192  [521377, 521410, 522145, 522020, 520357, 52196...   \n",
              "3202  [330240, 330500, 330475, 330093, 330415, 33048...   \n",
              "3203  [330240, 330500, 330475, 330093, 330415, 33048...   \n",
              "3204  [330240, 330500, 330475, 330093, 330415, 33048...   \n",
              "3205  [330240, 330500, 330475, 330093, 330415, 33048...   \n",
              "3206  [330240, 330500, 330475, 330093, 330415, 33048...   \n",
              "3207  [330240, 330500, 330475, 330093, 330415, 33048...   \n",
              "3208  [330240, 330500, 330475, 330093, 330415, 33048...   \n",
              "3209  [330240, 330500, 330475, 330093, 330415, 33048...   \n",
              "\n",
              "                                  lista_regiao_anterior  flag_atual  \\\n",
              "3201  [521377, 521410, 522145, 522020, 520357, 52196...           0   \n",
              "3200  [521377, 521410, 522145, 522020, 520357, 52196...           0   \n",
              "3199  [521377, 521410, 522145, 522020, 520357, 52196...           0   \n",
              "3198  [521377, 521410, 522145, 522020, 520357, 52196...           0   \n",
              "3197  [521377, 521410, 522145, 522020, 520357, 52196...           0   \n",
              "3196  [521377, 521410, 522145, 522020, 520357, 52196...           0   \n",
              "3195  [521377, 521410, 522145, 522020, 520357, 52196...           0   \n",
              "3194  [521377, 521410, 522145, 522020, 520357, 52196...           0   \n",
              "3193  [521377, 521410, 522145, 522020, 520357, 52196...           0   \n",
              "3189  [521377, 521410, 522145, 522020, 520357, 52196...           0   \n",
              "3190  [521377, 521410, 522145, 522020, 520357, 52196...           0   \n",
              "3191  [521377, 521410, 522145, 522020, 520357, 52196...           0   \n",
              "3192  [521377, 521410, 522145, 522020, 520357, 52196...           0   \n",
              "3202  [330240, 330500, 330475, 330093, 330415, 33048...           0   \n",
              "3203  [330240, 330500, 330475, 330093, 330415, 33048...           0   \n",
              "3204  [330240, 330500, 330475, 330093, 330415, 33048...           0   \n",
              "3205  [330240, 330500, 330475, 330093, 330415, 33048...           0   \n",
              "3206  [330240, 330500, 330475, 330093, 330415, 33048...           0   \n",
              "3207  [330240, 330500, 330475, 330093, 330415, 33048...           0   \n",
              "3208  [330240, 330500, 330475, 330093, 330415, 33048...           0   \n",
              "3209  [330240, 330500, 330475, 330093, 330415, 33048...           0   \n",
              "\n",
              "     flag_municipio_entrou flag_municipio_saiu  \n",
              "3201                    {}                  {}  \n",
              "3200                    {}                  {}  \n",
              "3199                    {}                  {}  \n",
              "3198                    {}                  {}  \n",
              "3197                    {}                  {}  \n",
              "3196                    {}                  {}  \n",
              "3195                    {}                  {}  \n",
              "3194                    {}                  {}  \n",
              "3193                    {}                  {}  \n",
              "3189                    {}                  {}  \n",
              "3190                    {}                  {}  \n",
              "3191                    {}                  {}  \n",
              "3192                    {}                  {}  \n",
              "3202                    {}                  {}  \n",
              "3203                    {}                  {}  \n",
              "3204                    {}                  {}  \n",
              "3205                    {}                  {}  \n",
              "3206                    {}                  {}  \n",
              "3207                    {}                  {}  \n",
              "3208                    {}                  {}  \n",
              "3209                    {}                  {}  "
            ]
          },
          "execution_count": 88,
          "metadata": {},
          "output_type": "execute_result"
        }
      ],
      "source": [
        "df_regioes_concat[df_regioes_concat['NM_REGIAO_SAUDE_ATUAL']=='Norte']"
      ]
    },
    {
      "cell_type": "code",
      "execution_count": 89,
      "metadata": {
        "colab": {},
        "colab_type": "code",
        "id": "8PqtVIw1wP1P"
      },
      "outputs": [],
      "source": [
        "df_regioes_concat['cont_municipio_entrou'] = [len(x) for x in df_regioes_concat['flag_municipio_entrou']]"
      ]
    },
    {
      "cell_type": "code",
      "execution_count": null,
      "metadata": {
        "colab": {},
        "colab_type": "code",
        "id": "gMhQO_Wz0Yv0"
      },
      "outputs": [],
      "source": []
    },
    {
      "cell_type": "code",
      "execution_count": 90,
      "metadata": {
        "colab": {},
        "colab_type": "code",
        "id": "W-XtGyvjwVTa"
      },
      "outputs": [],
      "source": [
        "df_regioes_concat['cont_municipio_saiu'] = [len(x) for x in df_regioes_concat['flag_municipio_saiu']]"
      ]
    },
    {
      "cell_type": "code",
      "execution_count": 91,
      "metadata": {
        "colab": {},
        "colab_type": "code",
        "id": "AbNrvAorwYYQ"
      },
      "outputs": [
        {
          "data": {
            "text/html": [
              "<div>\n",
              "<style scoped>\n",
              "    .dataframe tbody tr th:only-of-type {\n",
              "        vertical-align: middle;\n",
              "    }\n",
              "\n",
              "    .dataframe tbody tr th {\n",
              "        vertical-align: top;\n",
              "    }\n",
              "\n",
              "    .dataframe thead th {\n",
              "        text-align: right;\n",
              "    }\n",
              "</style>\n",
              "<table border=\"1\" class=\"dataframe\">\n",
              "  <thead>\n",
              "    <tr style=\"text-align: right;\">\n",
              "      <th></th>\n",
              "      <th>CD_MUNICIPIO</th>\n",
              "      <th>SG_UF</th>\n",
              "      <th>CD_REGIAO_SAUDE_2023</th>\n",
              "      <th>NM_REGIAO_SAUDE_ATUAL</th>\n",
              "      <th>NM_MUNICIPIO</th>\n",
              "      <th>NM_REGIAO_SAUDE_ANTERIOR</th>\n",
              "      <th>NM_MUNICIPIOS_IN_37</th>\n",
              "      <th>ESTADO</th>\n",
              "      <th>REGIAO_PAIS</th>\n",
              "      <th>lista_regiao_atual</th>\n",
              "      <th>lista_regiao_anterior</th>\n",
              "      <th>flag_atual</th>\n",
              "      <th>flag_municipio_entrou</th>\n",
              "      <th>flag_municipio_saiu</th>\n",
              "      <th>cont_municipio_entrou</th>\n",
              "      <th>cont_municipio_saiu</th>\n",
              "    </tr>\n",
              "  </thead>\n",
              "  <tbody>\n",
              "  </tbody>\n",
              "</table>\n",
              "</div>"
            ],
            "text/plain": [
              "Empty DataFrame\n",
              "Columns: [CD_MUNICIPIO, SG_UF, CD_REGIAO_SAUDE_2023, NM_REGIAO_SAUDE_ATUAL, NM_MUNICIPIO, NM_REGIAO_SAUDE_ANTERIOR, NM_MUNICIPIOS_IN_37, ESTADO, REGIAO_PAIS, lista_regiao_atual, lista_regiao_anterior, flag_atual, flag_municipio_entrou, flag_municipio_saiu, cont_municipio_entrou, cont_municipio_saiu]\n",
              "Index: []"
            ]
          },
          "execution_count": 91,
          "metadata": {},
          "output_type": "execute_result"
        }
      ],
      "source": [
        "df_regioes_concat[(df_regioes_concat['flag_atual']==0)&(df_regioes_concat['cont_municipio_entrou']>1)]"
      ]
    },
    {
      "cell_type": "code",
      "execution_count": 92,
      "metadata": {
        "colab": {},
        "colab_type": "code",
        "id": "roDqllx4wg8W"
      },
      "outputs": [
        {
          "data": {
            "text/html": [
              "<div>\n",
              "<style scoped>\n",
              "    .dataframe tbody tr th:only-of-type {\n",
              "        vertical-align: middle;\n",
              "    }\n",
              "\n",
              "    .dataframe tbody tr th {\n",
              "        vertical-align: top;\n",
              "    }\n",
              "\n",
              "    .dataframe thead th {\n",
              "        text-align: right;\n",
              "    }\n",
              "</style>\n",
              "<table border=\"1\" class=\"dataframe\">\n",
              "  <thead>\n",
              "    <tr style=\"text-align: right;\">\n",
              "      <th></th>\n",
              "      <th>CD_MUNICIPIO</th>\n",
              "      <th>SG_UF</th>\n",
              "      <th>CD_REGIAO_SAUDE_2023</th>\n",
              "      <th>NM_REGIAO_SAUDE_ATUAL</th>\n",
              "      <th>NM_MUNICIPIO</th>\n",
              "      <th>NM_REGIAO_SAUDE_ANTERIOR</th>\n",
              "      <th>NM_MUNICIPIOS_IN_37</th>\n",
              "      <th>ESTADO</th>\n",
              "      <th>REGIAO_PAIS</th>\n",
              "      <th>lista_regiao_atual</th>\n",
              "      <th>lista_regiao_anterior</th>\n",
              "      <th>flag_atual</th>\n",
              "      <th>flag_municipio_entrou</th>\n",
              "      <th>flag_municipio_saiu</th>\n",
              "      <th>cont_municipio_entrou</th>\n",
              "      <th>cont_municipio_saiu</th>\n",
              "    </tr>\n",
              "  </thead>\n",
              "  <tbody>\n",
              "  </tbody>\n",
              "</table>\n",
              "</div>"
            ],
            "text/plain": [
              "Empty DataFrame\n",
              "Columns: [CD_MUNICIPIO, SG_UF, CD_REGIAO_SAUDE_2023, NM_REGIAO_SAUDE_ATUAL, NM_MUNICIPIO, NM_REGIAO_SAUDE_ANTERIOR, NM_MUNICIPIOS_IN_37, ESTADO, REGIAO_PAIS, lista_regiao_atual, lista_regiao_anterior, flag_atual, flag_municipio_entrou, flag_municipio_saiu, cont_municipio_entrou, cont_municipio_saiu]\n",
              "Index: []"
            ]
          },
          "execution_count": 92,
          "metadata": {},
          "output_type": "execute_result"
        }
      ],
      "source": [
        "df_regioes_concat[(df_regioes_concat['flag_atual']==0)&(df_regioes_concat['cont_municipio_saiu']>1)]"
      ]
    },
    {
      "cell_type": "code",
      "execution_count": 93,
      "metadata": {
        "colab": {},
        "colab_type": "code",
        "id": "L9xVdIUPwujD"
      },
      "outputs": [],
      "source": [
        "df_estatistica_entrada = df_regioes_concat[(df_regioes_concat['flag_atual']==1)&(df_regioes_concat['cont_municipio_entrou']!=0)]"
      ]
    },
    {
      "cell_type": "code",
      "execution_count": 94,
      "metadata": {
        "colab": {},
        "colab_type": "code",
        "id": "S9wKcdExw7TT"
      },
      "outputs": [
        {
          "data": {
            "text/plain": [
              "(1412, 16)"
            ]
          },
          "execution_count": 94,
          "metadata": {},
          "output_type": "execute_result"
        }
      ],
      "source": [
        "df_estatistica_entrada.shape"
      ]
    },
    {
      "cell_type": "code",
      "execution_count": 95,
      "metadata": {
        "colab": {},
        "colab_type": "code",
        "id": "vFPZ80UBxRCL"
      },
      "outputs": [
        {
          "name": "stderr",
          "output_type": "stream",
          "text": [
            "C:\\Users\\domdo\\AppData\\Local\\Temp\\ipykernel_12316\\760642781.py:1: FutureWarning: Indexing with multiple keys (implicitly converted to a tuple of keys) will be deprecated, use a list instead.\n",
            "  df_result_atual = df_estatistica_entrada.groupby(['SG_UF','NM_REGIAO_SAUDE_ATUAL'])['cont_municipio_entrou', 'cont_municipio_saiu'].agg(['count','min','max','mean']).reset_index()\n"
          ]
        }
      ],
      "source": [
        "df_result_atual = df_estatistica_entrada.groupby(['SG_UF','NM_REGIAO_SAUDE_ATUAL'])['cont_municipio_entrou', 'cont_municipio_saiu'].agg(['count','min','max','mean']).reset_index()"
      ]
    },
    {
      "cell_type": "code",
      "execution_count": 96,
      "metadata": {
        "colab": {},
        "colab_type": "code",
        "id": "wTTV9viYxTEz"
      },
      "outputs": [
        {
          "data": {
            "text/html": [
              "<div>\n",
              "<style scoped>\n",
              "    .dataframe tbody tr th:only-of-type {\n",
              "        vertical-align: middle;\n",
              "    }\n",
              "\n",
              "    .dataframe tbody tr th {\n",
              "        vertical-align: top;\n",
              "    }\n",
              "\n",
              "    .dataframe thead tr th {\n",
              "        text-align: left;\n",
              "    }\n",
              "</style>\n",
              "<table border=\"1\" class=\"dataframe\">\n",
              "  <thead>\n",
              "    <tr>\n",
              "      <th></th>\n",
              "      <th>SG_UF</th>\n",
              "      <th>NM_REGIAO_SAUDE_ATUAL</th>\n",
              "      <th colspan=\"4\" halign=\"left\">cont_municipio_entrou</th>\n",
              "      <th colspan=\"4\" halign=\"left\">cont_municipio_saiu</th>\n",
              "    </tr>\n",
              "    <tr>\n",
              "      <th></th>\n",
              "      <th></th>\n",
              "      <th></th>\n",
              "      <th>count</th>\n",
              "      <th>min</th>\n",
              "      <th>max</th>\n",
              "      <th>mean</th>\n",
              "      <th>count</th>\n",
              "      <th>min</th>\n",
              "      <th>max</th>\n",
              "      <th>mean</th>\n",
              "    </tr>\n",
              "  </thead>\n",
              "  <tbody>\n",
              "    <tr>\n",
              "      <th>0</th>\n",
              "      <td>AC</td>\n",
              "      <td>Baixo Acre e Purus</td>\n",
              "      <td>11</td>\n",
              "      <td>1</td>\n",
              "      <td>10</td>\n",
              "      <td>1.818182</td>\n",
              "      <td>11</td>\n",
              "      <td>0</td>\n",
              "      <td>7</td>\n",
              "      <td>0.636364</td>\n",
              "    </tr>\n",
              "    <tr>\n",
              "      <th>1</th>\n",
              "      <td>AL</td>\n",
              "      <td>1ª Região de Saúde</td>\n",
              "      <td>12</td>\n",
              "      <td>1</td>\n",
              "      <td>11</td>\n",
              "      <td>1.833333</td>\n",
              "      <td>12</td>\n",
              "      <td>11</td>\n",
              "      <td>16</td>\n",
              "      <td>15.583333</td>\n",
              "    </tr>\n",
              "    <tr>\n",
              "      <th>2</th>\n",
              "      <td>AL</td>\n",
              "      <td>4ª Região de Saúde</td>\n",
              "      <td>9</td>\n",
              "      <td>2</td>\n",
              "      <td>7</td>\n",
              "      <td>3.111111</td>\n",
              "      <td>9</td>\n",
              "      <td>20</td>\n",
              "      <td>22</td>\n",
              "      <td>20.444444</td>\n",
              "    </tr>\n",
              "    <tr>\n",
              "      <th>3</th>\n",
              "      <td>AL</td>\n",
              "      <td>7ª Região de Saúde</td>\n",
              "      <td>17</td>\n",
              "      <td>3</td>\n",
              "      <td>14</td>\n",
              "      <td>4.941176</td>\n",
              "      <td>17</td>\n",
              "      <td>10</td>\n",
              "      <td>21</td>\n",
              "      <td>11.941176</td>\n",
              "    </tr>\n",
              "    <tr>\n",
              "      <th>4</th>\n",
              "      <td>AM</td>\n",
              "      <td>Alto Solimões</td>\n",
              "      <td>9</td>\n",
              "      <td>2</td>\n",
              "      <td>7</td>\n",
              "      <td>3.111111</td>\n",
              "      <td>9</td>\n",
              "      <td>0</td>\n",
              "      <td>10</td>\n",
              "      <td>2.222222</td>\n",
              "    </tr>\n",
              "    <tr>\n",
              "      <th>...</th>\n",
              "      <td>...</td>\n",
              "      <td>...</td>\n",
              "      <td>...</td>\n",
              "      <td>...</td>\n",
              "      <td>...</td>\n",
              "      <td>...</td>\n",
              "      <td>...</td>\n",
              "      <td>...</td>\n",
              "      <td>...</td>\n",
              "      <td>...</td>\n",
              "    </tr>\n",
              "    <tr>\n",
              "      <th>89</th>\n",
              "      <td>TO</td>\n",
              "      <td>Capim Dourado</td>\n",
              "      <td>14</td>\n",
              "      <td>6</td>\n",
              "      <td>13</td>\n",
              "      <td>7.571429</td>\n",
              "      <td>14</td>\n",
              "      <td>0</td>\n",
              "      <td>7</td>\n",
              "      <td>0.500000</td>\n",
              "    </tr>\n",
              "    <tr>\n",
              "      <th>90</th>\n",
              "      <td>TO</td>\n",
              "      <td>Cerrado Tocantins Araguaia</td>\n",
              "      <td>23</td>\n",
              "      <td>13</td>\n",
              "      <td>17</td>\n",
              "      <td>14.956522</td>\n",
              "      <td>23</td>\n",
              "      <td>0</td>\n",
              "      <td>1</td>\n",
              "      <td>0.304348</td>\n",
              "    </tr>\n",
              "    <tr>\n",
              "      <th>91</th>\n",
              "      <td>TO</td>\n",
              "      <td>Ilha do Bananal</td>\n",
              "      <td>18</td>\n",
              "      <td>5</td>\n",
              "      <td>13</td>\n",
              "      <td>7.222222</td>\n",
              "      <td>18</td>\n",
              "      <td>0</td>\n",
              "      <td>0</td>\n",
              "      <td>0.000000</td>\n",
              "    </tr>\n",
              "    <tr>\n",
              "      <th>92</th>\n",
              "      <td>TO</td>\n",
              "      <td>Médio Norte Araguaia</td>\n",
              "      <td>17</td>\n",
              "      <td>4</td>\n",
              "      <td>16</td>\n",
              "      <td>6.470588</td>\n",
              "      <td>17</td>\n",
              "      <td>0</td>\n",
              "      <td>6</td>\n",
              "      <td>1.058824</td>\n",
              "    </tr>\n",
              "    <tr>\n",
              "      <th>93</th>\n",
              "      <td>TO</td>\n",
              "      <td>Sudeste</td>\n",
              "      <td>15</td>\n",
              "      <td>7</td>\n",
              "      <td>8</td>\n",
              "      <td>7.466667</td>\n",
              "      <td>15</td>\n",
              "      <td>0</td>\n",
              "      <td>0</td>\n",
              "      <td>0.000000</td>\n",
              "    </tr>\n",
              "  </tbody>\n",
              "</table>\n",
              "<p>94 rows × 10 columns</p>\n",
              "</div>"
            ],
            "text/plain": [
              "   SG_UF       NM_REGIAO_SAUDE_ATUAL cont_municipio_entrou                     \\\n",
              "                                                     count min max       mean   \n",
              "0     AC          Baixo Acre e Purus                    11   1  10   1.818182   \n",
              "1     AL          1ª Região de Saúde                    12   1  11   1.833333   \n",
              "2     AL          4ª Região de Saúde                     9   2   7   3.111111   \n",
              "3     AL          7ª Região de Saúde                    17   3  14   4.941176   \n",
              "4     AM               Alto Solimões                     9   2   7   3.111111   \n",
              "..   ...                         ...                   ...  ..  ..        ...   \n",
              "89    TO               Capim Dourado                    14   6  13   7.571429   \n",
              "90    TO  Cerrado Tocantins Araguaia                    23  13  17  14.956522   \n",
              "91    TO             Ilha do Bananal                    18   5  13   7.222222   \n",
              "92    TO        Médio Norte Araguaia                    17   4  16   6.470588   \n",
              "93    TO                     Sudeste                    15   7   8   7.466667   \n",
              "\n",
              "   cont_municipio_saiu                     \n",
              "                 count min max       mean  \n",
              "0                   11   0   7   0.636364  \n",
              "1                   12  11  16  15.583333  \n",
              "2                    9  20  22  20.444444  \n",
              "3                   17  10  21  11.941176  \n",
              "4                    9   0  10   2.222222  \n",
              "..                 ...  ..  ..        ...  \n",
              "89                  14   0   7   0.500000  \n",
              "90                  23   0   1   0.304348  \n",
              "91                  18   0   0   0.000000  \n",
              "92                  17   0   6   1.058824  \n",
              "93                  15   0   0   0.000000  \n",
              "\n",
              "[94 rows x 10 columns]"
            ]
          },
          "execution_count": 96,
          "metadata": {},
          "output_type": "execute_result"
        }
      ],
      "source": [
        "df_result_atual"
      ]
    },
    {
      "cell_type": "code",
      "execution_count": 97,
      "metadata": {
        "colab": {},
        "colab_type": "code",
        "id": "Sc8u-54LxfBM"
      },
      "outputs": [
        {
          "name": "stderr",
          "output_type": "stream",
          "text": [
            "C:\\Users\\domdo\\AppData\\Local\\Temp\\ipykernel_12316\\299815066.py:1: FutureWarning: Indexing with multiple keys (implicitly converted to a tuple of keys) will be deprecated, use a list instead.\n",
            "  df_result_anterior = df_estatistica_entrada.groupby(['SG_UF','NM_REGIAO_SAUDE_ANTERIOR'])['cont_municipio_entrou', 'cont_municipio_saiu'].agg(['count','min','max','mean']).reset_index()\n"
          ]
        }
      ],
      "source": [
        "df_result_anterior = df_estatistica_entrada.groupby(['SG_UF','NM_REGIAO_SAUDE_ANTERIOR'])['cont_municipio_entrou', 'cont_municipio_saiu'].agg(['count','min','max','mean']).reset_index()"
      ]
    },
    {
      "cell_type": "code",
      "execution_count": 98,
      "metadata": {
        "colab": {},
        "colab_type": "code",
        "id": "RolKARk6xfZ7"
      },
      "outputs": [
        {
          "data": {
            "text/html": [
              "<div>\n",
              "<style scoped>\n",
              "    .dataframe tbody tr th:only-of-type {\n",
              "        vertical-align: middle;\n",
              "    }\n",
              "\n",
              "    .dataframe tbody tr th {\n",
              "        vertical-align: top;\n",
              "    }\n",
              "\n",
              "    .dataframe thead tr th {\n",
              "        text-align: left;\n",
              "    }\n",
              "</style>\n",
              "<table border=\"1\" class=\"dataframe\">\n",
              "  <thead>\n",
              "    <tr>\n",
              "      <th></th>\n",
              "      <th>SG_UF</th>\n",
              "      <th>NM_REGIAO_SAUDE_ANTERIOR</th>\n",
              "      <th colspan=\"4\" halign=\"left\">cont_municipio_entrou</th>\n",
              "      <th colspan=\"4\" halign=\"left\">cont_municipio_saiu</th>\n",
              "    </tr>\n",
              "    <tr>\n",
              "      <th></th>\n",
              "      <th></th>\n",
              "      <th></th>\n",
              "      <th>count</th>\n",
              "      <th>min</th>\n",
              "      <th>max</th>\n",
              "      <th>mean</th>\n",
              "      <th>count</th>\n",
              "      <th>min</th>\n",
              "      <th>max</th>\n",
              "      <th>mean</th>\n",
              "    </tr>\n",
              "  </thead>\n",
              "  <tbody>\n",
              "    <tr>\n",
              "      <th>0</th>\n",
              "      <td>AC</td>\n",
              "      <td>Acre</td>\n",
              "      <td>10</td>\n",
              "      <td>1</td>\n",
              "      <td>1</td>\n",
              "      <td>1.000000</td>\n",
              "      <td>10</td>\n",
              "      <td>0</td>\n",
              "      <td>0</td>\n",
              "      <td>0.000000</td>\n",
              "    </tr>\n",
              "    <tr>\n",
              "      <th>1</th>\n",
              "      <td>AC</td>\n",
              "      <td>Cruzeiro do Sul</td>\n",
              "      <td>1</td>\n",
              "      <td>10</td>\n",
              "      <td>10</td>\n",
              "      <td>10.000000</td>\n",
              "      <td>1</td>\n",
              "      <td>7</td>\n",
              "      <td>7</td>\n",
              "      <td>7.000000</td>\n",
              "    </tr>\n",
              "    <tr>\n",
              "      <th>2</th>\n",
              "      <td>AL</td>\n",
              "      <td>Região 01</td>\n",
              "      <td>18</td>\n",
              "      <td>1</td>\n",
              "      <td>2</td>\n",
              "      <td>1.388889</td>\n",
              "      <td>18</td>\n",
              "      <td>16</td>\n",
              "      <td>20</td>\n",
              "      <td>17.555556</td>\n",
              "    </tr>\n",
              "    <tr>\n",
              "      <th>3</th>\n",
              "      <td>AL</td>\n",
              "      <td>Região 03</td>\n",
              "      <td>3</td>\n",
              "      <td>14</td>\n",
              "      <td>14</td>\n",
              "      <td>14.000000</td>\n",
              "      <td>3</td>\n",
              "      <td>21</td>\n",
              "      <td>21</td>\n",
              "      <td>21.000000</td>\n",
              "    </tr>\n",
              "    <tr>\n",
              "      <th>4</th>\n",
              "      <td>AL</td>\n",
              "      <td>Região 04</td>\n",
              "      <td>16</td>\n",
              "      <td>3</td>\n",
              "      <td>7</td>\n",
              "      <td>3.500000</td>\n",
              "      <td>16</td>\n",
              "      <td>10</td>\n",
              "      <td>22</td>\n",
              "      <td>11.500000</td>\n",
              "    </tr>\n",
              "  </tbody>\n",
              "</table>\n",
              "</div>"
            ],
            "text/plain": [
              "  SG_UF NM_REGIAO_SAUDE_ANTERIOR cont_municipio_entrou                     \\\n",
              "                                                 count min max       mean   \n",
              "0    AC                     Acre                    10   1   1   1.000000   \n",
              "1    AC          Cruzeiro do Sul                     1  10  10  10.000000   \n",
              "2    AL                Região 01                    18   1   2   1.388889   \n",
              "3    AL                Região 03                     3  14  14  14.000000   \n",
              "4    AL                Região 04                    16   3   7   3.500000   \n",
              "\n",
              "  cont_municipio_saiu                     \n",
              "                count min max       mean  \n",
              "0                  10   0   0   0.000000  \n",
              "1                   1   7   7   7.000000  \n",
              "2                  18  16  20  17.555556  \n",
              "3                   3  21  21  21.000000  \n",
              "4                  16  10  22  11.500000  "
            ]
          },
          "execution_count": 98,
          "metadata": {},
          "output_type": "execute_result"
        }
      ],
      "source": [
        "df_result_anterior.head()"
      ]
    },
    {
      "cell_type": "code",
      "execution_count": 99,
      "metadata": {
        "colab": {},
        "colab_type": "code",
        "id": "5JFpv55ixlsd"
      },
      "outputs": [],
      "source": [
        "df_result_atual.to_excel('resultado_atual.xlsx')"
      ]
    },
    {
      "cell_type": "code",
      "execution_count": 100,
      "metadata": {
        "colab": {},
        "colab_type": "code",
        "id": "8MPuZ4GXxlY4"
      },
      "outputs": [],
      "source": [
        "df_result_anterior.to_excel('resultado_anterior.xlsx')"
      ]
    },
    {
      "cell_type": "code",
      "execution_count": 101,
      "metadata": {
        "colab": {},
        "colab_type": "code",
        "id": "O39-_gtzxlFk"
      },
      "outputs": [],
      "source": [
        "df_estatistica_entrada.to_excel('resumo_geral_movimentacao.xlsx')"
      ]
    },
    {
      "cell_type": "code",
      "execution_count": null,
      "metadata": {
        "colab": {},
        "colab_type": "code",
        "id": "hlJjMPOKUUaT"
      },
      "outputs": [],
      "source": [
        "# Sum list of values within a pandas df\n",
        "# df = [sum(a) for a in zip(*df['Val'])]"
      ]
    }
  ],
  "metadata": {
    "colab": {
      "collapsed_sections": [],
      "include_colab_link": true,
      "name": "Welcome To Colaboratory",
      "provenance": [],
      "toc_visible": true
    },
    "kernelspec": {
      "display_name": "Python 3",
      "name": "python3"
    },
    "language_info": {
      "codemirror_mode": {
        "name": "ipython",
        "version": 3
      },
      "file_extension": ".py",
      "mimetype": "text/x-python",
      "name": "python",
      "nbconvert_exporter": "python",
      "pygments_lexer": "ipython3",
      "version": "3.9.12"
    }
  },
  "nbformat": 4,
  "nbformat_minor": 0
}
