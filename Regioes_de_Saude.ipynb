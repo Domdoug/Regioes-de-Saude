{
  "nbformat": 4,
  "nbformat_minor": 0,
  "metadata": {
    "colab": {
      "name": "Welcome To Colaboratory",
      "provenance": [],
      "collapsed_sections": [],
      "toc_visible": true,
      "include_colab_link": true
    },
    "kernelspec": {
      "display_name": "Python 3",
      "name": "python3"
    }
  },
  "cells": [
    {
      "cell_type": "markdown",
      "metadata": {
        "id": "view-in-github",
        "colab_type": "text"
      },
      "source": [
        "<a href=\"https://colab.research.google.com/github/Domdoug/Regioes-de-Saude/blob/master/Regioes_de_Saude.ipynb\" target=\"_parent\"><img src=\"https://colab.research.google.com/assets/colab-badge.svg\" alt=\"Open In Colab\"/></a>"
      ]
    },
    {
      "cell_type": "code",
      "metadata": {
        "id": "IzVSYPYIYryq",
        "colab_type": "code",
        "colab": {}
      },
      "source": [
        "import pandas as pd\n",
        "import numpy as np"
      ],
      "execution_count": 0,
      "outputs": []
    },
    {
      "cell_type": "code",
      "metadata": {
        "id": "P8MEu0WWYsCI",
        "colab_type": "code",
        "colab": {}
      },
      "source": [
        "nome_colunas = ['CD_MUNICIPIO', 'SG_UF', 'NM_REGIAO_SAUDE_ATUAL', 'NM_MUNICIPIO',\n",
        "       'NM_REGIAO_SAUDE_ANTERIOR', 'NM_MUNICIPIOS_IN_37', 'ESTADO', 'REGIAO_PAIS']"
      ],
      "execution_count": 0,
      "outputs": []
    },
    {
      "cell_type": "code",
      "metadata": {
        "id": "ZUbUHeG8YsPG",
        "colab_type": "code",
        "colab": {}
      },
      "source": [
        "df_regioes = pd.read_excel('BI_Regionais de saude.xlsx', sheet_name='Dados', skiprows=1, usecols=\"A:H\", names=nome_colunas)"
      ],
      "execution_count": 0,
      "outputs": []
    },
    {
      "cell_type": "code",
      "metadata": {
        "id": "w7C968sZYsa7",
        "colab_type": "code",
        "outputId": "609ebb14-8e6f-441c-b7b3-ab0e3ab0184c",
        "colab": {
          "base_uri": "https://localhost:8080/",
          "height": 206
        }
      },
      "source": [
        "df_regioes.sort_values(by='SG_UF', ascending=True).head()"
      ],
      "execution_count": 4,
      "outputs": [
        {
          "output_type": "execute_result",
          "data": {
            "text/html": [
              "<div>\n",
              "<style scoped>\n",
              "    .dataframe tbody tr th:only-of-type {\n",
              "        vertical-align: middle;\n",
              "    }\n",
              "\n",
              "    .dataframe tbody tr th {\n",
              "        vertical-align: top;\n",
              "    }\n",
              "\n",
              "    .dataframe thead th {\n",
              "        text-align: right;\n",
              "    }\n",
              "</style>\n",
              "<table border=\"1\" class=\"dataframe\">\n",
              "  <thead>\n",
              "    <tr style=\"text-align: right;\">\n",
              "      <th></th>\n",
              "      <th>CD_MUNICIPIO</th>\n",
              "      <th>SG_UF</th>\n",
              "      <th>NM_REGIAO_SAUDE_ATUAL</th>\n",
              "      <th>NM_MUNICIPIO</th>\n",
              "      <th>NM_REGIAO_SAUDE_ANTERIOR</th>\n",
              "      <th>NM_MUNICIPIOS_IN_37</th>\n",
              "      <th>ESTADO</th>\n",
              "      <th>REGIAO_PAIS</th>\n",
              "    </tr>\n",
              "  </thead>\n",
              "  <tbody>\n",
              "    <tr>\n",
              "      <th>1483</th>\n",
              "      <td>120001</td>\n",
              "      <td>AC</td>\n",
              "      <td>Baixo Acre e Purus</td>\n",
              "      <td>Acrelândia</td>\n",
              "      <td>Acre</td>\n",
              "      <td>Acrelândia</td>\n",
              "      <td>ACRE</td>\n",
              "      <td>NORTE</td>\n",
              "    </tr>\n",
              "    <tr>\n",
              "      <th>1212</th>\n",
              "      <td>120005</td>\n",
              "      <td>AC</td>\n",
              "      <td>Alto Acre</td>\n",
              "      <td>Assis Brasil</td>\n",
              "      <td>Brasiléia</td>\n",
              "      <td>Assis Brasil</td>\n",
              "      <td>ACRE</td>\n",
              "      <td>NORTE</td>\n",
              "    </tr>\n",
              "    <tr>\n",
              "      <th>3009</th>\n",
              "      <td>120030</td>\n",
              "      <td>AC</td>\n",
              "      <td>Juruá e Tarauacá/Envira</td>\n",
              "      <td>Feijó</td>\n",
              "      <td>Cruzeiro do Sul</td>\n",
              "      <td>Feijó</td>\n",
              "      <td>ACRE</td>\n",
              "      <td>NORTE</td>\n",
              "    </tr>\n",
              "    <tr>\n",
              "      <th>1211</th>\n",
              "      <td>120070</td>\n",
              "      <td>AC</td>\n",
              "      <td>Alto Acre</td>\n",
              "      <td>Xapuri</td>\n",
              "      <td>Brasiléia</td>\n",
              "      <td>Xapuri</td>\n",
              "      <td>ACRE</td>\n",
              "      <td>NORTE</td>\n",
              "    </tr>\n",
              "    <tr>\n",
              "      <th>3010</th>\n",
              "      <td>120033</td>\n",
              "      <td>AC</td>\n",
              "      <td>Juruá e Tarauacá/Envira</td>\n",
              "      <td>Mâncio Lima</td>\n",
              "      <td>Cruzeiro do Sul</td>\n",
              "      <td>Mâncio Lima</td>\n",
              "      <td>ACRE</td>\n",
              "      <td>NORTE</td>\n",
              "    </tr>\n",
              "  </tbody>\n",
              "</table>\n",
              "</div>"
            ],
            "text/plain": [
              "      CD_MUNICIPIO SG_UF  ... ESTADO REGIAO_PAIS\n",
              "1483        120001    AC  ...   ACRE       NORTE\n",
              "1212        120005    AC  ...   ACRE       NORTE\n",
              "3009        120030    AC  ...   ACRE       NORTE\n",
              "1211        120070    AC  ...   ACRE       NORTE\n",
              "3010        120033    AC  ...   ACRE       NORTE\n",
              "\n",
              "[5 rows x 8 columns]"
            ]
          },
          "metadata": {
            "tags": []
          },
          "execution_count": 4
        }
      ]
    },
    {
      "cell_type": "code",
      "metadata": {
        "id": "SmNT09UPdFn4",
        "colab_type": "code",
        "outputId": "a8d1056b-9627-469d-891b-da3c7c0ec7d5",
        "colab": {
          "base_uri": "https://localhost:8080/",
          "height": 36
        }
      },
      "source": [
        "df_regioes.shape"
      ],
      "execution_count": 5,
      "outputs": [
        {
          "output_type": "execute_result",
          "data": {
            "text/plain": [
              "(5571, 8)"
            ]
          },
          "metadata": {
            "tags": []
          },
          "execution_count": 5
        }
      ]
    },
    {
      "cell_type": "code",
      "metadata": {
        "id": "00FOB6yWRCgW",
        "colab_type": "code",
        "colab": {}
      },
      "source": [
        "# INICIO DO PROCESSAMENTO"
      ],
      "execution_count": 0,
      "outputs": []
    },
    {
      "cell_type": "code",
      "metadata": {
        "id": "kTm9sfpCDLCQ",
        "colab_type": "code",
        "colab": {}
      },
      "source": [
        "# Esta linha e para agilizar o groupby. Talvez desnecessaria. Lógica do do SAS\n",
        "df_regioes.sort_values(by=['NM_REGIAO_SAUDE_ATUAL', 'SG_UF'], inplace=True)"
      ],
      "execution_count": 0,
      "outputs": []
    },
    {
      "cell_type": "code",
      "metadata": {
        "id": "AGWkKqZbYs-o",
        "colab_type": "code",
        "colab": {}
      },
      "source": [
        "# Aplicar na coluna CD_MUNICIPIO uma funcao para colocar os codigos do municipios em formato de conjunto para comparar,\n",
        "# agrupados por regiao atual e UF, com o agrupamento dos municipios correspondentes da regiao anterior\n",
        "\n",
        "lista1 = df_regioes.groupby(['NM_REGIAO_SAUDE_ATUAL', 'SG_UF'])['CD_MUNICIPIO'].apply(lambda x:list(set(x)))"
      ],
      "execution_count": 0,
      "outputs": []
    },
    {
      "cell_type": "code",
      "metadata": {
        "id": "pmd94zVHjk_3",
        "colab_type": "code",
        "colab": {}
      },
      "source": [
        "# Agora a lista para a Região de Saúde anterior\n",
        "df_regioes.sort_values(by=['NM_REGIAO_SAUDE_ANTERIOR', 'SG_UF'], inplace=True)"
      ],
      "execution_count": 0,
      "outputs": []
    },
    {
      "cell_type": "code",
      "metadata": {
        "id": "CPkmisiWjtCx",
        "colab_type": "code",
        "colab": {}
      },
      "source": [
        "# Agora o código para a lista2: Regiao de Saude Anterior\n",
        "lista2 = df_regioes.groupby(['NM_REGIAO_SAUDE_ANTERIOR', 'SG_UF'])['CD_MUNICIPIO'].apply(lambda x:list(set(x)))"
      ],
      "execution_count": 0,
      "outputs": []
    },
    {
      "cell_type": "code",
      "metadata": {
        "id": "dUgaC528j4og",
        "colab_type": "code",
        "colab": {}
      },
      "source": [
        "# Para transformar o formato agrupado em DataFrame\n",
        "lista1 = lista1.reset_index()\n",
        "lista2 = lista2.reset_index()"
      ],
      "execution_count": 0,
      "outputs": []
    },
    {
      "cell_type": "code",
      "metadata": {
        "id": "hZ7p5u9WnnXZ",
        "colab_type": "code",
        "outputId": "ce203fc4-8724-46a8-b0b9-b2d29c1f70df",
        "colab": {
          "base_uri": "https://localhost:8080/",
          "height": 206
        }
      },
      "source": [
        "lista1.head()"
      ],
      "execution_count": 11,
      "outputs": [
        {
          "output_type": "execute_result",
          "data": {
            "text/html": [
              "<div>\n",
              "<style scoped>\n",
              "    .dataframe tbody tr th:only-of-type {\n",
              "        vertical-align: middle;\n",
              "    }\n",
              "\n",
              "    .dataframe tbody tr th {\n",
              "        vertical-align: top;\n",
              "    }\n",
              "\n",
              "    .dataframe thead th {\n",
              "        text-align: right;\n",
              "    }\n",
              "</style>\n",
              "<table border=\"1\" class=\"dataframe\">\n",
              "  <thead>\n",
              "    <tr style=\"text-align: right;\">\n",
              "      <th></th>\n",
              "      <th>NM_REGIAO_SAUDE_ATUAL</th>\n",
              "      <th>SG_UF</th>\n",
              "      <th>CD_MUNICIPIO</th>\n",
              "    </tr>\n",
              "  </thead>\n",
              "  <tbody>\n",
              "    <tr>\n",
              "      <th>0</th>\n",
              "      <td>10ª RS Cascavel</td>\n",
              "      <td>PR</td>\n",
              "      <td>[410754, 410500, 410630, 411275, 411670, 41053...</td>\n",
              "    </tr>\n",
              "    <tr>\n",
              "      <th>1</th>\n",
              "      <td>10ª Região</td>\n",
              "      <td>PB</td>\n",
              "      <td>[250915, 251620, 251398, 251420, 251720, 25084...</td>\n",
              "    </tr>\n",
              "    <tr>\n",
              "      <th>2</th>\n",
              "      <td>10ª Região Limoeiro do Norte</td>\n",
              "      <td>CE</td>\n",
              "      <td>[230690, 230600, 230760, 231080, 231310, 23115...</td>\n",
              "    </tr>\n",
              "    <tr>\n",
              "      <th>3</th>\n",
              "      <td>10ª Região de Saúde</td>\n",
              "      <td>AL</td>\n",
              "      <td>[270240, 270330, 270500, 270642, 270580, 27071...</td>\n",
              "    </tr>\n",
              "    <tr>\n",
              "      <th>4</th>\n",
              "      <td>11ª RS Campo Mourão</td>\n",
              "      <td>PR</td>\n",
              "      <td>[412800, 410755, 411400, 410250, 410770, 41039...</td>\n",
              "    </tr>\n",
              "  </tbody>\n",
              "</table>\n",
              "</div>"
            ],
            "text/plain": [
              "          NM_REGIAO_SAUDE_ATUAL  ...                                       CD_MUNICIPIO\n",
              "0               10ª RS Cascavel  ...  [410754, 410500, 410630, 411275, 411670, 41053...\n",
              "1                    10ª Região  ...  [250915, 251620, 251398, 251420, 251720, 25084...\n",
              "2  10ª Região Limoeiro do Norte  ...  [230690, 230600, 230760, 231080, 231310, 23115...\n",
              "3           10ª Região de Saúde  ...  [270240, 270330, 270500, 270642, 270580, 27071...\n",
              "4           11ª RS Campo Mourão  ...  [412800, 410755, 411400, 410250, 410770, 41039...\n",
              "\n",
              "[5 rows x 3 columns]"
            ]
          },
          "metadata": {
            "tags": []
          },
          "execution_count": 11
        }
      ]
    },
    {
      "cell_type": "code",
      "metadata": {
        "id": "2drCi18QkCa5",
        "colab_type": "code",
        "colab": {
          "base_uri": "https://localhost:8080/",
          "height": 206
        },
        "outputId": "441a6822-dfab-4b4d-f772-1d83b68cf250"
      },
      "source": [
        "lista2.head()"
      ],
      "execution_count": 12,
      "outputs": [
        {
          "output_type": "execute_result",
          "data": {
            "text/html": [
              "<div>\n",
              "<style scoped>\n",
              "    .dataframe tbody tr th:only-of-type {\n",
              "        vertical-align: middle;\n",
              "    }\n",
              "\n",
              "    .dataframe tbody tr th {\n",
              "        vertical-align: top;\n",
              "    }\n",
              "\n",
              "    .dataframe thead th {\n",
              "        text-align: right;\n",
              "    }\n",
              "</style>\n",
              "<table border=\"1\" class=\"dataframe\">\n",
              "  <thead>\n",
              "    <tr style=\"text-align: right;\">\n",
              "      <th></th>\n",
              "      <th>NM_REGIAO_SAUDE_ANTERIOR</th>\n",
              "      <th>SG_UF</th>\n",
              "      <th>CD_MUNICIPIO</th>\n",
              "    </tr>\n",
              "  </thead>\n",
              "  <tbody>\n",
              "    <tr>\n",
              "      <th>0</th>\n",
              "      <td>Acaraú</td>\n",
              "      <td>CE</td>\n",
              "      <td>[230020, 230725, 230890, 230230, 230425, 23078...</td>\n",
              "    </tr>\n",
              "    <tr>\n",
              "      <th>1</th>\n",
              "      <td>Acre</td>\n",
              "      <td>AC</td>\n",
              "      <td>[120001, 120034, 120038, 120040, 120043, 12004...</td>\n",
              "    </tr>\n",
              "    <tr>\n",
              "      <th>2</th>\n",
              "      <td>Afogados da Ingazeira</td>\n",
              "      <td>PE</td>\n",
              "      <td>[261440, 261153, 260770, 261280, 260390, 26071...</td>\n",
              "    </tr>\n",
              "    <tr>\n",
              "      <th>3</th>\n",
              "      <td>Alagoinhas</td>\n",
              "      <td>BA</td>\n",
              "      <td>[291650, 291590, 292970, 291370, 291050, 29022...</td>\n",
              "    </tr>\n",
              "    <tr>\n",
              "      <th>4</th>\n",
              "      <td>Alfenas</td>\n",
              "      <td>MG</td>\n",
              "      <td>[310530, 310410, 314510, 311440, 310160, 31669...</td>\n",
              "    </tr>\n",
              "  </tbody>\n",
              "</table>\n",
              "</div>"
            ],
            "text/plain": [
              "  NM_REGIAO_SAUDE_ANTERIOR  ...                                       CD_MUNICIPIO\n",
              "0                   Acaraú  ...  [230020, 230725, 230890, 230230, 230425, 23078...\n",
              "1                     Acre  ...  [120001, 120034, 120038, 120040, 120043, 12004...\n",
              "2    Afogados da Ingazeira  ...  [261440, 261153, 260770, 261280, 260390, 26071...\n",
              "3               Alagoinhas  ...  [291650, 291590, 292970, 291370, 291050, 29022...\n",
              "4                  Alfenas  ...  [310530, 310410, 314510, 311440, 310160, 31669...\n",
              "\n",
              "[5 rows x 3 columns]"
            ]
          },
          "metadata": {
            "tags": []
          },
          "execution_count": 12
        }
      ]
    },
    {
      "cell_type": "code",
      "metadata": {
        "id": "xjXI0N-QkDea",
        "colab_type": "code",
        "colab": {
          "base_uri": "https://localhost:8080/",
          "height": 36
        },
        "outputId": "cb0ece97-c76a-4edb-ecc2-040f86c37e7e"
      },
      "source": [
        "lista1.shape"
      ],
      "execution_count": 13,
      "outputs": [
        {
          "output_type": "execute_result",
          "data": {
            "text/plain": [
              "(438, 3)"
            ]
          },
          "metadata": {
            "tags": []
          },
          "execution_count": 13
        }
      ]
    },
    {
      "cell_type": "code",
      "metadata": {
        "id": "XklYKUBokLpU",
        "colab_type": "code",
        "colab": {
          "base_uri": "https://localhost:8080/",
          "height": 36
        },
        "outputId": "3a37417a-7156-4189-ca40-306c45694f3f"
      },
      "source": [
        "lista2.shape"
      ],
      "execution_count": 14,
      "outputs": [
        {
          "output_type": "execute_result",
          "data": {
            "text/plain": [
              "(358, 3)"
            ]
          },
          "metadata": {
            "tags": []
          },
          "execution_count": 14
        }
      ]
    },
    {
      "cell_type": "code",
      "metadata": {
        "id": "4gIKEMBd5Mgq",
        "colab_type": "code",
        "colab": {}
      },
      "source": [
        "# ================ TESTES========================="
      ],
      "execution_count": 0,
      "outputs": []
    },
    {
      "cell_type": "code",
      "metadata": {
        "id": "fswsNkU0k1DQ",
        "colab_type": "code",
        "colab": {}
      },
      "source": [
        "# verificar se tem regiões que abrangem mais de uma UF:\n",
        "# df_regioes.groupby(['NM_REGIAO_SAUDE_ATUAL', 'SG_UF']).size()\n",
        "df_unicos = df_regioes.drop_duplicates(subset=['NM_REGIAO_SAUDE_ATUAL', 'SG_UF'])"
      ],
      "execution_count": 0,
      "outputs": []
    },
    {
      "cell_type": "code",
      "metadata": {
        "id": "V5zTuT4zk3JG",
        "colab_type": "code",
        "colab": {
          "base_uri": "https://localhost:8080/",
          "height": 36
        },
        "outputId": "6f1f56cd-51ac-4eba-d001-63087b7dbc25"
      },
      "source": [
        "df_unicos.shape  #438, 8"
      ],
      "execution_count": 16,
      "outputs": [
        {
          "output_type": "execute_result",
          "data": {
            "text/plain": [
              "(438, 8)"
            ]
          },
          "metadata": {
            "tags": []
          },
          "execution_count": 16
        }
      ]
    },
    {
      "cell_type": "code",
      "metadata": {
        "id": "fLKVMCzilFQg",
        "colab_type": "code",
        "colab": {}
      },
      "source": [
        "# Agrupa para selecionar Região de Saúde no DataFrame. Depois aplica o o metodo duplicated, para selecionar os efetivamente repetidos\n",
        "linhas_duplicadas = df_regioes.groupby(['NM_REGIAO_SAUDE_ATUAL', 'SG_UF'], as_index=False).count()"
      ],
      "execution_count": 0,
      "outputs": []
    },
    {
      "cell_type": "code",
      "metadata": {
        "id": "4PsksOvalO_X",
        "colab_type": "code",
        "colab": {
          "base_uri": "https://localhost:8080/",
          "height": 36
        },
        "outputId": "b490102a-888e-42bf-8fa9-941894f6dd02"
      },
      "source": [
        "linhas_duplicadas.shape"
      ],
      "execution_count": 18,
      "outputs": [
        {
          "output_type": "execute_result",
          "data": {
            "text/plain": [
              "(438, 8)"
            ]
          },
          "metadata": {
            "tags": []
          },
          "execution_count": 18
        }
      ]
    },
    {
      "cell_type": "code",
      "metadata": {
        "id": "3H7Vx_W2layd",
        "colab_type": "code",
        "colab": {
          "base_uri": "https://localhost:8080/",
          "height": 206
        },
        "outputId": "12e901fb-a1a1-4ee3-ae1b-fc13f908dbc7"
      },
      "source": [
        "# Seleciona todas as linhas duplicadas baseadas em uma lista de colunas. O parametro keep é para exibir todos os repetidos e não o último ou primeiro\n",
        "linhas_duplicadas = linhas_duplicadas[linhas_duplicadas.duplicated(subset=['NM_REGIAO_SAUDE_ATUAL'], keep=False)]\n",
        "linhas_duplicadas.shape  #(17, 8)\n",
        "linhas_duplicadas.head()\n",
        "# Análise: Observando o campo NM_REGIAO_SAUDE_ATUAL e SG_UF, observa-se que: As regiões repetidas e que são de UF's contíguas São: Baixo Amazonas (AM e PA).\n",
        "# O restante não são contíguas. Destaque para a Região de Saúde nomeada de \"NORTE\". Observando-se RJ e ES, que são contíguos, porém as respectivas Regiões situam-se no Norte de cada Estado.\n"
      ],
      "execution_count": 19,
      "outputs": [
        {
          "output_type": "execute_result",
          "data": {
            "text/html": [
              "<div>\n",
              "<style scoped>\n",
              "    .dataframe tbody tr th:only-of-type {\n",
              "        vertical-align: middle;\n",
              "    }\n",
              "\n",
              "    .dataframe tbody tr th {\n",
              "        vertical-align: top;\n",
              "    }\n",
              "\n",
              "    .dataframe thead th {\n",
              "        text-align: right;\n",
              "    }\n",
              "</style>\n",
              "<table border=\"1\" class=\"dataframe\">\n",
              "  <thead>\n",
              "    <tr style=\"text-align: right;\">\n",
              "      <th></th>\n",
              "      <th>NM_REGIAO_SAUDE_ATUAL</th>\n",
              "      <th>SG_UF</th>\n",
              "      <th>CD_MUNICIPIO</th>\n",
              "      <th>NM_MUNICIPIO</th>\n",
              "      <th>NM_REGIAO_SAUDE_ANTERIOR</th>\n",
              "      <th>NM_MUNICIPIOS_IN_37</th>\n",
              "      <th>ESTADO</th>\n",
              "      <th>REGIAO_PAIS</th>\n",
              "    </tr>\n",
              "  </thead>\n",
              "  <tbody>\n",
              "    <tr>\n",
              "      <th>115</th>\n",
              "      <td>Baixo Amazonas</td>\n",
              "      <td>AM</td>\n",
              "      <td>5</td>\n",
              "      <td>5</td>\n",
              "      <td>5</td>\n",
              "      <td>5</td>\n",
              "      <td>5</td>\n",
              "      <td>5</td>\n",
              "    </tr>\n",
              "    <tr>\n",
              "      <th>116</th>\n",
              "      <td>Baixo Amazonas</td>\n",
              "      <td>PA</td>\n",
              "      <td>14</td>\n",
              "      <td>14</td>\n",
              "      <td>13</td>\n",
              "      <td>13</td>\n",
              "      <td>14</td>\n",
              "      <td>14</td>\n",
              "    </tr>\n",
              "    <tr>\n",
              "      <th>142</th>\n",
              "      <td>Central</td>\n",
              "      <td>ES</td>\n",
              "      <td>18</td>\n",
              "      <td>18</td>\n",
              "      <td>18</td>\n",
              "      <td>18</td>\n",
              "      <td>18</td>\n",
              "      <td>18</td>\n",
              "    </tr>\n",
              "    <tr>\n",
              "      <th>143</th>\n",
              "      <td>Central</td>\n",
              "      <td>GO</td>\n",
              "      <td>26</td>\n",
              "      <td>26</td>\n",
              "      <td>26</td>\n",
              "      <td>26</td>\n",
              "      <td>26</td>\n",
              "      <td>26</td>\n",
              "    </tr>\n",
              "    <tr>\n",
              "      <th>144</th>\n",
              "      <td>Central</td>\n",
              "      <td>RO</td>\n",
              "      <td>14</td>\n",
              "      <td>14</td>\n",
              "      <td>14</td>\n",
              "      <td>14</td>\n",
              "      <td>14</td>\n",
              "      <td>14</td>\n",
              "    </tr>\n",
              "  </tbody>\n",
              "</table>\n",
              "</div>"
            ],
            "text/plain": [
              "    NM_REGIAO_SAUDE_ATUAL SG_UF  ...  ESTADO  REGIAO_PAIS\n",
              "115        Baixo Amazonas    AM  ...       5            5\n",
              "116        Baixo Amazonas    PA  ...      14           14\n",
              "142               Central    ES  ...      18           18\n",
              "143               Central    GO  ...      26           26\n",
              "144               Central    RO  ...      14           14\n",
              "\n",
              "[5 rows x 8 columns]"
            ]
          },
          "metadata": {
            "tags": []
          },
          "execution_count": 19
        }
      ]
    },
    {
      "cell_type": "code",
      "metadata": {
        "id": "62wGINjdlblY",
        "colab_type": "code",
        "colab": {}
      },
      "source": [
        ""
      ],
      "execution_count": 0,
      "outputs": []
    },
    {
      "cell_type": "code",
      "metadata": {
        "id": "tUjiTw5DYtLf",
        "colab_type": "code",
        "colab": {}
      },
      "source": [
        "# Até aqui, para a região Norte, não tem Problemas\n",
        "teste = lista1[lista1['NM_REGIAO_SAUDE_ATUAL']=='Norte']\n",
        "# Para o caso da Região Baixo Amazonas que abrange 2 UF's, deve-se colocar a condição de agregar, para este caso, as duas UF's \n",
        "# teste = lista1[lista1['NM_REGIAO_SAUDE_ATUAL']=='Baixo Amazonas']"
      ],
      "execution_count": 0,
      "outputs": []
    },
    {
      "cell_type": "code",
      "metadata": {
        "id": "qHvxcl7gMlJa",
        "colab_type": "code",
        "colab": {}
      },
      "source": [
        "# teste.to_excel('teste2.xlsx')\n",
        "lista1.to_excel('lista1.xlsx')"
      ],
      "execution_count": 0,
      "outputs": []
    },
    {
      "cell_type": "code",
      "metadata": {
        "id": "kJ6-QZKPnPT4",
        "colab_type": "code",
        "outputId": "dd556403-ecb6-4e3b-80e1-8211d00d38d2",
        "colab": {
          "base_uri": "https://localhost:8080/",
          "height": 36
        }
      },
      "source": [
        "teste.shape"
      ],
      "execution_count": 21,
      "outputs": [
        {
          "output_type": "execute_result",
          "data": {
            "text/plain": [
              "(3, 3)"
            ]
          },
          "metadata": {
            "tags": []
          },
          "execution_count": 21
        }
      ]
    },
    {
      "cell_type": "code",
      "metadata": {
        "id": "5JSMJudnoUFT",
        "colab_type": "code",
        "outputId": "e3723578-d990-454d-a59c-bc6265be682d",
        "colab": {
          "base_uri": "https://localhost:8080/",
          "height": 143
        }
      },
      "source": [
        "teste.head()"
      ],
      "execution_count": 22,
      "outputs": [
        {
          "output_type": "execute_result",
          "data": {
            "text/html": [
              "<div>\n",
              "<style scoped>\n",
              "    .dataframe tbody tr th:only-of-type {\n",
              "        vertical-align: middle;\n",
              "    }\n",
              "\n",
              "    .dataframe tbody tr th {\n",
              "        vertical-align: top;\n",
              "    }\n",
              "\n",
              "    .dataframe thead th {\n",
              "        text-align: right;\n",
              "    }\n",
              "</style>\n",
              "<table border=\"1\" class=\"dataframe\">\n",
              "  <thead>\n",
              "    <tr style=\"text-align: right;\">\n",
              "      <th></th>\n",
              "      <th>NM_REGIAO_SAUDE_ATUAL</th>\n",
              "      <th>SG_UF</th>\n",
              "      <th>CD_MUNICIPIO</th>\n",
              "    </tr>\n",
              "  </thead>\n",
              "  <tbody>\n",
              "    <tr>\n",
              "      <th>271</th>\n",
              "      <td>Norte</td>\n",
              "      <td>ES</td>\n",
              "      <td>[320160, 320515, 320100, 320390, 320360, 32042...</td>\n",
              "    </tr>\n",
              "    <tr>\n",
              "      <th>272</th>\n",
              "      <td>Norte</td>\n",
              "      <td>GO</td>\n",
              "      <td>[521377, 521410, 522145, 522020, 520357, 52196...</td>\n",
              "    </tr>\n",
              "    <tr>\n",
              "      <th>273</th>\n",
              "      <td>Norte</td>\n",
              "      <td>RJ</td>\n",
              "      <td>[330240, 330500, 330475, 330093, 330415, 33048...</td>\n",
              "    </tr>\n",
              "  </tbody>\n",
              "</table>\n",
              "</div>"
            ],
            "text/plain": [
              "    NM_REGIAO_SAUDE_ATUAL  ...                                       CD_MUNICIPIO\n",
              "271                 Norte  ...  [320160, 320515, 320100, 320390, 320360, 32042...\n",
              "272                 Norte  ...  [521377, 521410, 522145, 522020, 520357, 52196...\n",
              "273                 Norte  ...  [330240, 330500, 330475, 330093, 330415, 33048...\n",
              "\n",
              "[3 rows x 3 columns]"
            ]
          },
          "metadata": {
            "tags": []
          },
          "execution_count": 22
        }
      ]
    },
    {
      "cell_type": "code",
      "metadata": {
        "id": "0xVNTErtmUHa",
        "colab_type": "code",
        "outputId": "21a11a97-4b47-4682-a3fc-71bb37dbf61b",
        "colab": {
          "base_uri": "https://localhost:8080/",
          "height": 92
        }
      },
      "source": [
        "teste['CD_MUNICIPIO'].str.len()"
      ],
      "execution_count": 23,
      "outputs": [
        {
          "output_type": "execute_result",
          "data": {
            "text/plain": [
              "271    14\n",
              "272    13\n",
              "273     8\n",
              "Name: CD_MUNICIPIO, dtype: int64"
            ]
          },
          "metadata": {
            "tags": []
          },
          "execution_count": 23
        }
      ]
    },
    {
      "cell_type": "code",
      "metadata": {
        "id": "Q9TrRaIu4eev",
        "colab_type": "code",
        "colab": {}
      },
      "source": [
        "teste = lista1[lista1['NM_REGIAO_SAUDE_ATUAL']=='Baixo Amazonas']"
      ],
      "execution_count": 0,
      "outputs": []
    },
    {
      "cell_type": "code",
      "metadata": {
        "id": "fIxLGNPO4qMt",
        "colab_type": "code",
        "outputId": "24f7d413-d627-4a0f-c19e-6bc3e9c68235",
        "colab": {
          "base_uri": "https://localhost:8080/",
          "height": 74
        }
      },
      "source": [
        "teste['CD_MUNICIPIO'].str.len()"
      ],
      "execution_count": 25,
      "outputs": [
        {
          "output_type": "execute_result",
          "data": {
            "text/plain": [
              "115     5\n",
              "116    14\n",
              "Name: CD_MUNICIPIO, dtype: int64"
            ]
          },
          "metadata": {
            "tags": []
          },
          "execution_count": 25
        }
      ]
    },
    {
      "cell_type": "code",
      "metadata": {
        "id": "ZfzL5cUNdqdt",
        "colab_type": "code",
        "colab": {}
      },
      "source": [
        "# verificar se tem regiões (ANTERIOR que abrangem mais de uma UF:\n",
        "# df_regioes.groupby(['NM_REGIAO_SAUDE_ANTERIOR', 'SG_UF']).size()\n",
        "df_unicos = df_regioes.drop_duplicates(subset=['NM_REGIAO_SAUDE_ANTERIOR', 'SG_UF'])"
      ],
      "execution_count": 0,
      "outputs": []
    },
    {
      "cell_type": "code",
      "metadata": {
        "id": "I5MEG6budrHS",
        "colab_type": "code",
        "outputId": "de1a830a-ad54-40ac-ec62-2830cb0081ff",
        "colab": {
          "base_uri": "https://localhost:8080/",
          "height": 36
        }
      },
      "source": [
        "df_unicos.shape  #362, 8"
      ],
      "execution_count": 27,
      "outputs": [
        {
          "output_type": "execute_result",
          "data": {
            "text/plain": [
              "(362, 8)"
            ]
          },
          "metadata": {
            "tags": []
          },
          "execution_count": 27
        }
      ]
    },
    {
      "cell_type": "code",
      "metadata": {
        "id": "C8k_4xvzd5Zr",
        "colab_type": "code",
        "outputId": "efdcdf5e-2a9e-4ec4-f0b4-a26562ea2fae",
        "colab": {
          "base_uri": "https://localhost:8080/",
          "height": 36
        }
      },
      "source": [
        "# Agrupa para selecionar Região de Saúde no DataFrame. Depois aplica o o metodo duplicated, para selecionar os efetivamente repetidos\n",
        "linhas_duplicadas = df_regioes.groupby(['NM_REGIAO_SAUDE_ANTERIOR', 'SG_UF'], as_index=False).count()\n",
        "linhas_duplicadas.shape # 358, 8"
      ],
      "execution_count": 28,
      "outputs": [
        {
          "output_type": "execute_result",
          "data": {
            "text/plain": [
              "(358, 8)"
            ]
          },
          "metadata": {
            "tags": []
          },
          "execution_count": 28
        }
      ]
    },
    {
      "cell_type": "code",
      "metadata": {
        "id": "-Kru85rkd59F",
        "colab_type": "code",
        "outputId": "2ce8854d-ef64-48cf-fa6a-acd26ca74c24",
        "colab": {
          "base_uri": "https://localhost:8080/",
          "height": 238
        }
      },
      "source": [
        "# Seleciona todas as linhas duplicadas baseadas em uma lista de colunas. O parametro keep é para exibir todos os repetidos e não o último ou primeiro\n",
        "linhas_duplicadas = linhas_duplicadas[linhas_duplicadas.duplicated(subset=['NM_REGIAO_SAUDE_ANTERIOR'], keep=False)]\n",
        "linhas_duplicadas.shape  #(17, 8)\n",
        "linhas_duplicadas\n",
        "# Análise: Observando o campo NM_REGIAO_SAUDE_ANTERIOR e SG_UF, observa-se que: As regiões repetidas e que são de UF's contíguas São: Baixo Amazonas (AM e PA).\n",
        "# O restante não são contíguas.\n"
      ],
      "execution_count": 29,
      "outputs": [
        {
          "output_type": "execute_result",
          "data": {
            "text/html": [
              "<div>\n",
              "<style scoped>\n",
              "    .dataframe tbody tr th:only-of-type {\n",
              "        vertical-align: middle;\n",
              "    }\n",
              "\n",
              "    .dataframe tbody tr th {\n",
              "        vertical-align: top;\n",
              "    }\n",
              "\n",
              "    .dataframe thead th {\n",
              "        text-align: right;\n",
              "    }\n",
              "</style>\n",
              "<table border=\"1\" class=\"dataframe\">\n",
              "  <thead>\n",
              "    <tr style=\"text-align: right;\">\n",
              "      <th></th>\n",
              "      <th>NM_REGIAO_SAUDE_ANTERIOR</th>\n",
              "      <th>SG_UF</th>\n",
              "      <th>CD_MUNICIPIO</th>\n",
              "      <th>NM_REGIAO_SAUDE_ATUAL</th>\n",
              "      <th>NM_MUNICIPIO</th>\n",
              "      <th>NM_MUNICIPIOS_IN_37</th>\n",
              "      <th>ESTADO</th>\n",
              "      <th>REGIAO_PAIS</th>\n",
              "    </tr>\n",
              "  </thead>\n",
              "  <tbody>\n",
              "    <tr>\n",
              "      <th>26</th>\n",
              "      <td>Baixo Amazonas</td>\n",
              "      <td>AM</td>\n",
              "      <td>5</td>\n",
              "      <td>5</td>\n",
              "      <td>5</td>\n",
              "      <td>5</td>\n",
              "      <td>5</td>\n",
              "      <td>5</td>\n",
              "    </tr>\n",
              "    <tr>\n",
              "      <th>27</th>\n",
              "      <td>Baixo Amazonas</td>\n",
              "      <td>PA</td>\n",
              "      <td>9</td>\n",
              "      <td>9</td>\n",
              "      <td>9</td>\n",
              "      <td>9</td>\n",
              "      <td>9</td>\n",
              "      <td>9</td>\n",
              "    </tr>\n",
              "    <tr>\n",
              "      <th>187</th>\n",
              "      <td>Metropolitana</td>\n",
              "      <td>PA</td>\n",
              "      <td>5</td>\n",
              "      <td>5</td>\n",
              "      <td>5</td>\n",
              "      <td>5</td>\n",
              "      <td>5</td>\n",
              "      <td>5</td>\n",
              "    </tr>\n",
              "    <tr>\n",
              "      <th>188</th>\n",
              "      <td>Metropolitana</td>\n",
              "      <td>PR</td>\n",
              "      <td>29</td>\n",
              "      <td>29</td>\n",
              "      <td>29</td>\n",
              "      <td>29</td>\n",
              "      <td>29</td>\n",
              "      <td>29</td>\n",
              "    </tr>\n",
              "    <tr>\n",
              "      <th>211</th>\n",
              "      <td>Norte</td>\n",
              "      <td>GO</td>\n",
              "      <td>13</td>\n",
              "      <td>13</td>\n",
              "      <td>13</td>\n",
              "      <td>13</td>\n",
              "      <td>13</td>\n",
              "      <td>13</td>\n",
              "    </tr>\n",
              "    <tr>\n",
              "      <th>212</th>\n",
              "      <td>Norte</td>\n",
              "      <td>RJ</td>\n",
              "      <td>8</td>\n",
              "      <td>8</td>\n",
              "      <td>8</td>\n",
              "      <td>8</td>\n",
              "      <td>8</td>\n",
              "      <td>8</td>\n",
              "    </tr>\n",
              "  </tbody>\n",
              "</table>\n",
              "</div>"
            ],
            "text/plain": [
              "    NM_REGIAO_SAUDE_ANTERIOR SG_UF  ...  ESTADO  REGIAO_PAIS\n",
              "26            Baixo Amazonas    AM  ...       5            5\n",
              "27            Baixo Amazonas    PA  ...       9            9\n",
              "187            Metropolitana    PA  ...       5            5\n",
              "188            Metropolitana    PR  ...      29           29\n",
              "211                    Norte    GO  ...      13           13\n",
              "212                    Norte    RJ  ...       8            8\n",
              "\n",
              "[6 rows x 8 columns]"
            ]
          },
          "metadata": {
            "tags": []
          },
          "execution_count": 29
        }
      ]
    },
    {
      "cell_type": "code",
      "metadata": {
        "id": "1OEi_TnJdriP",
        "colab_type": "code",
        "colab": {}
      },
      "source": [
        "# ================ FIM DOS TESTES ====================="
      ],
      "execution_count": 0,
      "outputs": []
    },
    {
      "cell_type": "code",
      "metadata": {
        "id": "ENAV0W9us19F",
        "colab_type": "code",
        "colab": {}
      },
      "source": [
        "# ========ROTINA INTERMEDIARIA================\n",
        "\n",
        "# Rotina para agregar a regiao 'Baixo Amazonas' das UF's: AM e PA, por tratar-se de região interestadual. Caso único.\n",
        "lista_aux1 = lista1[lista1['NM_REGIAO_SAUDE_ATUAL']=='Baixo Amazonas']\n",
        "lista_aux2 = lista2[lista2['NM_REGIAO_SAUDE_ANTERIOR']=='Baixo Amazonas']\n"
      ],
      "execution_count": 0,
      "outputs": []
    },
    {
      "cell_type": "code",
      "metadata": {
        "id": "skSKfpr9tLKp",
        "colab_type": "code",
        "colab": {
          "base_uri": "https://localhost:8080/",
          "height": 112
        },
        "outputId": "e5dcb356-7e97-46f3-f87a-9efac04e99da"
      },
      "source": [
        "lista_aux1.head()"
      ],
      "execution_count": 31,
      "outputs": [
        {
          "output_type": "execute_result",
          "data": {
            "text/html": [
              "<div>\n",
              "<style scoped>\n",
              "    .dataframe tbody tr th:only-of-type {\n",
              "        vertical-align: middle;\n",
              "    }\n",
              "\n",
              "    .dataframe tbody tr th {\n",
              "        vertical-align: top;\n",
              "    }\n",
              "\n",
              "    .dataframe thead th {\n",
              "        text-align: right;\n",
              "    }\n",
              "</style>\n",
              "<table border=\"1\" class=\"dataframe\">\n",
              "  <thead>\n",
              "    <tr style=\"text-align: right;\">\n",
              "      <th></th>\n",
              "      <th>NM_REGIAO_SAUDE_ATUAL</th>\n",
              "      <th>SG_UF</th>\n",
              "      <th>CD_MUNICIPIO</th>\n",
              "    </tr>\n",
              "  </thead>\n",
              "  <tbody>\n",
              "    <tr>\n",
              "      <th>115</th>\n",
              "      <td>Baixo Amazonas</td>\n",
              "      <td>AM</td>\n",
              "      <td>[130050, 130340, 130290, 130068, 130300]</td>\n",
              "    </tr>\n",
              "    <tr>\n",
              "      <th>116</th>\n",
              "      <td>Baixo Amazonas</td>\n",
              "      <td>PA</td>\n",
              "      <td>[150145, 150050, 150530, 150565, 150600, 15047...</td>\n",
              "    </tr>\n",
              "  </tbody>\n",
              "</table>\n",
              "</div>"
            ],
            "text/plain": [
              "    NM_REGIAO_SAUDE_ATUAL  ...                                       CD_MUNICIPIO\n",
              "115        Baixo Amazonas  ...           [130050, 130340, 130290, 130068, 130300]\n",
              "116        Baixo Amazonas  ...  [150145, 150050, 150530, 150565, 150600, 15047...\n",
              "\n",
              "[2 rows x 3 columns]"
            ]
          },
          "metadata": {
            "tags": []
          },
          "execution_count": 31
        }
      ]
    },
    {
      "cell_type": "code",
      "metadata": {
        "id": "NBCSM7L_tL1d",
        "colab_type": "code",
        "colab": {
          "base_uri": "https://localhost:8080/",
          "height": 112
        },
        "outputId": "ecf74dd7-04a0-42bf-b2dc-d7a9b2d7ddfb"
      },
      "source": [
        "lista_aux2.head()"
      ],
      "execution_count": 32,
      "outputs": [
        {
          "output_type": "execute_result",
          "data": {
            "text/html": [
              "<div>\n",
              "<style scoped>\n",
              "    .dataframe tbody tr th:only-of-type {\n",
              "        vertical-align: middle;\n",
              "    }\n",
              "\n",
              "    .dataframe tbody tr th {\n",
              "        vertical-align: top;\n",
              "    }\n",
              "\n",
              "    .dataframe thead th {\n",
              "        text-align: right;\n",
              "    }\n",
              "</style>\n",
              "<table border=\"1\" class=\"dataframe\">\n",
              "  <thead>\n",
              "    <tr style=\"text-align: right;\">\n",
              "      <th></th>\n",
              "      <th>NM_REGIAO_SAUDE_ANTERIOR</th>\n",
              "      <th>SG_UF</th>\n",
              "      <th>CD_MUNICIPIO</th>\n",
              "    </tr>\n",
              "  </thead>\n",
              "  <tbody>\n",
              "    <tr>\n",
              "      <th>26</th>\n",
              "      <td>Baixo Amazonas</td>\n",
              "      <td>AM</td>\n",
              "      <td>[130050, 130340, 130290, 130068, 130300]</td>\n",
              "    </tr>\n",
              "    <tr>\n",
              "      <th>27</th>\n",
              "      <td>Baixo Amazonas</td>\n",
              "      <td>PA</td>\n",
              "      <td>[150145, 150050, 150565, 150600, 150285, 15048...</td>\n",
              "    </tr>\n",
              "  </tbody>\n",
              "</table>\n",
              "</div>"
            ],
            "text/plain": [
              "   NM_REGIAO_SAUDE_ANTERIOR  ...                                       CD_MUNICIPIO\n",
              "26           Baixo Amazonas  ...           [130050, 130340, 130290, 130068, 130300]\n",
              "27           Baixo Amazonas  ...  [150145, 150050, 150565, 150600, 150285, 15048...\n",
              "\n",
              "[2 rows x 3 columns]"
            ]
          },
          "metadata": {
            "tags": []
          },
          "execution_count": 32
        }
      ]
    },
    {
      "cell_type": "code",
      "metadata": {
        "id": "iFo72MastWJj",
        "colab_type": "code",
        "colab": {}
      },
      "source": [
        "# uso do drop para SG_UF  para facilitar o gropuby por NM_REGIAO_SAUDE_ATUAL\n",
        "lista_aux1_new = lista_aux1.drop('SG_UF', axis=1)\n",
        "lista_aux2_new = lista_aux2.drop('SG_UF', axis=1)"
      ],
      "execution_count": 0,
      "outputs": []
    },
    {
      "cell_type": "code",
      "metadata": {
        "id": "fpYM3Jl8tYP_",
        "colab_type": "code",
        "colab": {}
      },
      "source": [
        "lista_aux1_fim = lista_aux1_new.groupby('NM_REGIAO_SAUDE_ATUAL')['CD_MUNICIPIO'].sum().reset_index()\n",
        "lista_aux2_fim = lista_aux2_new.groupby('NM_REGIAO_SAUDE_ANTERIOR')['CD_MUNICIPIO'].sum().reset_index()"
      ],
      "execution_count": 0,
      "outputs": []
    },
    {
      "cell_type": "code",
      "metadata": {
        "id": "UDsP5mfHtngd",
        "colab_type": "code",
        "colab": {
          "base_uri": "https://localhost:8080/",
          "height": 81
        },
        "outputId": "c52cefcf-9373-48a1-a12b-77a44b82f059"
      },
      "source": [
        "lista_aux1_fim.head()"
      ],
      "execution_count": 35,
      "outputs": [
        {
          "output_type": "execute_result",
          "data": {
            "text/html": [
              "<div>\n",
              "<style scoped>\n",
              "    .dataframe tbody tr th:only-of-type {\n",
              "        vertical-align: middle;\n",
              "    }\n",
              "\n",
              "    .dataframe tbody tr th {\n",
              "        vertical-align: top;\n",
              "    }\n",
              "\n",
              "    .dataframe thead th {\n",
              "        text-align: right;\n",
              "    }\n",
              "</style>\n",
              "<table border=\"1\" class=\"dataframe\">\n",
              "  <thead>\n",
              "    <tr style=\"text-align: right;\">\n",
              "      <th></th>\n",
              "      <th>NM_REGIAO_SAUDE_ATUAL</th>\n",
              "      <th>CD_MUNICIPIO</th>\n",
              "    </tr>\n",
              "  </thead>\n",
              "  <tbody>\n",
              "    <tr>\n",
              "      <th>0</th>\n",
              "      <td>Baixo Amazonas</td>\n",
              "      <td>[130050, 130340, 130290, 130068, 130300, 15014...</td>\n",
              "    </tr>\n",
              "  </tbody>\n",
              "</table>\n",
              "</div>"
            ],
            "text/plain": [
              "  NM_REGIAO_SAUDE_ATUAL                                       CD_MUNICIPIO\n",
              "0        Baixo Amazonas  [130050, 130340, 130290, 130068, 130300, 15014..."
            ]
          },
          "metadata": {
            "tags": []
          },
          "execution_count": 35
        }
      ]
    },
    {
      "cell_type": "code",
      "metadata": {
        "id": "iqpKX_T9toay",
        "colab_type": "code",
        "colab": {
          "base_uri": "https://localhost:8080/",
          "height": 81
        },
        "outputId": "6e5cfb44-f351-4a13-cce5-937b463555a9"
      },
      "source": [
        "lista_aux2_fim.head()"
      ],
      "execution_count": 36,
      "outputs": [
        {
          "output_type": "execute_result",
          "data": {
            "text/html": [
              "<div>\n",
              "<style scoped>\n",
              "    .dataframe tbody tr th:only-of-type {\n",
              "        vertical-align: middle;\n",
              "    }\n",
              "\n",
              "    .dataframe tbody tr th {\n",
              "        vertical-align: top;\n",
              "    }\n",
              "\n",
              "    .dataframe thead th {\n",
              "        text-align: right;\n",
              "    }\n",
              "</style>\n",
              "<table border=\"1\" class=\"dataframe\">\n",
              "  <thead>\n",
              "    <tr style=\"text-align: right;\">\n",
              "      <th></th>\n",
              "      <th>NM_REGIAO_SAUDE_ANTERIOR</th>\n",
              "      <th>CD_MUNICIPIO</th>\n",
              "    </tr>\n",
              "  </thead>\n",
              "  <tbody>\n",
              "    <tr>\n",
              "      <th>0</th>\n",
              "      <td>Baixo Amazonas</td>\n",
              "      <td>[130050, 130340, 130290, 130068, 130300, 15014...</td>\n",
              "    </tr>\n",
              "  </tbody>\n",
              "</table>\n",
              "</div>"
            ],
            "text/plain": [
              "  NM_REGIAO_SAUDE_ANTERIOR                                       CD_MUNICIPIO\n",
              "0           Baixo Amazonas  [130050, 130340, 130290, 130068, 130300, 15014..."
            ]
          },
          "metadata": {
            "tags": []
          },
          "execution_count": 36
        }
      ]
    },
    {
      "cell_type": "code",
      "metadata": {
        "id": "9gvYMT9RtEpD",
        "colab_type": "code",
        "colab": {
          "base_uri": "https://localhost:8080/",
          "height": 375
        },
        "outputId": "1fa5ec2d-abd9-4995-97fd-2f7ddd1ea2af"
      },
      "source": [
        "contar1 = list(lista_aux1_fim['CD_MUNICIPIO'])\n",
        "# len(lista_aux2_fim['CD_MUNICIPIO'])\n",
        "# Contar list of values within a pandas df\n",
        "# contar1 = [sum(a) for a in zip(*lista_aux1_fim['CD_MUNICIPIO'])]\n",
        "contar1"
      ],
      "execution_count": 65,
      "outputs": [
        {
          "output_type": "execute_result",
          "data": {
            "text/plain": [
              "[[130050,\n",
              "  130340,\n",
              "  130290,\n",
              "  130068,\n",
              "  130300,\n",
              "  150145,\n",
              "  150050,\n",
              "  150530,\n",
              "  150565,\n",
              "  150600,\n",
              "  150475,\n",
              "  150285,\n",
              "  150510,\n",
              "  150797,\n",
              "  150480,\n",
              "  150390,\n",
              "  150040,\n",
              "  150300,\n",
              "  150680]]"
            ]
          },
          "metadata": {
            "tags": []
          },
          "execution_count": 65
        }
      ]
    },
    {
      "cell_type": "code",
      "metadata": {
        "id": "nOeahVE61o7o",
        "colab_type": "code",
        "colab": {
          "base_uri": "https://localhost:8080/",
          "height": 36
        },
        "outputId": "95c4c1b5-d712-4ec8-a86d-cab5fc26126f"
      },
      "source": [
        "len(contar1)"
      ],
      "execution_count": 66,
      "outputs": [
        {
          "output_type": "execute_result",
          "data": {
            "text/plain": [
              "1"
            ]
          },
          "metadata": {
            "tags": []
          },
          "execution_count": 66
        }
      ]
    },
    {
      "cell_type": "code",
      "metadata": {
        "id": "XneNNtoYt0J3",
        "colab_type": "code",
        "colab": {}
      },
      "source": [
        "teste = lista1.copy()"
      ],
      "execution_count": 0,
      "outputs": []
    },
    {
      "cell_type": "code",
      "metadata": {
        "id": "Ml1c4p6Lt1e8",
        "colab_type": "code",
        "colab": {}
      },
      "source": [
        "#atualizacao somente da linha onde está o baixo amazonas. Não esquecer de deletar a outra linha. Baixo Amazonas (PA)\n",
        "teste.loc[teste['NM_REGIAO_SAUDE_ATUAL']=='Baixo Amazonas', 'CD_MUNICIPIO'] = contar1"
      ],
      "execution_count": 0,
      "outputs": []
    },
    {
      "cell_type": "code",
      "metadata": {
        "id": "zrzktKiey8lT",
        "colab_type": "code",
        "colab": {}
      },
      "source": [
        "teste = teste.drop(teste[(teste['NM_REGIAO_SAUDE_ATUAL']=='Baixo Amazonas') & (teste['SG_UF']=='PA')].index) # nao esquecer index\n",
        "# teste[teste['NM_REGIAO_SAUDE_ATUAL']=='Baixo Amazonas']\n",
        "# teste.head()"
      ],
      "execution_count": 0,
      "outputs": []
    },
    {
      "cell_type": "code",
      "metadata": {
        "id": "Moa_YBkn8i1s",
        "colab_type": "code",
        "colab": {
          "base_uri": "https://localhost:8080/",
          "height": 81
        },
        "outputId": "ca177c59-8b43-4023-e08a-a0364eccd827"
      },
      "source": [
        "teste[teste['NM_REGIAO_SAUDE_ATUAL']=='Baixo Amazonas']"
      ],
      "execution_count": 91,
      "outputs": [
        {
          "output_type": "execute_result",
          "data": {
            "text/html": [
              "<div>\n",
              "<style scoped>\n",
              "    .dataframe tbody tr th:only-of-type {\n",
              "        vertical-align: middle;\n",
              "    }\n",
              "\n",
              "    .dataframe tbody tr th {\n",
              "        vertical-align: top;\n",
              "    }\n",
              "\n",
              "    .dataframe thead th {\n",
              "        text-align: right;\n",
              "    }\n",
              "</style>\n",
              "<table border=\"1\" class=\"dataframe\">\n",
              "  <thead>\n",
              "    <tr style=\"text-align: right;\">\n",
              "      <th></th>\n",
              "      <th>NM_REGIAO_SAUDE_ATUAL</th>\n",
              "      <th>SG_UF</th>\n",
              "      <th>CD_MUNICIPIO</th>\n",
              "    </tr>\n",
              "  </thead>\n",
              "  <tbody>\n",
              "    <tr>\n",
              "      <th>115</th>\n",
              "      <td>Baixo Amazonas</td>\n",
              "      <td>AM</td>\n",
              "      <td>[130050, 130340, 130290, 130068, 130300, 15014...</td>\n",
              "    </tr>\n",
              "  </tbody>\n",
              "</table>\n",
              "</div>"
            ],
            "text/plain": [
              "    NM_REGIAO_SAUDE_ATUAL  ...                                       CD_MUNICIPIO\n",
              "115        Baixo Amazonas  ...  [130050, 130340, 130290, 130068, 130300, 15014...\n",
              "\n",
              "[1 rows x 3 columns]"
            ]
          },
          "metadata": {
            "tags": []
          },
          "execution_count": 91
        }
      ]
    },
    {
      "cell_type": "code",
      "metadata": {
        "id": "KQ57dfeffku-",
        "colab_type": "code",
        "colab": {}
      },
      "source": [
        "# =========================================\n",
        "# OPERAÇÕES DE CONCATENAÇÃO DAS LISTAS DE MUNICIPIOS EM LISTA POR REGIOES COM O DATAFRAME ORIGINAL"
      ],
      "execution_count": 0,
      "outputs": []
    },
    {
      "cell_type": "code",
      "metadata": {
        "id": "wBT5-uSOp_lg",
        "colab_type": "code",
        "colab": {}
      },
      "source": [
        "df_regioes_concat1 = pd.merge(df_regioes, lista1, how = 'left', left_on=['NM_REGIAO_SAUDE_ATUAL','SG_UF'], right_on=['NM_REGIAO_SAUDE_ATUAL','SG_UF'])\n",
        "# Agora concatenação com a Regiao anterior, na otica da lista 2\n",
        "df_regioes_concat2 = pd.merge(df_regioes, lista2, how = 'left', left_on=['NM_REGIAO_SAUDE_ANTERIOR','SG_UF'], right_on=['NM_REGIAO_SAUDE_ANTERIOR','SG_UF'])"
      ],
      "execution_count": 0,
      "outputs": []
    },
    {
      "cell_type": "code",
      "metadata": {
        "id": "u6YrTyzh5Jpg",
        "colab_type": "code",
        "colab": {}
      },
      "source": [
        "df_regioes_concat1.shape"
      ],
      "execution_count": 0,
      "outputs": []
    },
    {
      "cell_type": "code",
      "metadata": {
        "id": "0wgdl3q8qypw",
        "colab_type": "code",
        "colab": {}
      },
      "source": [
        "df_regioes_concat2.shape"
      ],
      "execution_count": 0,
      "outputs": []
    },
    {
      "cell_type": "code",
      "metadata": {
        "id": "9aRC_L-vq2Kl",
        "colab_type": "code",
        "colab": {}
      },
      "source": [
        "df_regioes_concat1.head()"
      ],
      "execution_count": 0,
      "outputs": []
    },
    {
      "cell_type": "code",
      "metadata": {
        "id": "aSoEsqugpiL0",
        "colab_type": "code",
        "colab": {}
      },
      "source": [
        "df_regioes_concat2.head()"
      ],
      "execution_count": 0,
      "outputs": []
    },
    {
      "cell_type": "code",
      "metadata": {
        "id": "0dLFVbUlqdIc",
        "colab_type": "code",
        "colab": {}
      },
      "source": [
        "# Renomear coluna que foi gerada na juncao do passo anterior\n",
        "df_regioes_concat1.rename(columns={'CD_MUNICIPIO_y':'lista_regiao_atual'}, inplace=True)\n",
        "df_regioes_concat2.rename(columns={'CD_MUNICIPIO_y':'lista_regiao_anterior'}, inplace=True)"
      ],
      "execution_count": 0,
      "outputs": []
    },
    {
      "cell_type": "code",
      "metadata": {
        "id": "_36KZTMhrG43",
        "colab_type": "code",
        "colab": {}
      },
      "source": [
        "# Verificar como os dataframes ficaram apos renomear coluna"
      ],
      "execution_count": 0,
      "outputs": []
    },
    {
      "cell_type": "code",
      "metadata": {
        "id": "sylkJ4IXIRhO",
        "colab_type": "code",
        "colab": {}
      },
      "source": [
        "df_regioes_concat1.head()"
      ],
      "execution_count": 0,
      "outputs": []
    },
    {
      "cell_type": "code",
      "metadata": {
        "id": "Xqp7BKTmqirC",
        "colab_type": "code",
        "colab": {}
      },
      "source": [
        "df_regioes_concat2.head()"
      ],
      "execution_count": 0,
      "outputs": []
    },
    {
      "cell_type": "code",
      "metadata": {
        "id": "s3CmOKh7p-gN",
        "colab_type": "code",
        "colab": {}
      },
      "source": [
        "# como são dois dataframes muito identicos em colunas, usei esta técnica para selecionar as do segundo dataframe que sejam diferentes\n",
        "colunas_mantidas = df_regioes_concat2.columns.difference(df_regioes_concat1.columns)"
      ],
      "execution_count": 0,
      "outputs": []
    },
    {
      "cell_type": "code",
      "metadata": {
        "id": "lIiqIYN0rdxb",
        "colab_type": "code",
        "colab": {}
      },
      "source": [
        "colunas_mantidas"
      ],
      "execution_count": 0,
      "outputs": []
    },
    {
      "cell_type": "code",
      "metadata": {
        "id": "QhAEee1yrlT5",
        "colab_type": "code",
        "colab": {}
      },
      "source": [
        "df_regioes_concat = pd.merge(df_regioes_concat1, df_regioes_concat2[colunas_mantidas], left_index=True, right_index=True, how='outer')"
      ],
      "execution_count": 0,
      "outputs": []
    },
    {
      "cell_type": "code",
      "metadata": {
        "id": "VNtYfPq8rx_W",
        "colab_type": "code",
        "colab": {}
      },
      "source": [
        "df_regioes_concat.rename(columns={'CD_MUNICIPIO_x':'CD_MUNICIPIO'}, inplace=True)"
      ],
      "execution_count": 0,
      "outputs": []
    },
    {
      "cell_type": "code",
      "metadata": {
        "id": "9B7LVcJWr5QR",
        "colab_type": "code",
        "colab": {}
      },
      "source": [
        "df_regioes_concat['flag_atual'] = np.where(df_regioes_concat['lista_regiao_atual'] == df_regioes_concat['lista_regiao_anterior'], 0, 1)"
      ],
      "execution_count": 0,
      "outputs": []
    },
    {
      "cell_type": "code",
      "metadata": {
        "id": "K7jc-xskCRIQ",
        "colab_type": "code",
        "colab": {}
      },
      "source": [
        "df_regioes_concat.head()"
      ],
      "execution_count": 0,
      "outputs": []
    },
    {
      "cell_type": "code",
      "metadata": {
        "id": "XWzIptVOtyFf",
        "colab_type": "code",
        "colab": {}
      },
      "source": [
        ""
      ],
      "execution_count": 0,
      "outputs": []
    },
    {
      "cell_type": "code",
      "metadata": {
        "id": "GfKUQuUeq3Dz",
        "colab_type": "code",
        "colab": {}
      },
      "source": [
        "# ============ PASSO PARA MERGE COM A TABLE DE MUNICIPIOS PARA AGREGAR CAMPOS DESTA TABELA"
      ],
      "execution_count": 0,
      "outputs": []
    },
    {
      "cell_type": "code",
      "metadata": {
        "id": "XutQdqBIq8m3",
        "colab_type": "code",
        "colab": {}
      },
      "source": [
        "df_municipios = pd.read_excel('AR_BR_RG_UF_MES_MIC_MUN_2018.xls')"
      ],
      "execution_count": 0,
      "outputs": []
    },
    {
      "cell_type": "code",
      "metadata": {
        "id": "3rKceEo0rBKq",
        "colab_type": "code",
        "colab": {}
      },
      "source": [
        "df_municipios.head()"
      ],
      "execution_count": 0,
      "outputs": []
    },
    {
      "cell_type": "code",
      "metadata": {
        "id": "Eb8jguGKrEgj",
        "colab_type": "code",
        "colab": {}
      },
      "source": [
        "df_municipios.dropna(axis=0, how='any', subset=['CD_GCMUN'], inplace=True)"
      ],
      "execution_count": 0,
      "outputs": []
    },
    {
      "cell_type": "code",
      "metadata": {
        "id": "-0SvMH0qrIiy",
        "colab_type": "code",
        "colab": {}
      },
      "source": [
        "df_municipios['CD_MUNICIPIO_NDV'] = df_municipios['CD_GCMUN'].astype(str).str[:6]"
      ],
      "execution_count": 0,
      "outputs": []
    },
    {
      "cell_type": "code",
      "metadata": {
        "id": "yLUpXFd3rgzm",
        "colab_type": "code",
        "colab": {}
      },
      "source": [
        "type(df_municipios['CD_MUNICIPIO_NDV'][0])"
      ],
      "execution_count": 0,
      "outputs": []
    },
    {
      "cell_type": "code",
      "metadata": {
        "id": "VWf-5EZRrnNJ",
        "colab_type": "code",
        "colab": {}
      },
      "source": [
        "df_regioes_concat['CD_MUNICIPIO'] = df_regioes_concat['CD_MUNICIPIO'].astype(str)"
      ],
      "execution_count": 0,
      "outputs": []
    },
    {
      "cell_type": "code",
      "metadata": {
        "id": "3JwW3qMNrsqG",
        "colab_type": "code",
        "colab": {}
      },
      "source": [
        "df_diferenca = pd.merge(df_regioes_concat, df_municipios, how = 'outer', left_on='CD_MUNICIPIO', right_on='CD_MUNICIPIO_NDV')"
      ],
      "execution_count": 0,
      "outputs": []
    },
    {
      "cell_type": "code",
      "metadata": {
        "id": "QGoMQYQTrwj6",
        "colab_type": "code",
        "colab": {}
      },
      "source": [
        "df_diferenca_qgis = df_diferenca[df_diferenca['flag_atual']==1]"
      ],
      "execution_count": 0,
      "outputs": []
    },
    {
      "cell_type": "code",
      "metadata": {
        "id": "lWUSKv-3sLYq",
        "colab_type": "code",
        "colab": {}
      },
      "source": [
        "df_regioes_concat.rename(columns={'SG_UF_x':'SG_UF'}, inplace=True)"
      ],
      "execution_count": 0,
      "outputs": []
    },
    {
      "cell_type": "code",
      "metadata": {
        "id": "-AZAVeW7Ds6N",
        "colab_type": "code",
        "colab": {}
      },
      "source": [
        "df_regioes_concat.to_excel('teste.xlsx')"
      ],
      "execution_count": 0,
      "outputs": []
    },
    {
      "cell_type": "code",
      "metadata": {
        "id": "fymVhojRsxci",
        "colab_type": "code",
        "colab": {}
      },
      "source": [
        "df_regioes_concat.head()"
      ],
      "execution_count": 0,
      "outputs": []
    },
    {
      "cell_type": "code",
      "metadata": {
        "id": "k1dLIAksr0JM",
        "colab_type": "code",
        "colab": {}
      },
      "source": [
        "resumo1 = df_regioes_concat[['SG_UF', 'NM_MUNICIPIO', 'NM_REGIAO_SAUDE_ATUAL']]"
      ],
      "execution_count": 0,
      "outputs": []
    },
    {
      "cell_type": "code",
      "metadata": {
        "id": "uYo9Gm5CtFR2",
        "colab_type": "code",
        "colab": {}
      },
      "source": [
        "df_reg_mesmos_municipios = df_regioes_concat[df_regioes_concat['flag_atual']==0]"
      ],
      "execution_count": 0,
      "outputs": []
    },
    {
      "cell_type": "code",
      "metadata": {
        "id": "Yp4gJBBotO3E",
        "colab_type": "code",
        "colab": {}
      },
      "source": [
        "df_reg_mesmos_municipios.shape"
      ],
      "execution_count": 0,
      "outputs": []
    },
    {
      "cell_type": "code",
      "metadata": {
        "id": "_7W8aY4ItifR",
        "colab_type": "code",
        "colab": {}
      },
      "source": [
        "municipios_sem_mudar_regiao = df_reg_mesmos_municipios.shape[0]"
      ],
      "execution_count": 0,
      "outputs": []
    },
    {
      "cell_type": "code",
      "metadata": {
        "id": "qDu6tKnMtnkb",
        "colab_type": "code",
        "colab": {}
      },
      "source": [
        "municipios_sem_mudar_regiao"
      ],
      "execution_count": 0,
      "outputs": []
    },
    {
      "cell_type": "code",
      "metadata": {
        "id": "1IfEY2Eet5Ms",
        "colab_type": "code",
        "colab": {}
      },
      "source": [
        "df_reg_mesmos_municipios.groupby('NM_REGIAO_SAUDE_ATUAL').count()"
      ],
      "execution_count": 0,
      "outputs": []
    },
    {
      "cell_type": "code",
      "metadata": {
        "id": "ybFgivCLuShD",
        "colab_type": "code",
        "colab": {}
      },
      "source": [
        "df_reg_mesmos_municipios.groupby('NM_REGIAO_SAUDE_ANTERIOR').count()"
      ],
      "execution_count": 0,
      "outputs": []
    },
    {
      "cell_type": "code",
      "metadata": {
        "id": "Wz4wpl3iumT0",
        "colab_type": "code",
        "colab": {}
      },
      "source": [
        "resumo2 = df_reg_mesmos_municipios.groupby(['NM_REGIAO_SAUDE_ATUAL','NM_REGIAO_SAUDE_ANTERIOR', 'SG_UF']).count()['CD_MUNICIPIO'].reset_index()"
      ],
      "execution_count": 0,
      "outputs": []
    },
    {
      "cell_type": "code",
      "metadata": {
        "id": "eX9acrCRusbP",
        "colab_type": "code",
        "colab": {}
      },
      "source": [
        "resumo2.sort_values('CD_MUNICIPIO', ascending=False, inplace=True)"
      ],
      "execution_count": 0,
      "outputs": []
    },
    {
      "cell_type": "code",
      "metadata": {
        "id": "2OfWVDxDuvrg",
        "colab_type": "code",
        "colab": {}
      },
      "source": [
        "resumo2"
      ],
      "execution_count": 0,
      "outputs": []
    },
    {
      "cell_type": "code",
      "metadata": {
        "id": "nj1cCx8bu29p",
        "colab_type": "code",
        "colab": {}
      },
      "source": [
        "df_regioes_concat.sort_values('SG_UF', ascending=True, inplace=True)"
      ],
      "execution_count": 0,
      "outputs": []
    },
    {
      "cell_type": "code",
      "metadata": {
        "id": "AhnsKSsIu6_U",
        "colab_type": "code",
        "colab": {}
      },
      "source": [
        "for row in df_regioes_concat.loc[df_regioes_concat['lista_regiao_anterior'].isnull(), 'lista_regiao_anterior'].index:\n",
        "    df_regioes_concat.at[row, 'lista_regiao_anterior'] = []"
      ],
      "execution_count": 0,
      "outputs": []
    },
    {
      "cell_type": "code",
      "metadata": {
        "id": "p2_06bvCvHDZ",
        "colab_type": "code",
        "colab": {}
      },
      "source": [
        "df_regioes_concat[df_regioes_concat['lista_regiao_anterior'].isnull()]"
      ],
      "execution_count": 0,
      "outputs": []
    },
    {
      "cell_type": "code",
      "metadata": {
        "id": "85zABSOavL8c",
        "colab_type": "code",
        "colab": {}
      },
      "source": [
        "df_regioes_concat['flag_municipio_entrou'] = df_regioes_concat['lista_regiao_atual'].map(set) - df_regioes_concat['lista_regiao_anterior'].map(set)"
      ],
      "execution_count": 0,
      "outputs": []
    },
    {
      "cell_type": "code",
      "metadata": {
        "id": "v74r5vaIvPur",
        "colab_type": "code",
        "colab": {}
      },
      "source": [
        "df_regioes_concat['flag_municipio_saiu'] = df_regioes_concat['lista_regiao_anterior'].map(set) - df_regioes_concat['lista_regiao_atual'].map(set)"
      ],
      "execution_count": 0,
      "outputs": []
    },
    {
      "cell_type": "code",
      "metadata": {
        "id": "p-xaZJusvTUa",
        "colab_type": "code",
        "colab": {}
      },
      "source": [
        "df_regioes_concat[df_regioes_concat['NM_REGIAO_SAUDE_ATUAL']=='Baixo Acre e Purus']"
      ],
      "execution_count": 0,
      "outputs": []
    },
    {
      "cell_type": "code",
      "metadata": {
        "id": "fMRmx0-X0aSi",
        "colab_type": "code",
        "colab": {}
      },
      "source": [
        "df_regioes_concat[df_regioes_concat['NM_REGIAO_SAUDE_ATUAL']=='Norte']"
      ],
      "execution_count": 0,
      "outputs": []
    },
    {
      "cell_type": "code",
      "metadata": {
        "id": "8PqtVIw1wP1P",
        "colab_type": "code",
        "colab": {}
      },
      "source": [
        "df_regioes_concat['cont_municipio_entrou'] = [len(x) for x in df_regioes_concat['flag_municipio_entrou']]"
      ],
      "execution_count": 0,
      "outputs": []
    },
    {
      "cell_type": "code",
      "metadata": {
        "id": "gMhQO_Wz0Yv0",
        "colab_type": "code",
        "colab": {}
      },
      "source": [
        ""
      ],
      "execution_count": 0,
      "outputs": []
    },
    {
      "cell_type": "code",
      "metadata": {
        "id": "W-XtGyvjwVTa",
        "colab_type": "code",
        "colab": {}
      },
      "source": [
        "df_regioes_concat['cont_municipio_saiu'] = [len(x) for x in df_regioes_concat['flag_municipio_saiu']]"
      ],
      "execution_count": 0,
      "outputs": []
    },
    {
      "cell_type": "code",
      "metadata": {
        "id": "AbNrvAorwYYQ",
        "colab_type": "code",
        "colab": {}
      },
      "source": [
        "df_regioes_concat[(df_regioes_concat['flag_atual']==0)&(df_regioes_concat['cont_municipio_entrou']>1)]"
      ],
      "execution_count": 0,
      "outputs": []
    },
    {
      "cell_type": "code",
      "metadata": {
        "id": "roDqllx4wg8W",
        "colab_type": "code",
        "colab": {}
      },
      "source": [
        "df_regioes_concat[(df_regioes_concat['flag_atual']==0)&(df_regioes_concat['cont_municipio_saiu']>1)]"
      ],
      "execution_count": 0,
      "outputs": []
    },
    {
      "cell_type": "code",
      "metadata": {
        "id": "L9xVdIUPwujD",
        "colab_type": "code",
        "colab": {}
      },
      "source": [
        "df_estatistica_entrada = df_regioes_concat[(df_regioes_concat['flag_atual']==1)&(df_regioes_concat['cont_municipio_entrou']!=0)]"
      ],
      "execution_count": 0,
      "outputs": []
    },
    {
      "cell_type": "code",
      "metadata": {
        "id": "S9wKcdExw7TT",
        "colab_type": "code",
        "colab": {}
      },
      "source": [
        "df_estatistica_entrada.shape"
      ],
      "execution_count": 0,
      "outputs": []
    },
    {
      "cell_type": "code",
      "metadata": {
        "id": "vFPZ80UBxRCL",
        "colab_type": "code",
        "colab": {}
      },
      "source": [
        "df_result_atual = df_estatistica_entrada.groupby(['SG_UF','NM_REGIAO_SAUDE_ATUAL'])['cont_municipio_entrou', 'cont_municipio_saiu'].agg(['count','min','max','mean']).reset_index()"
      ],
      "execution_count": 0,
      "outputs": []
    },
    {
      "cell_type": "code",
      "metadata": {
        "id": "wTTV9viYxTEz",
        "colab_type": "code",
        "colab": {}
      },
      "source": [
        "df_result_atual"
      ],
      "execution_count": 0,
      "outputs": []
    },
    {
      "cell_type": "code",
      "metadata": {
        "id": "Sc8u-54LxfBM",
        "colab_type": "code",
        "colab": {}
      },
      "source": [
        "df_result_anterior = df_estatistica_entrada.groupby(['SG_UF','NM_REGIAO_SAUDE_ANTERIOR'])['cont_municipio_entrou', 'cont_municipio_saiu'].agg(['count','min','max','mean']).reset_index()"
      ],
      "execution_count": 0,
      "outputs": []
    },
    {
      "cell_type": "code",
      "metadata": {
        "id": "RolKARk6xfZ7",
        "colab_type": "code",
        "colab": {}
      },
      "source": [
        "df_result_anterior.head()"
      ],
      "execution_count": 0,
      "outputs": []
    },
    {
      "cell_type": "code",
      "metadata": {
        "id": "5JFpv55ixlsd",
        "colab_type": "code",
        "colab": {}
      },
      "source": [
        "df_result_atual.to_excel('resultado_atual.xlsx')"
      ],
      "execution_count": 0,
      "outputs": []
    },
    {
      "cell_type": "code",
      "metadata": {
        "id": "8MPuZ4GXxlY4",
        "colab_type": "code",
        "colab": {}
      },
      "source": [
        "df_result_anterior.to_excel('resultado_anterior.xlsx')"
      ],
      "execution_count": 0,
      "outputs": []
    },
    {
      "cell_type": "code",
      "metadata": {
        "id": "O39-_gtzxlFk",
        "colab_type": "code",
        "colab": {}
      },
      "source": [
        "df_estatistica_entrada.to_excel('resumo_geral_movimentacao.xlsx')"
      ],
      "execution_count": 0,
      "outputs": []
    },
    {
      "cell_type": "code",
      "metadata": {
        "id": "hlJjMPOKUUaT",
        "colab_type": "code",
        "colab": {}
      },
      "source": [
        "# Sum list of values within a pandas df\n",
        "# df = [sum(a) for a in zip(*df['Val'])]"
      ],
      "execution_count": 0,
      "outputs": []
    }
  ]
}